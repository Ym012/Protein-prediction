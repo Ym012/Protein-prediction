{
 "cells": [
  {
   "cell_type": "markdown",
   "id": "81190b4b",
   "metadata": {},
   "source": [
    "# Importing, cleaning and exploring data\n",
    "\n",
    "Data source: https://www.kaggle.com/competitions/cafa-5-protein-function-prediction/data\n",
    "Evaluation metrics: https://www.kaggle.com/competitions/cafa-5-protein-function-prediction/overview/evaluation\n"
   ]
  },
  {
   "cell_type": "markdown",
   "id": "d9eade9c",
   "metadata": {},
   "source": [
    "First, run the following code in the conda environment to prevent exceeding the IOPub data rate for loading fasta files and then reopen the kernel:\n",
    "\n",
    "jupyter notebook --NotebookApp.iopub_data_rate_limit=1.0e8\n",
    "\n",
    "And make sure all packages are installed:\n",
    "- pip install biopython\n",
    "- pip install pandas\n",
    "- pip install obonet\n"
   ]
  },
  {
   "cell_type": "code",
   "execution_count": 208,
   "id": "7b058a56",
   "metadata": {},
   "outputs": [],
   "source": [
    "# load packages\n",
    "from Bio import SeqIO\n",
    "import pandas as pd\n",
    "import obonet as obo\n",
    "import matplotlib.pyplot as plt"
   ]
  },
  {
   "cell_type": "markdown",
   "id": "51ea3e08",
   "metadata": {},
   "source": [
    "# go-basic.obo\n",
    "includes the ontology graph structure for each GO term.\n",
    "\n",
    "This part of the training set contains data for Molecular Function (MF), Biological Process (BP) or Cellular Component (CC) subontologies of GO, which is what will be predicted for the test set. "
   ]
  },
  {
   "cell_type": "code",
   "execution_count": 209,
   "id": "8e71172e",
   "metadata": {},
   "outputs": [
    {
     "data": {
      "text/html": [
       "<div>\n",
       "<style scoped>\n",
       "    .dataframe tbody tr th:only-of-type {\n",
       "        vertical-align: middle;\n",
       "    }\n",
       "\n",
       "    .dataframe tbody tr th {\n",
       "        vertical-align: top;\n",
       "    }\n",
       "\n",
       "    .dataframe thead th {\n",
       "        text-align: right;\n",
       "    }\n",
       "</style>\n",
       "<table border=\"1\" class=\"dataframe\">\n",
       "  <thead>\n",
       "    <tr style=\"text-align: right;\">\n",
       "      <th></th>\n",
       "      <th>term</th>\n",
       "      <th>name</th>\n",
       "      <th>namespace</th>\n",
       "    </tr>\n",
       "  </thead>\n",
       "  <tbody>\n",
       "    <tr>\n",
       "      <th>6729</th>\n",
       "      <td>GO:0009954</td>\n",
       "      <td>proximal/distal pattern formation</td>\n",
       "      <td>biological_process</td>\n",
       "    </tr>\n",
       "    <tr>\n",
       "      <th>34899</th>\n",
       "      <td>GO:0120290</td>\n",
       "      <td>stalled replication fork localization to nucle...</td>\n",
       "      <td>biological_process</td>\n",
       "    </tr>\n",
       "    <tr>\n",
       "      <th>8685</th>\n",
       "      <td>GO:0016052</td>\n",
       "      <td>carbohydrate catabolic process</td>\n",
       "      <td>biological_process</td>\n",
       "    </tr>\n",
       "    <tr>\n",
       "      <th>31413</th>\n",
       "      <td>GO:0090482</td>\n",
       "      <td>vitamin transmembrane transporter activity</td>\n",
       "      <td>molecular_function</td>\n",
       "    </tr>\n",
       "    <tr>\n",
       "      <th>15248</th>\n",
       "      <td>GO:0034018</td>\n",
       "      <td>ascopyrone tautomerase activity</td>\n",
       "      <td>molecular_function</td>\n",
       "    </tr>\n",
       "    <tr>\n",
       "      <th>11541</th>\n",
       "      <td>GO:0021935</td>\n",
       "      <td>cerebellar granule cell precursor tangential m...</td>\n",
       "      <td>biological_process</td>\n",
       "    </tr>\n",
       "    <tr>\n",
       "      <th>16336</th>\n",
       "      <td>GO:0035197</td>\n",
       "      <td>siRNA binding</td>\n",
       "      <td>molecular_function</td>\n",
       "    </tr>\n",
       "    <tr>\n",
       "      <th>8765</th>\n",
       "      <td>GO:0016145</td>\n",
       "      <td>S-glycoside catabolic process</td>\n",
       "      <td>biological_process</td>\n",
       "    </tr>\n",
       "    <tr>\n",
       "      <th>31796</th>\n",
       "      <td>GO:0097158</td>\n",
       "      <td>pre-mRNA intronic pyrimidine-rich binding</td>\n",
       "      <td>molecular_function</td>\n",
       "    </tr>\n",
       "    <tr>\n",
       "      <th>36195</th>\n",
       "      <td>GO:1900340</td>\n",
       "      <td>negative regulation of methane biosynthetic pr...</td>\n",
       "      <td>biological_process</td>\n",
       "    </tr>\n",
       "  </tbody>\n",
       "</table>\n",
       "</div>"
      ],
      "text/plain": [
       "             term                                               name  \\\n",
       "6729   GO:0009954                  proximal/distal pattern formation   \n",
       "34899  GO:0120290  stalled replication fork localization to nucle...   \n",
       "8685   GO:0016052                     carbohydrate catabolic process   \n",
       "31413  GO:0090482         vitamin transmembrane transporter activity   \n",
       "15248  GO:0034018                    ascopyrone tautomerase activity   \n",
       "11541  GO:0021935  cerebellar granule cell precursor tangential m...   \n",
       "16336  GO:0035197                                      siRNA binding   \n",
       "8765   GO:0016145                      S-glycoside catabolic process   \n",
       "31796  GO:0097158          pre-mRNA intronic pyrimidine-rich binding   \n",
       "36195  GO:1900340  negative regulation of methane biosynthetic pr...   \n",
       "\n",
       "                namespace  \n",
       "6729   biological_process  \n",
       "34899  biological_process  \n",
       "8685   biological_process  \n",
       "31413  molecular_function  \n",
       "15248  molecular_function  \n",
       "11541  biological_process  \n",
       "16336  molecular_function  \n",
       "8765   biological_process  \n",
       "31796  molecular_function  \n",
       "36195  biological_process  "
      ]
     },
     "execution_count": 209,
     "metadata": {},
     "output_type": "execute_result"
    }
   ],
   "source": [
    "# import go-basic.obo\n",
    "graph = obo.read_obo('cafa-5-protein-function-prediction/Train/go-basic.obo')\n",
    "\n",
    "# Convert the graph to a DataFrame and reset the index\n",
    "go = pd.DataFrame.from_dict(graph.nodes, orient='index').reset_index()\n",
    "go = go.rename(columns={go.columns[0]: 'term'})\n",
    "\n",
    "# Keep only important columns\n",
    "go = go[['term', 'name', 'namespace']]\n",
    "go.sample(10)"
   ]
  },
  {
   "cell_type": "code",
   "execution_count": 210,
   "id": "892f1043",
   "metadata": {},
   "outputs": [
    {
     "data": {
      "text/html": [
       "<div>\n",
       "<style scoped>\n",
       "    .dataframe tbody tr th:only-of-type {\n",
       "        vertical-align: middle;\n",
       "    }\n",
       "\n",
       "    .dataframe tbody tr th {\n",
       "        vertical-align: top;\n",
       "    }\n",
       "\n",
       "    .dataframe thead th {\n",
       "        text-align: right;\n",
       "    }\n",
       "</style>\n",
       "<table border=\"1\" class=\"dataframe\">\n",
       "  <thead>\n",
       "    <tr style=\"text-align: right;\">\n",
       "      <th></th>\n",
       "      <th>term</th>\n",
       "      <th>name</th>\n",
       "      <th>namespace</th>\n",
       "    </tr>\n",
       "  </thead>\n",
       "  <tbody>\n",
       "    <tr>\n",
       "      <th>count</th>\n",
       "      <td>43248</td>\n",
       "      <td>43248</td>\n",
       "      <td>43248</td>\n",
       "    </tr>\n",
       "    <tr>\n",
       "      <th>unique</th>\n",
       "      <td>43248</td>\n",
       "      <td>43248</td>\n",
       "      <td>3</td>\n",
       "    </tr>\n",
       "    <tr>\n",
       "      <th>top</th>\n",
       "      <td>GO:0000001</td>\n",
       "      <td>mitochondrion inheritance</td>\n",
       "      <td>biological_process</td>\n",
       "    </tr>\n",
       "    <tr>\n",
       "      <th>freq</th>\n",
       "      <td>1</td>\n",
       "      <td>1</td>\n",
       "      <td>27942</td>\n",
       "    </tr>\n",
       "  </tbody>\n",
       "</table>\n",
       "</div>"
      ],
      "text/plain": [
       "              term                       name           namespace\n",
       "count        43248                      43248               43248\n",
       "unique       43248                      43248                   3\n",
       "top     GO:0000001  mitochondrion inheritance  biological_process\n",
       "freq             1                          1               27942"
      ]
     },
     "execution_count": 210,
     "metadata": {},
     "output_type": "execute_result"
    }
   ],
   "source": [
    "go.describe()"
   ]
  },
  {
   "cell_type": "code",
   "execution_count": 211,
   "id": "7c3731c6",
   "metadata": {},
   "outputs": [
    {
     "name": "stdout",
     "output_type": "stream",
     "text": [
      "go: \n",
      " term         0\n",
      "name         0\n",
      "namespace    0\n",
      "dtype: int64\n"
     ]
    }
   ],
   "source": [
    "# check for missing data\n",
    "print('go: \\n', go.isna().sum())"
   ]
  },
  {
   "cell_type": "code",
   "execution_count": 212,
   "id": "2f8fb233",
   "metadata": {},
   "outputs": [
    {
     "name": "stdout",
     "output_type": "stream",
     "text": [
      "All names are unique.\n"
     ]
    }
   ],
   "source": [
    "# Check for duplicate names in the 'Name' column\n",
    "duplicates_go = go['term'].duplicated()\n",
    "\n",
    "if duplicates_go.any():\n",
    "    print(\"There are entries with the same name.\")\n",
    "else:\n",
    "    print(\"All names are unique.\")"
   ]
  },
  {
   "cell_type": "code",
   "execution_count": 213,
   "id": "15608e7d",
   "metadata": {},
   "outputs": [
    {
     "name": "stdout",
     "output_type": "stream",
     "text": [
      "All names are unique.\n"
     ]
    }
   ],
   "source": [
    "duplicates_name = go['name'].duplicated()\n",
    "\n",
    "if duplicates_name.any():\n",
    "    print(\"There are entries with the same name.\")\n",
    "else:\n",
    "    print(\"All names are unique.\")"
   ]
  },
  {
   "cell_type": "code",
   "execution_count": 214,
   "id": "95568aa9",
   "metadata": {},
   "outputs": [
    {
     "data": {
      "image/png": "[encoded data removed]",
      "text/plain": [
       "<Figure size 400x400 with 1 Axes>"
      ]
     },
     "metadata": {},
     "output_type": "display_data"
    }
   ],
   "source": [
    "namespace_counts = go['namespace'].value_counts()\n",
    "plt.figure(figsize=(4, 4))\n",
    "namespace_counts.plot(kind='bar')\n",
    "bar_plot = namespace_counts.plot(kind='bar')\n",
    "plt.ylabel('Count')\n",
    "plt.title('Counts of GO Subontologies')\n",
    "plt.xticks(rotation = 20)\n",
    "for index, value in enumerate(namespace_counts):\n",
    "    bar_plot.text(index, value, str(value), ha='center', va='bottom')\n",
    "plt.show()"
   ]
  },
  {
   "cell_type": "markdown",
   "id": "079b6b5b",
   "metadata": {},
   "source": [
    "# train_sequences.fasta\n",
    "includes the amino acid sequences for proteins in training set."
   ]
  },
  {
   "cell_type": "code",
   "execution_count": 215,
   "id": "a7332e67",
   "metadata": {},
   "outputs": [
    {
     "data": {
      "text/html": [
       "<div>\n",
       "<style scoped>\n",
       "    .dataframe tbody tr th:only-of-type {\n",
       "        vertical-align: middle;\n",
       "    }\n",
       "\n",
       "    .dataframe tbody tr th {\n",
       "        vertical-align: top;\n",
       "    }\n",
       "\n",
       "    .dataframe thead th {\n",
       "        text-align: right;\n",
       "    }\n",
       "</style>\n",
       "<table border=\"1\" class=\"dataframe\">\n",
       "  <thead>\n",
       "    <tr style=\"text-align: right;\">\n",
       "      <th></th>\n",
       "      <th>EntryID</th>\n",
       "      <th>sequence</th>\n",
       "    </tr>\n",
       "  </thead>\n",
       "  <tbody>\n",
       "    <tr>\n",
       "      <th>0</th>\n",
       "      <td>P20536</td>\n",
       "      <td>MNSVTVSHAPYTITYHDDWEPVMSQLVEFYNEVASWLLRDETSPIP...</td>\n",
       "    </tr>\n",
       "    <tr>\n",
       "      <th>1</th>\n",
       "      <td>O73864</td>\n",
       "      <td>MTEYRNFLLLFITSLSVIYPCTGISWLGLTINGSSVGWNQTHHCKL...</td>\n",
       "    </tr>\n",
       "    <tr>\n",
       "      <th>2</th>\n",
       "      <td>O95231</td>\n",
       "      <td>MRLSSSPPRGPQQLSSFGSVDWLSQSSCSGPTHTPRPADFSLGSLP...</td>\n",
       "    </tr>\n",
       "    <tr>\n",
       "      <th>3</th>\n",
       "      <td>A0A0B4J1F4</td>\n",
       "      <td>MGGEAGADGPRGRVKSLGLVFEDESKGCYSSGETVAGHVLLEAAEP...</td>\n",
       "    </tr>\n",
       "    <tr>\n",
       "      <th>4</th>\n",
       "      <td>P54366</td>\n",
       "      <td>MVETNSPPAGYTLKRSPSDLGEQQQPPRQISRSPGNTAAYHLTTAM...</td>\n",
       "    </tr>\n",
       "  </tbody>\n",
       "</table>\n",
       "</div>"
      ],
      "text/plain": [
       "      EntryID                                           sequence\n",
       "0      P20536  MNSVTVSHAPYTITYHDDWEPVMSQLVEFYNEVASWLLRDETSPIP...\n",
       "1      O73864  MTEYRNFLLLFITSLSVIYPCTGISWLGLTINGSSVGWNQTHHCKL...\n",
       "2      O95231  MRLSSSPPRGPQQLSSFGSVDWLSQSSCSGPTHTPRPADFSLGSLP...\n",
       "3  A0A0B4J1F4  MGGEAGADGPRGRVKSLGLVFEDESKGCYSSGETVAGHVLLEAAEP...\n",
       "4      P54366  MVETNSPPAGYTLKRSPSDLGEQQQPPRQISRSPGNTAAYHLTTAM..."
      ]
     },
     "execution_count": 215,
     "metadata": {},
     "output_type": "execute_result"
    }
   ],
   "source": [
    "# import train_sequences.fasta\n",
    "\n",
    "fasta_train = 'cafa-5-protein-function-prediction/Train/train_sequences.fasta'\n",
    "\n",
    "train_sequences = []\n",
    "\n",
    "# Open the FASTA file and iterate over each record\n",
    "for record in SeqIO.parse(fasta_train, \"fasta\"):\n",
    "    # Retrieve the sequence ID and sequence\n",
    "    seq_id = record.id\n",
    "    sequence = str(record.seq)\n",
    "    \n",
    "    # Append the sequence ID and sequence as a tuple to the list\n",
    "    train_sequences.append((seq_id, sequence))\n",
    "\n",
    "# convert to dataframe\n",
    "trainset = pd.DataFrame(train_sequences, columns=['EntryID', 'sequence'])\n",
    "trainset.head()"
   ]
  },
  {
   "cell_type": "code",
   "execution_count": 216,
   "id": "eea678b2",
   "metadata": {},
   "outputs": [
    {
     "name": "stdout",
     "output_type": "stream",
     "text": [
      "trainset: \n",
      " EntryID     0\n",
      "sequence    0\n",
      "dtype: int64\n"
     ]
    }
   ],
   "source": [
    "# check for missing data\n",
    "print('trainset: \\n', trainset.isna().sum())"
   ]
  },
  {
   "cell_type": "markdown",
   "id": "d31c486b",
   "metadata": {},
   "source": [
    "# train_taxonomy.tsv\n",
    "includes the taxon ID for the proteins in training set."
   ]
  },
  {
   "cell_type": "code",
   "execution_count": 217,
   "id": "ba1437e9",
   "metadata": {
    "scrolled": true
   },
   "outputs": [
    {
     "data": {
      "text/html": [
       "<div>\n",
       "<style scoped>\n",
       "    .dataframe tbody tr th:only-of-type {\n",
       "        vertical-align: middle;\n",
       "    }\n",
       "\n",
       "    .dataframe tbody tr th {\n",
       "        vertical-align: top;\n",
       "    }\n",
       "\n",
       "    .dataframe thead th {\n",
       "        text-align: right;\n",
       "    }\n",
       "</style>\n",
       "<table border=\"1\" class=\"dataframe\">\n",
       "  <thead>\n",
       "    <tr style=\"text-align: right;\">\n",
       "      <th></th>\n",
       "      <th>EntryID</th>\n",
       "      <th>taxonomyID</th>\n",
       "    </tr>\n",
       "  </thead>\n",
       "  <tbody>\n",
       "    <tr>\n",
       "      <th>122711</th>\n",
       "      <td>Q726E7</td>\n",
       "      <td>882</td>\n",
       "    </tr>\n",
       "    <tr>\n",
       "      <th>82974</th>\n",
       "      <td>A0A024RBQ3</td>\n",
       "      <td>9606</td>\n",
       "    </tr>\n",
       "    <tr>\n",
       "      <th>51943</th>\n",
       "      <td>Q386V1</td>\n",
       "      <td>185431</td>\n",
       "    </tr>\n",
       "    <tr>\n",
       "      <th>72440</th>\n",
       "      <td>P84826</td>\n",
       "      <td>8439</td>\n",
       "    </tr>\n",
       "    <tr>\n",
       "      <th>49798</th>\n",
       "      <td>C1BG59</td>\n",
       "      <td>8022</td>\n",
       "    </tr>\n",
       "  </tbody>\n",
       "</table>\n",
       "</div>"
      ],
      "text/plain": [
       "           EntryID  taxonomyID\n",
       "122711      Q726E7         882\n",
       "82974   A0A024RBQ3        9606\n",
       "51943       Q386V1      185431\n",
       "72440       P84826        8439\n",
       "49798       C1BG59        8022"
      ]
     },
     "execution_count": 217,
     "metadata": {},
     "output_type": "execute_result"
    }
   ],
   "source": [
    "# import train_taxonomy.tsv\n",
    "train_taxon_ID = pd.read_csv(\"cafa-5-protein-function-prediction/Train/train_taxonomy.tsv\", sep=\"\\t\")\n",
    "train_taxon_ID.sample(5)"
   ]
  },
  {
   "cell_type": "code",
   "execution_count": 218,
   "id": "2bfb6ed7",
   "metadata": {},
   "outputs": [
    {
     "name": "stdout",
     "output_type": "stream",
     "text": [
      "train_taxon_ID: \n",
      " EntryID       0\n",
      "taxonomyID    0\n",
      "dtype: int64\n"
     ]
    }
   ],
   "source": [
    "# check for missing data\n",
    "print('train_taxon_ID: \\n', train_taxon_ID.isna().sum())"
   ]
  },
  {
   "cell_type": "markdown",
   "id": "8c92e029",
   "metadata": {},
   "source": [
    "# train_terms.tsv\n",
    "includes the training set of proteins and corresponding annotated GO terms."
   ]
  },
  {
   "cell_type": "code",
   "execution_count": 219,
   "id": "8745757c",
   "metadata": {},
   "outputs": [
    {
     "data": {
      "text/html": [
       "<div>\n",
       "<style scoped>\n",
       "    .dataframe tbody tr th:only-of-type {\n",
       "        vertical-align: middle;\n",
       "    }\n",
       "\n",
       "    .dataframe tbody tr th {\n",
       "        vertical-align: top;\n",
       "    }\n",
       "\n",
       "    .dataframe thead th {\n",
       "        text-align: right;\n",
       "    }\n",
       "</style>\n",
       "<table border=\"1\" class=\"dataframe\">\n",
       "  <thead>\n",
       "    <tr style=\"text-align: right;\">\n",
       "      <th></th>\n",
       "      <th>EntryID</th>\n",
       "      <th>term</th>\n",
       "      <th>aspect</th>\n",
       "    </tr>\n",
       "  </thead>\n",
       "  <tbody>\n",
       "    <tr>\n",
       "      <th>2878573</th>\n",
       "      <td>Q99220</td>\n",
       "      <td>GO:0019941</td>\n",
       "      <td>BPO</td>\n",
       "    </tr>\n",
       "    <tr>\n",
       "      <th>4642082</th>\n",
       "      <td>Q9VLS5</td>\n",
       "      <td>GO:0043231</td>\n",
       "      <td>CCO</td>\n",
       "    </tr>\n",
       "    <tr>\n",
       "      <th>3062931</th>\n",
       "      <td>Q9JI12</td>\n",
       "      <td>GO:0048880</td>\n",
       "      <td>BPO</td>\n",
       "    </tr>\n",
       "    <tr>\n",
       "      <th>4130643</th>\n",
       "      <td>Q15084</td>\n",
       "      <td>GO:0043230</td>\n",
       "      <td>CCO</td>\n",
       "    </tr>\n",
       "    <tr>\n",
       "      <th>1202861</th>\n",
       "      <td>P25962</td>\n",
       "      <td>GO:0097746</td>\n",
       "      <td>BPO</td>\n",
       "    </tr>\n",
       "  </tbody>\n",
       "</table>\n",
       "</div>"
      ],
      "text/plain": [
       "        EntryID        term aspect\n",
       "2878573  Q99220  GO:0019941    BPO\n",
       "4642082  Q9VLS5  GO:0043231    CCO\n",
       "3062931  Q9JI12  GO:0048880    BPO\n",
       "4130643  Q15084  GO:0043230    CCO\n",
       "1202861  P25962  GO:0097746    BPO"
      ]
     },
     "execution_count": 219,
     "metadata": {},
     "output_type": "execute_result"
    }
   ],
   "source": [
    "# import train_terms.tsv\n",
    "train_terms = pd.read_csv(\"cafa-5-protein-function-prediction/Train/train_terms.tsv\", sep=\"\\t\")\n",
    "train_terms.sample(5)"
   ]
  },
  {
   "cell_type": "code",
   "execution_count": 220,
   "id": "ba6ae9d1",
   "metadata": {},
   "outputs": [
    {
     "name": "stdout",
     "output_type": "stream",
     "text": [
      "There are entries with the same name.\n"
     ]
    }
   ],
   "source": [
    "# Check for duplicate names in the 'Name' column\n",
    "duplicates_EntryID = train_terms['EntryID'].duplicated()\n",
    "\n",
    "if duplicates_EntryID.any():\n",
    "    print(\"There are entries with the same name.\")\n",
    "else:\n",
    "    print(\"All names are unique.\")"
   ]
  },
  {
   "cell_type": "code",
   "execution_count": 221,
   "id": "2dee8968",
   "metadata": {},
   "outputs": [
    {
     "name": "stdout",
     "output_type": "stream",
     "text": [
      "train_terms: \n",
      " EntryID    0\n",
      "term       0\n",
      "aspect     0\n",
      "dtype: int64\n"
     ]
    }
   ],
   "source": [
    "# check for missing data\n",
    "print('train_terms: \\n', train_terms.isna().sum())"
   ]
  },
  {
   "cell_type": "markdown",
   "id": "5fdada63",
   "metadata": {},
   "source": [
    "# IA.txt\n",
    "includes the “Information Accretion” weights for each GO term.. These weights are used to compute weighted precision and recall, as described in the Evaluation section."
   ]
  },
  {
   "cell_type": "code",
   "execution_count": 222,
   "id": "728078ad",
   "metadata": {},
   "outputs": [
    {
     "data": {
      "text/html": [
       "<div>\n",
       "<style scoped>\n",
       "    .dataframe tbody tr th:only-of-type {\n",
       "        vertical-align: middle;\n",
       "    }\n",
       "\n",
       "    .dataframe tbody tr th {\n",
       "        vertical-align: top;\n",
       "    }\n",
       "\n",
       "    .dataframe thead th {\n",
       "        text-align: right;\n",
       "    }\n",
       "</style>\n",
       "<table border=\"1\" class=\"dataframe\">\n",
       "  <thead>\n",
       "    <tr style=\"text-align: right;\">\n",
       "      <th></th>\n",
       "      <th>term</th>\n",
       "      <th>ia_score</th>\n",
       "    </tr>\n",
       "  </thead>\n",
       "  <tbody>\n",
       "    <tr>\n",
       "      <th>0</th>\n",
       "      <td>GO:0000001</td>\n",
       "      <td>0.000000</td>\n",
       "    </tr>\n",
       "    <tr>\n",
       "      <th>1</th>\n",
       "      <td>GO:0000002</td>\n",
       "      <td>3.103836</td>\n",
       "    </tr>\n",
       "    <tr>\n",
       "      <th>2</th>\n",
       "      <td>GO:0000003</td>\n",
       "      <td>3.439404</td>\n",
       "    </tr>\n",
       "    <tr>\n",
       "      <th>3</th>\n",
       "      <td>GO:0000011</td>\n",
       "      <td>0.056584</td>\n",
       "    </tr>\n",
       "    <tr>\n",
       "      <th>4</th>\n",
       "      <td>GO:0000012</td>\n",
       "      <td>6.400377</td>\n",
       "    </tr>\n",
       "  </tbody>\n",
       "</table>\n",
       "</div>"
      ],
      "text/plain": [
       "         term  ia_score\n",
       "0  GO:0000001  0.000000\n",
       "1  GO:0000002  3.103836\n",
       "2  GO:0000003  3.439404\n",
       "3  GO:0000011  0.056584\n",
       "4  GO:0000012  6.400377"
      ]
     },
     "execution_count": 222,
     "metadata": {},
     "output_type": "execute_result"
    }
   ],
   "source": [
    "# import IA.txt\n",
    "IA = pd.read_csv(\"cafa-5-protein-function-prediction/IA.txt\", delimiter='\\t', header=None)\n",
    "IA = IA.rename(columns={IA.columns[0]: 'term', IA.columns[1]: 'ia_score'})\n",
    "IA.head()"
   ]
  },
  {
   "cell_type": "code",
   "execution_count": 223,
   "id": "c7fefe41",
   "metadata": {},
   "outputs": [
    {
     "name": "stdout",
     "output_type": "stream",
     "text": [
      "IA: \n",
      " term        0\n",
      "ia_score    0\n",
      "dtype: int64\n"
     ]
    }
   ],
   "source": [
    "# check for missing data\n",
    "print('IA: \\n', IA.isna().sum())"
   ]
  },
  {
   "cell_type": "markdown",
   "id": "b8789f4c",
   "metadata": {},
   "source": [
    "# testsuperset.fasta\n",
    "includes the amino acid sequences for proteins on which the predictions should be made."
   ]
  },
  {
   "cell_type": "code",
   "execution_count": 224,
   "id": "6be6a54c",
   "metadata": {},
   "outputs": [
    {
     "data": {
      "text/html": [
       "<div>\n",
       "<style scoped>\n",
       "    .dataframe tbody tr th:only-of-type {\n",
       "        vertical-align: middle;\n",
       "    }\n",
       "\n",
       "    .dataframe tbody tr th {\n",
       "        vertical-align: top;\n",
       "    }\n",
       "\n",
       "    .dataframe thead th {\n",
       "        text-align: right;\n",
       "    }\n",
       "</style>\n",
       "<table border=\"1\" class=\"dataframe\">\n",
       "  <thead>\n",
       "    <tr style=\"text-align: right;\">\n",
       "      <th></th>\n",
       "      <th>seq_id</th>\n",
       "      <th>sequence</th>\n",
       "    </tr>\n",
       "  </thead>\n",
       "  <tbody>\n",
       "    <tr>\n",
       "      <th>0</th>\n",
       "      <td>Q9CQV8</td>\n",
       "      <td>MTMDKSELVQKAKLAEQAERYDDMAAAMKAVTEQGHELSNEERNLL...</td>\n",
       "    </tr>\n",
       "    <tr>\n",
       "      <th>1</th>\n",
       "      <td>P62259</td>\n",
       "      <td>MDDREDLVYQAKLAEQAERYDEMVESMKKVAGMDVELTVEERNLLS...</td>\n",
       "    </tr>\n",
       "    <tr>\n",
       "      <th>2</th>\n",
       "      <td>P68510</td>\n",
       "      <td>MGDREQLLQRARLAEQAERYDDMASAMKAVTELNEPLSNEDRNLLS...</td>\n",
       "    </tr>\n",
       "    <tr>\n",
       "      <th>3</th>\n",
       "      <td>P61982</td>\n",
       "      <td>MVDREQLVQKARLAEQAERYDDMAAAMKNVTELNEPLSNEERNLLS...</td>\n",
       "    </tr>\n",
       "    <tr>\n",
       "      <th>4</th>\n",
       "      <td>O70456</td>\n",
       "      <td>MERASLIQKAKLAEQAERYEDMAAFMKSAVEKGEELSCEERNLLSV...</td>\n",
       "    </tr>\n",
       "  </tbody>\n",
       "</table>\n",
       "</div>"
      ],
      "text/plain": [
       "   seq_id                                           sequence\n",
       "0  Q9CQV8  MTMDKSELVQKAKLAEQAERYDDMAAAMKAVTEQGHELSNEERNLL...\n",
       "1  P62259  MDDREDLVYQAKLAEQAERYDEMVESMKKVAGMDVELTVEERNLLS...\n",
       "2  P68510  MGDREQLLQRARLAEQAERYDDMASAMKAVTELNEPLSNEDRNLLS...\n",
       "3  P61982  MVDREQLVQKARLAEQAERYDDMAAAMKNVTELNEPLSNEERNLLS...\n",
       "4  O70456  MERASLIQKAKLAEQAERYEDMAAFMKSAVEKGEELSCEERNLLSV..."
      ]
     },
     "execution_count": 224,
     "metadata": {},
     "output_type": "execute_result"
    }
   ],
   "source": [
    "# import testsuperset.fasta\n",
    "fasta_test = 'cafa-5-protein-function-prediction/Test (Targets)/testsuperset.fasta'\n",
    "\n",
    "testsuperset = []\n",
    "\n",
    "# Open the FASTA file and iterate over each record\n",
    "for record in SeqIO.parse(fasta_test, \"fasta\"):\n",
    "    # Retrieve the sequence ID and sequence\n",
    "    seq_id = record.id\n",
    "    sequence = str(record.seq)\n",
    "    \n",
    "    # Append the sequence ID and sequence as a tuple to the list\n",
    "    testsuperset.append((seq_id, sequence))\n",
    "\n",
    "# convert to dataframe\n",
    "testset = pd.DataFrame(testsuperset, columns=['seq_id', 'sequence'])\n",
    "testset.head()"
   ]
  },
  {
   "cell_type": "code",
   "execution_count": 225,
   "id": "4f8a2d04",
   "metadata": {},
   "outputs": [
    {
     "name": "stdout",
     "output_type": "stream",
     "text": [
      "testset: \n",
      " seq_id      0\n",
      "sequence    0\n",
      "dtype: int64\n"
     ]
    }
   ],
   "source": [
    "# check for missing data\n",
    "print('testset: \\n', testset.isna().sum())"
   ]
  },
  {
   "cell_type": "markdown",
   "id": "1b896f4b",
   "metadata": {},
   "source": [
    "# testsuperset-taxon-list.tsv\n",
    "inclues the taxon ID for proteins in test superset."
   ]
  },
  {
   "cell_type": "code",
   "execution_count": 226,
   "id": "b08b1b32",
   "metadata": {},
   "outputs": [
    {
     "data": {
      "text/html": [
       "<div>\n",
       "<style scoped>\n",
       "    .dataframe tbody tr th:only-of-type {\n",
       "        vertical-align: middle;\n",
       "    }\n",
       "\n",
       "    .dataframe tbody tr th {\n",
       "        vertical-align: top;\n",
       "    }\n",
       "\n",
       "    .dataframe thead th {\n",
       "        text-align: right;\n",
       "    }\n",
       "</style>\n",
       "<table border=\"1\" class=\"dataframe\">\n",
       "  <thead>\n",
       "    <tr style=\"text-align: right;\">\n",
       "      <th></th>\n",
       "      <th>ID</th>\n",
       "      <th>Species</th>\n",
       "    </tr>\n",
       "  </thead>\n",
       "  <tbody>\n",
       "    <tr>\n",
       "      <th>85</th>\n",
       "      <td>8671</td>\n",
       "      <td>Pseudechis porphyriacus (snakes)</td>\n",
       "    </tr>\n",
       "    <tr>\n",
       "      <th>47</th>\n",
       "      <td>7159</td>\n",
       "      <td>Aedes aegypti</td>\n",
       "    </tr>\n",
       "    <tr>\n",
       "      <th>49</th>\n",
       "      <td>7962</td>\n",
       "      <td>Cyprinus carpio [common carp)</td>\n",
       "    </tr>\n",
       "    <tr>\n",
       "      <th>70</th>\n",
       "      <td>284811</td>\n",
       "      <td>Eremothecium gossypii ATCC 10895 (budding yeast)</td>\n",
       "    </tr>\n",
       "    <tr>\n",
       "      <th>65</th>\n",
       "      <td>196418</td>\n",
       "      <td>Hoplocephalus stephensii (snakes)</td>\n",
       "    </tr>\n",
       "  </tbody>\n",
       "</table>\n",
       "</div>"
      ],
      "text/plain": [
       "        ID                                           Species\n",
       "85    8671                  Pseudechis porphyriacus (snakes)\n",
       "47    7159                                     Aedes aegypti\n",
       "49    7962                     Cyprinus carpio [common carp)\n",
       "70  284811  Eremothecium gossypii ATCC 10895 (budding yeast)\n",
       "65  196418                 Hoplocephalus stephensii (snakes)"
      ]
     },
     "execution_count": 226,
     "metadata": {},
     "output_type": "execute_result"
    }
   ],
   "source": [
    "# import testsuperset-taxon-list.tsv\n",
    "test_taxon = pd.read_csv(\"cafa-5-protein-function-prediction/Test (Targets)/testsuperset-taxon-list.tsv\", sep=\"\\t\", encoding=\"ISO-8859-1\")\n",
    "test_taxon.sample(5)"
   ]
  },
  {
   "cell_type": "code",
   "execution_count": 227,
   "id": "177dbd1c",
   "metadata": {},
   "outputs": [
    {
     "name": "stdout",
     "output_type": "stream",
     "text": [
      "test_taxon: \n",
      " ID         0\n",
      "Species    0\n",
      "dtype: int64\n"
     ]
    }
   ],
   "source": [
    "# check for missing data\n",
    "print('test_taxon: \\n', test_taxon.isna().sum())"
   ]
  },
  {
   "cell_type": "markdown",
   "id": "82b086a1",
   "metadata": {},
   "source": [
    "# sample_submission.tsv\n",
    "is an example of a submission file in the correct format."
   ]
  },
  {
   "cell_type": "code",
   "execution_count": 228,
   "id": "5b839017",
   "metadata": {},
   "outputs": [
    {
     "data": {
      "text/html": [
       "<div>\n",
       "<style scoped>\n",
       "    .dataframe tbody tr th:only-of-type {\n",
       "        vertical-align: middle;\n",
       "    }\n",
       "\n",
       "    .dataframe tbody tr th {\n",
       "        vertical-align: top;\n",
       "    }\n",
       "\n",
       "    .dataframe thead th {\n",
       "        text-align: right;\n",
       "    }\n",
       "</style>\n",
       "<table border=\"1\" class=\"dataframe\">\n",
       "  <thead>\n",
       "    <tr style=\"text-align: right;\">\n",
       "      <th></th>\n",
       "      <th>protein_targets</th>\n",
       "      <th>term</th>\n",
       "      <th>prob_estimate</th>\n",
       "    </tr>\n",
       "  </thead>\n",
       "  <tbody>\n",
       "    <tr>\n",
       "      <th>52842</th>\n",
       "      <td>P01796</td>\n",
       "      <td>GO:0000001</td>\n",
       "      <td>0.123</td>\n",
       "    </tr>\n",
       "    <tr>\n",
       "      <th>18827</th>\n",
       "      <td>J9VQZ4</td>\n",
       "      <td>GO:0000002</td>\n",
       "      <td>0.123</td>\n",
       "    </tr>\n",
       "    <tr>\n",
       "      <th>236725</th>\n",
       "      <td>Q69D47</td>\n",
       "      <td>GO:0000002</td>\n",
       "      <td>0.123</td>\n",
       "    </tr>\n",
       "    <tr>\n",
       "      <th>18955</th>\n",
       "      <td>L0T911</td>\n",
       "      <td>GO:0000002</td>\n",
       "      <td>0.123</td>\n",
       "    </tr>\n",
       "  </tbody>\n",
       "</table>\n",
       "</div>"
      ],
      "text/plain": [
       "       protein_targets        term  prob_estimate\n",
       "52842           P01796  GO:0000001          0.123\n",
       "18827           J9VQZ4  GO:0000002          0.123\n",
       "236725          Q69D47  GO:0000002          0.123\n",
       "18955           L0T911  GO:0000002          0.123"
      ]
     },
     "execution_count": 228,
     "metadata": {},
     "output_type": "execute_result"
    }
   ],
   "source": [
    "# sample_submission.tsv\n",
    "sample_submission = pd.read_csv(\"cafa-5-protein-function-prediction/sample_submission.tsv\", sep=\"\\t\", header=None)\n",
    "sample_submission = sample_submission.rename(columns={sample_submission.columns[0]: 'protein_targets', sample_submission.columns[1]: 'term', sample_submission.columns[2]: 'prob_estimate'})\n",
    "sample_submission.sample(4)"
   ]
  },
  {
   "cell_type": "markdown",
   "id": "6e277a81",
   "metadata": {},
   "source": [
    "# Merging the training data"
   ]
  },
  {
   "cell_type": "code",
   "execution_count": 229,
   "id": "f9c3c08f",
   "metadata": {},
   "outputs": [
    {
     "data": {
      "text/html": [
       "<div>\n",
       "<style scoped>\n",
       "    .dataframe tbody tr th:only-of-type {\n",
       "        vertical-align: middle;\n",
       "    }\n",
       "\n",
       "    .dataframe tbody tr th {\n",
       "        vertical-align: top;\n",
       "    }\n",
       "\n",
       "    .dataframe thead th {\n",
       "        text-align: right;\n",
       "    }\n",
       "</style>\n",
       "<table border=\"1\" class=\"dataframe\">\n",
       "  <thead>\n",
       "    <tr style=\"text-align: right;\">\n",
       "      <th></th>\n",
       "      <th>term</th>\n",
       "      <th>name</th>\n",
       "      <th>namespace</th>\n",
       "      <th>EntryID</th>\n",
       "      <th>aspect</th>\n",
       "    </tr>\n",
       "  </thead>\n",
       "  <tbody>\n",
       "    <tr>\n",
       "      <th>0</th>\n",
       "      <td>GO:0000001</td>\n",
       "      <td>mitochondrion inheritance</td>\n",
       "      <td>biological_process</td>\n",
       "      <td>P21147</td>\n",
       "      <td>BPO</td>\n",
       "    </tr>\n",
       "    <tr>\n",
       "      <th>1</th>\n",
       "      <td>GO:0000001</td>\n",
       "      <td>mitochondrion inheritance</td>\n",
       "      <td>biological_process</td>\n",
       "      <td>P32266</td>\n",
       "      <td>BPO</td>\n",
       "    </tr>\n",
       "    <tr>\n",
       "      <th>2</th>\n",
       "      <td>GO:0000001</td>\n",
       "      <td>mitochondrion inheritance</td>\n",
       "      <td>biological_process</td>\n",
       "      <td>P32381</td>\n",
       "      <td>BPO</td>\n",
       "    </tr>\n",
       "    <tr>\n",
       "      <th>3</th>\n",
       "      <td>GO:0000001</td>\n",
       "      <td>mitochondrion inheritance</td>\n",
       "      <td>biological_process</td>\n",
       "      <td>P35182</td>\n",
       "      <td>BPO</td>\n",
       "    </tr>\n",
       "    <tr>\n",
       "      <th>4</th>\n",
       "      <td>GO:0000001</td>\n",
       "      <td>mitochondrion inheritance</td>\n",
       "      <td>biological_process</td>\n",
       "      <td>P38880</td>\n",
       "      <td>BPO</td>\n",
       "    </tr>\n",
       "  </tbody>\n",
       "</table>\n",
       "</div>"
      ],
      "text/plain": [
       "         term                       name           namespace EntryID aspect\n",
       "0  GO:0000001  mitochondrion inheritance  biological_process  P21147    BPO\n",
       "1  GO:0000001  mitochondrion inheritance  biological_process  P32266    BPO\n",
       "2  GO:0000001  mitochondrion inheritance  biological_process  P32381    BPO\n",
       "3  GO:0000001  mitochondrion inheritance  biological_process  P35182    BPO\n",
       "4  GO:0000001  mitochondrion inheritance  biological_process  P38880    BPO"
      ]
     },
     "execution_count": 229,
     "metadata": {},
     "output_type": "execute_result"
    }
   ],
   "source": [
    "# merge dataframes by go terms\n",
    "\n",
    "go_merge = pd.merge(go, train_terms, on='term')\n",
    "go_merge.head()"
   ]
  },
  {
   "cell_type": "code",
   "execution_count": 230,
   "id": "e0de26b0",
   "metadata": {},
   "outputs": [
    {
     "data": {
      "text/plain": [
       "5363863"
      ]
     },
     "execution_count": 230,
     "metadata": {},
     "output_type": "execute_result"
    }
   ],
   "source": [
    "go_merge.shape[0]"
   ]
  },
  {
   "cell_type": "code",
   "execution_count": 231,
   "id": "b15659e1",
   "metadata": {},
   "outputs": [
    {
     "data": {
      "text/html": [
       "<div>\n",
       "<style scoped>\n",
       "    .dataframe tbody tr th:only-of-type {\n",
       "        vertical-align: middle;\n",
       "    }\n",
       "\n",
       "    .dataframe tbody tr th {\n",
       "        vertical-align: top;\n",
       "    }\n",
       "\n",
       "    .dataframe thead th {\n",
       "        text-align: right;\n",
       "    }\n",
       "</style>\n",
       "<table border=\"1\" class=\"dataframe\">\n",
       "  <thead>\n",
       "    <tr style=\"text-align: right;\">\n",
       "      <th></th>\n",
       "      <th>term</th>\n",
       "      <th>name</th>\n",
       "      <th>namespace</th>\n",
       "      <th>EntryID</th>\n",
       "      <th>aspect</th>\n",
       "      <th>sequence</th>\n",
       "      <th>taxonomyID</th>\n",
       "    </tr>\n",
       "  </thead>\n",
       "  <tbody>\n",
       "    <tr>\n",
       "      <th>0</th>\n",
       "      <td>GO:0000001</td>\n",
       "      <td>mitochondrion inheritance</td>\n",
       "      <td>biological_process</td>\n",
       "      <td>P21147</td>\n",
       "      <td>BPO</td>\n",
       "      <td>MPTSGTTIELIDDQFPKDDSASSGIVDEVDLTEANILATGLNKKAP...</td>\n",
       "      <td>559292</td>\n",
       "    </tr>\n",
       "    <tr>\n",
       "      <th>1</th>\n",
       "      <td>GO:0003674</td>\n",
       "      <td>molecular_function</td>\n",
       "      <td>molecular_function</td>\n",
       "      <td>P21147</td>\n",
       "      <td>MFO</td>\n",
       "      <td>MPTSGTTIELIDDQFPKDDSASSGIVDEVDLTEANILATGLNKKAP...</td>\n",
       "      <td>559292</td>\n",
       "    </tr>\n",
       "    <tr>\n",
       "      <th>2</th>\n",
       "      <td>GO:0003824</td>\n",
       "      <td>catalytic activity</td>\n",
       "      <td>molecular_function</td>\n",
       "      <td>P21147</td>\n",
       "      <td>MFO</td>\n",
       "      <td>MPTSGTTIELIDDQFPKDDSASSGIVDEVDLTEANILATGLNKKAP...</td>\n",
       "      <td>559292</td>\n",
       "    </tr>\n",
       "    <tr>\n",
       "      <th>3</th>\n",
       "      <td>GO:0004768</td>\n",
       "      <td>stearoyl-CoA 9-desaturase activity</td>\n",
       "      <td>molecular_function</td>\n",
       "      <td>P21147</td>\n",
       "      <td>MFO</td>\n",
       "      <td>MPTSGTTIELIDDQFPKDDSASSGIVDEVDLTEANILATGLNKKAP...</td>\n",
       "      <td>559292</td>\n",
       "    </tr>\n",
       "    <tr>\n",
       "      <th>4</th>\n",
       "      <td>GO:0005575</td>\n",
       "      <td>cellular_component</td>\n",
       "      <td>cellular_component</td>\n",
       "      <td>P21147</td>\n",
       "      <td>CCO</td>\n",
       "      <td>MPTSGTTIELIDDQFPKDDSASSGIVDEVDLTEANILATGLNKKAP...</td>\n",
       "      <td>559292</td>\n",
       "    </tr>\n",
       "  </tbody>\n",
       "</table>\n",
       "</div>"
      ],
      "text/plain": [
       "         term                                name           namespace EntryID  \\\n",
       "0  GO:0000001           mitochondrion inheritance  biological_process  P21147   \n",
       "1  GO:0003674                  molecular_function  molecular_function  P21147   \n",
       "2  GO:0003824                  catalytic activity  molecular_function  P21147   \n",
       "3  GO:0004768  stearoyl-CoA 9-desaturase activity  molecular_function  P21147   \n",
       "4  GO:0005575                  cellular_component  cellular_component  P21147   \n",
       "\n",
       "  aspect                                           sequence  taxonomyID  \n",
       "0    BPO  MPTSGTTIELIDDQFPKDDSASSGIVDEVDLTEANILATGLNKKAP...      559292  \n",
       "1    MFO  MPTSGTTIELIDDQFPKDDSASSGIVDEVDLTEANILATGLNKKAP...      559292  \n",
       "2    MFO  MPTSGTTIELIDDQFPKDDSASSGIVDEVDLTEANILATGLNKKAP...      559292  \n",
       "3    MFO  MPTSGTTIELIDDQFPKDDSASSGIVDEVDLTEANILATGLNKKAP...      559292  \n",
       "4    CCO  MPTSGTTIELIDDQFPKDDSASSGIVDEVDLTEANILATGLNKKAP...      559292  "
      ]
     },
     "execution_count": 231,
     "metadata": {},
     "output_type": "execute_result"
    }
   ],
   "source": [
    "# merge dataframes by entryID\n",
    "\n",
    "entryID_merge = pd.merge(trainset, train_taxon_ID, on='EntryID')\n",
    "protein_train = pd.merge(go_merge, entryID_merge, on='EntryID')\n",
    "protein_train.head()"
   ]
  },
  {
   "cell_type": "code",
   "execution_count": 232,
   "id": "038350cb",
   "metadata": {},
   "outputs": [
    {
     "data": {
      "text/plain": [
       "5363863"
      ]
     },
     "execution_count": 232,
     "metadata": {},
     "output_type": "execute_result"
    }
   ],
   "source": [
    "protein_train.shape[0]"
   ]
  },
  {
   "cell_type": "markdown",
   "id": "92f35267",
   "metadata": {},
   "source": [
    "# keras neural network (with subset) \n",
    "This code will require more memory than available in a standard PC, even with subsampling\n",
    "subset_size = 10000 and batch_size=32 --> 23 days per epoch"
   ]
  },
  {
   "cell_type": "code",
   "execution_count": 233,
   "id": "37004c91",
   "metadata": {},
   "outputs": [],
   "source": [
    "import numpy as np\n",
    "from sklearn.model_selection import train_test_split\n",
    "from sklearn.preprocessing import LabelEncoder\n",
    "from keras.models import Sequential\n",
    "from keras.layers import Dense, Embedding, LSTM"
   ]
  },
  {
   "cell_type": "code",
   "execution_count": 234,
   "id": "2da3228f",
   "metadata": {},
   "outputs": [],
   "source": [
    "# subset the data (when on my PC)\n",
    "# minimize the time it takes to assign numbers to amino acid characters\n",
    "# and prevent memory issues with padding sequences\n",
    "subset_size = 2000\n",
    "random_indices = np.random.choice(protein_train.index, size=subset_size, replace=False)\n",
    "X_train_subset = protein_train.loc[random_indices, 'sequence']\n",
    "y_train_subset = protein_train.loc[random_indices, 'term']"
   ]
  },
  {
   "cell_type": "code",
   "execution_count": 235,
   "id": "5048d00a",
   "metadata": {},
   "outputs": [],
   "source": [
    "# label encoding to transform the target variable from categorical to numeric data\n",
    "label_encoder = LabelEncoder()\n",
    "y_train_subset = label_encoder.fit_transform(y_train_subset)"
   ]
  },
  {
   "cell_type": "code",
   "execution_count": 236,
   "id": "dc17a985",
   "metadata": {},
   "outputs": [],
   "source": [
    "# split the data into training and testing sets\n",
    "X_train, X_test, y_train, y_test = train_test_split(X_train_subset, y_train_subset, test_size=0.2, random_state=420)"
   ]
  },
  {
   "cell_type": "code",
   "execution_count": 237,
   "id": "06f253f4",
   "metadata": {},
   "outputs": [
    {
     "name": "stderr",
     "output_type": "stream",
     "text": [
      "C:\\Users\\ljbri\\AppData\\Local\\Temp\\ipykernel_16932\\3759723670.py:12: VisibleDeprecationWarning: Creating an ndarray from ragged nested sequences (which is a list-or-tuple of lists-or-tuples-or ndarrays with different lengths or shapes) is deprecated. If you meant to do this, you must specify 'dtype=object' when creating the ndarray.\n",
      "  X_train_encoded = np.array(X_train_encoded)\n",
      "C:\\Users\\ljbri\\AppData\\Local\\Temp\\ipykernel_16932\\3759723670.py:15: VisibleDeprecationWarning: Creating an ndarray from ragged nested sequences (which is a list-or-tuple of lists-or-tuples-or ndarrays with different lengths or shapes) is deprecated. If you meant to do this, you must specify 'dtype=object' when creating the ndarray.\n",
      "  X_test_encoded = np.array(X_test_encoded)\n"
     ]
    }
   ],
   "source": [
    "# assigns numbers to each amino acid character\n",
    "char_to_int = {'A': 0, 'R': 1, 'N': 2, 'D': 3, 'C': 4, 'Q': 5, 'E': 6, 'G': 7, 'H': 8, 'I': 9, 'L': 10, 'K': 11, 'M': 12, 'F': 13, 'P': 14, 'S': 15, 'T': 16, 'W': 17, 'Y': 18, 'V': 19}\n",
    "num_classes = len(label_encoder.classes_)\n",
    "\n",
    "# assigns a default value for characters not in the dictionary\n",
    "default_value = 20  \n",
    "def convert_char_to_int(char):\n",
    "    return char_to_int.get(char, default_value)\n",
    "\n",
    "# convert the sequences into numeric representation\n",
    "X_train_encoded = [[convert_char_to_int(char) for char in seq] for seq in X_train]\n",
    "X_train_encoded = np.array(X_train_encoded)\n",
    "\n",
    "X_test_encoded = [[convert_char_to_int(char) for char in seq] for seq in X_test]\n",
    "X_test_encoded = np.array(X_test_encoded)\n",
    "\n",
    "#can ignore 'Warning: Creating an ndarray from ragged nested sequences' about X_train_encoded and X_test encoded being different lengths, because it will resolve when sequences are padded"
   ]
  },
  {
   "cell_type": "code",
   "execution_count": 238,
   "id": "44b6200c",
   "metadata": {},
   "outputs": [
    {
     "name": "stdout",
     "output_type": "stream",
     "text": [
      "[[12  1 15 ...  0  0  0]\n",
      " [12  0 19 ...  0  0  0]\n",
      " [12  0 10 ...  0  0  0]\n",
      " ...\n",
      " [12  6  2 ...  0  0  0]\n",
      " [12 18  1 ...  0  0  0]\n",
      " [12  8 14 ...  0  0  0]]\n"
     ]
    }
   ],
   "source": [
    "# pad sequences to have the same length using zeros\n",
    "max_sequence_length = max(len(seq) for seq in X_train_subset)\n",
    "X_train_padded = np.zeros((X_train_encoded.shape[0], max_sequence_length), dtype=np.int32)\n",
    "for i, seq in enumerate(X_train_encoded):\n",
    "    X_train_padded[i, :len(seq)] = seq"
   ]
  },
  {
   "cell_type": "code",
   "execution_count": 240,
   "id": "f0b3941c",
   "metadata": {},
   "outputs": [
    {
     "name": "stdout",
     "output_type": "stream",
     "text": [
      "Model: \"sequential_4\"\n",
      "_________________________________________________________________\n",
      " Layer (type)                Output Shape              Param #   \n",
      "=================================================================\n",
      " embedding_3 (Embedding)     (None, 18141, 64)         1280      \n",
      "                                                                 \n",
      " lstm_3 (LSTM)               (None, 128)               98816     \n",
      "                                                                 \n",
      " dense_2 (Dense)             (None, 981)               126549    \n",
      "                                                                 \n",
      "=================================================================\n",
      "Total params: 226,645\n",
      "Trainable params: 226,645\n",
      "Non-trainable params: 0\n",
      "_________________________________________________________________\n"
     ]
    }
   ],
   "source": [
    "# create the model\n",
    "model1 = models.Sequential()\n",
    "model1.add(Embedding(input_dim=len(char_to_int), output_dim=64, input_length=max_sequence_length)) #convert amino acid sequences into dense vectors (captures sequential relationships between characters)\n",
    "model1.add(LSTM(units=128)) #recurrent neural network  processes embedded sequences and extracts relevant features/patterns\n",
    "model1.add(Dense(units=num_classes, activation='softmax'))\n",
    "\n",
    "model1.summary()"
   ]
  },
  {
   "cell_type": "code",
   "execution_count": 241,
   "id": "c23b8000",
   "metadata": {},
   "outputs": [],
   "source": [
    "# compile the model\n",
    "model1.compile(loss='sparse_categorical_crossentropy', #common when more than two categories\n",
    "               optimizer='adam', #efficient and effective for deep learning tasks\n",
    "               metrics=['accuracy']) #represents % of correctly predicted samples; common for classification\n"
   ]
  },
  {
   "cell_type": "code",
   "execution_count": 242,
   "id": "a405428f",
   "metadata": {},
   "outputs": [
    {
     "name": "stdout",
     "output_type": "stream",
     "text": [
      " 10/400 [..............................] - ETA: 6:38:42 - loss: 6.8866 - accuracy: 0.0000e+00"
     ]
    },
    {
     "ename": "InvalidArgumentError",
     "evalue": "Graph execution error:\n\nDetected at node 'sequential_4/embedding_3/embedding_lookup' defined at (most recent call last):\n    File \"C:\\Users\\ljbri\\anaconda3\\lib\\runpy.py\", line 196, in _run_module_as_main\n      return _run_code(code, main_globals, None,\n    File \"C:\\Users\\ljbri\\anaconda3\\lib\\runpy.py\", line 86, in _run_code\n      exec(code, run_globals)\n    File \"C:\\Users\\ljbri\\anaconda3\\lib\\site-packages\\ipykernel_launcher.py\", line 17, in <module>\n      app.launch_new_instance()\n    File \"C:\\Users\\ljbri\\anaconda3\\lib\\site-packages\\traitlets\\config\\application.py\", line 992, in launch_instance\n      app.start()\n    File \"C:\\Users\\ljbri\\anaconda3\\lib\\site-packages\\ipykernel\\kernelapp.py\", line 711, in start\n      self.io_loop.start()\n    File \"C:\\Users\\ljbri\\anaconda3\\lib\\site-packages\\tornado\\platform\\asyncio.py\", line 199, in start\n      self.asyncio_loop.run_forever()\n    File \"C:\\Users\\ljbri\\anaconda3\\lib\\asyncio\\base_events.py\", line 603, in run_forever\n      self._run_once()\n    File \"C:\\Users\\ljbri\\anaconda3\\lib\\asyncio\\base_events.py\", line 1906, in _run_once\n      handle._run()\n    File \"C:\\Users\\ljbri\\anaconda3\\lib\\asyncio\\events.py\", line 80, in _run\n      self._context.run(self._callback, *self._args)\n    File \"C:\\Users\\ljbri\\anaconda3\\lib\\site-packages\\ipykernel\\kernelbase.py\", line 510, in dispatch_queue\n      await self.process_one()\n    File \"C:\\Users\\ljbri\\anaconda3\\lib\\site-packages\\ipykernel\\kernelbase.py\", line 499, in process_one\n      await dispatch(*args)\n    File \"C:\\Users\\ljbri\\anaconda3\\lib\\site-packages\\ipykernel\\kernelbase.py\", line 406, in dispatch_shell\n      await result\n    File \"C:\\Users\\ljbri\\anaconda3\\lib\\site-packages\\ipykernel\\kernelbase.py\", line 729, in execute_request\n      reply_content = await reply_content\n    File \"C:\\Users\\ljbri\\anaconda3\\lib\\site-packages\\ipykernel\\ipkernel.py\", line 411, in do_execute\n      res = shell.run_cell(\n    File \"C:\\Users\\ljbri\\anaconda3\\lib\\site-packages\\ipykernel\\zmqshell.py\", line 531, in run_cell\n      return super().run_cell(*args, **kwargs)\n    File \"C:\\Users\\ljbri\\anaconda3\\lib\\site-packages\\IPython\\core\\interactiveshell.py\", line 2961, in run_cell\n      result = self._run_cell(\n    File \"C:\\Users\\ljbri\\anaconda3\\lib\\site-packages\\IPython\\core\\interactiveshell.py\", line 3016, in _run_cell\n      result = runner(coro)\n    File \"C:\\Users\\ljbri\\anaconda3\\lib\\site-packages\\IPython\\core\\async_helpers.py\", line 129, in _pseudo_sync_runner\n      coro.send(None)\n    File \"C:\\Users\\ljbri\\anaconda3\\lib\\site-packages\\IPython\\core\\interactiveshell.py\", line 3221, in run_cell_async\n      has_raised = await self.run_ast_nodes(code_ast.body, cell_name,\n    File \"C:\\Users\\ljbri\\anaconda3\\lib\\site-packages\\IPython\\core\\interactiveshell.py\", line 3400, in run_ast_nodes\n      if await self.run_code(code, result, async_=asy):\n    File \"C:\\Users\\ljbri\\anaconda3\\lib\\site-packages\\IPython\\core\\interactiveshell.py\", line 3460, in run_code\n      exec(code_obj, self.user_global_ns, self.user_ns)\n    File \"C:\\Users\\ljbri\\AppData\\Local\\Temp\\ipykernel_16932\\401573862.py\", line 2, in <module>\n      model1.fit(X_train_padded, y_train, validation_data=(X_test_padded, y_test), epochs=1, batch_size=4)\n    File \"C:\\Users\\ljbri\\anaconda3\\lib\\site-packages\\keras\\utils\\traceback_utils.py\", line 65, in error_handler\n      return fn(*args, **kwargs)\n    File \"C:\\Users\\ljbri\\anaconda3\\lib\\site-packages\\keras\\engine\\training.py\", line 1685, in fit\n      tmp_logs = self.train_function(iterator)\n    File \"C:\\Users\\ljbri\\anaconda3\\lib\\site-packages\\keras\\engine\\training.py\", line 1284, in train_function\n      return step_function(self, iterator)\n    File \"C:\\Users\\ljbri\\anaconda3\\lib\\site-packages\\keras\\engine\\training.py\", line 1268, in step_function\n      outputs = model.distribute_strategy.run(run_step, args=(data,))\n    File \"C:\\Users\\ljbri\\anaconda3\\lib\\site-packages\\keras\\engine\\training.py\", line 1249, in run_step\n      outputs = model.train_step(data)\n    File \"C:\\Users\\ljbri\\anaconda3\\lib\\site-packages\\keras\\engine\\training.py\", line 1050, in train_step\n      y_pred = self(x, training=True)\n    File \"C:\\Users\\ljbri\\anaconda3\\lib\\site-packages\\keras\\utils\\traceback_utils.py\", line 65, in error_handler\n      return fn(*args, **kwargs)\n    File \"C:\\Users\\ljbri\\anaconda3\\lib\\site-packages\\keras\\engine\\training.py\", line 558, in __call__\n      return super().__call__(*args, **kwargs)\n    File \"C:\\Users\\ljbri\\anaconda3\\lib\\site-packages\\keras\\utils\\traceback_utils.py\", line 65, in error_handler\n      return fn(*args, **kwargs)\n    File \"C:\\Users\\ljbri\\anaconda3\\lib\\site-packages\\keras\\engine\\base_layer.py\", line 1145, in __call__\n      outputs = call_fn(inputs, *args, **kwargs)\n    File \"C:\\Users\\ljbri\\anaconda3\\lib\\site-packages\\keras\\utils\\traceback_utils.py\", line 96, in error_handler\n      return fn(*args, **kwargs)\n    File \"C:\\Users\\ljbri\\anaconda3\\lib\\site-packages\\keras\\engine\\sequential.py\", line 412, in call\n      return super().call(inputs, training=training, mask=mask)\n    File \"C:\\Users\\ljbri\\anaconda3\\lib\\site-packages\\keras\\engine\\functional.py\", line 512, in call\n      return self._run_internal_graph(inputs, training=training, mask=mask)\n    File \"C:\\Users\\ljbri\\anaconda3\\lib\\site-packages\\keras\\engine\\functional.py\", line 669, in _run_internal_graph\n      outputs = node.layer(*args, **kwargs)\n    File \"C:\\Users\\ljbri\\anaconda3\\lib\\site-packages\\keras\\utils\\traceback_utils.py\", line 65, in error_handler\n      return fn(*args, **kwargs)\n    File \"C:\\Users\\ljbri\\anaconda3\\lib\\site-packages\\keras\\engine\\base_layer.py\", line 1145, in __call__\n      outputs = call_fn(inputs, *args, **kwargs)\n    File \"C:\\Users\\ljbri\\anaconda3\\lib\\site-packages\\keras\\utils\\traceback_utils.py\", line 96, in error_handler\n      return fn(*args, **kwargs)\n    File \"C:\\Users\\ljbri\\anaconda3\\lib\\site-packages\\keras\\layers\\core\\embedding.py\", line 272, in call\n      out = tf.nn.embedding_lookup(self.embeddings, inputs)\nNode: 'sequential_4/embedding_3/embedding_lookup'\nindices[2,0] = 20 is not in [0, 20)\n\t [[{{node sequential_4/embedding_3/embedding_lookup}}]] [Op:__inference_train_function_10829]",
     "output_type": "error",
     "traceback": [
      "\u001b[1;31m---------------------------------------------------------------------------\u001b[0m",
      "\u001b[1;31mInvalidArgumentError\u001b[0m                      Traceback (most recent call last)",
      "Cell \u001b[1;32mIn[242], line 2\u001b[0m\n\u001b[0;32m      1\u001b[0m \u001b[38;5;66;03m# train the model for 1 epochs to start\u001b[39;00m\n\u001b[1;32m----> 2\u001b[0m \u001b[43mmodel1\u001b[49m\u001b[38;5;241;43m.\u001b[39;49m\u001b[43mfit\u001b[49m\u001b[43m(\u001b[49m\u001b[43mX_train_padded\u001b[49m\u001b[43m,\u001b[49m\u001b[43m \u001b[49m\u001b[43my_train\u001b[49m\u001b[43m,\u001b[49m\u001b[43m \u001b[49m\u001b[43mvalidation_data\u001b[49m\u001b[38;5;241;43m=\u001b[39;49m\u001b[43m(\u001b[49m\u001b[43mX_test_padded\u001b[49m\u001b[43m,\u001b[49m\u001b[43m \u001b[49m\u001b[43my_test\u001b[49m\u001b[43m)\u001b[49m\u001b[43m,\u001b[49m\u001b[43m \u001b[49m\u001b[43mepochs\u001b[49m\u001b[38;5;241;43m=\u001b[39;49m\u001b[38;5;241;43m1\u001b[39;49m\u001b[43m,\u001b[49m\u001b[43m \u001b[49m\u001b[43mbatch_size\u001b[49m\u001b[38;5;241;43m=\u001b[39;49m\u001b[38;5;241;43m4\u001b[39;49m\u001b[43m)\u001b[49m\n",
      "File \u001b[1;32m~\\anaconda3\\lib\\site-packages\\keras\\utils\\traceback_utils.py:70\u001b[0m, in \u001b[0;36mfilter_traceback.<locals>.error_handler\u001b[1;34m(*args, **kwargs)\u001b[0m\n\u001b[0;32m     67\u001b[0m     filtered_tb \u001b[38;5;241m=\u001b[39m _process_traceback_frames(e\u001b[38;5;241m.\u001b[39m__traceback__)\n\u001b[0;32m     68\u001b[0m     \u001b[38;5;66;03m# To get the full stack trace, call:\u001b[39;00m\n\u001b[0;32m     69\u001b[0m     \u001b[38;5;66;03m# `tf.debugging.disable_traceback_filtering()`\u001b[39;00m\n\u001b[1;32m---> 70\u001b[0m     \u001b[38;5;28;01mraise\u001b[39;00m e\u001b[38;5;241m.\u001b[39mwith_traceback(filtered_tb) \u001b[38;5;28;01mfrom\u001b[39;00m \u001b[38;5;28mNone\u001b[39m\n\u001b[0;32m     71\u001b[0m \u001b[38;5;28;01mfinally\u001b[39;00m:\n\u001b[0;32m     72\u001b[0m     \u001b[38;5;28;01mdel\u001b[39;00m filtered_tb\n",
      "File \u001b[1;32m~\\anaconda3\\lib\\site-packages\\tensorflow\\python\\eager\\execute.py:52\u001b[0m, in \u001b[0;36mquick_execute\u001b[1;34m(op_name, num_outputs, inputs, attrs, ctx, name)\u001b[0m\n\u001b[0;32m     50\u001b[0m \u001b[38;5;28;01mtry\u001b[39;00m:\n\u001b[0;32m     51\u001b[0m   ctx\u001b[38;5;241m.\u001b[39mensure_initialized()\n\u001b[1;32m---> 52\u001b[0m   tensors \u001b[38;5;241m=\u001b[39m pywrap_tfe\u001b[38;5;241m.\u001b[39mTFE_Py_Execute(ctx\u001b[38;5;241m.\u001b[39m_handle, device_name, op_name,\n\u001b[0;32m     53\u001b[0m                                       inputs, attrs, num_outputs)\n\u001b[0;32m     54\u001b[0m \u001b[38;5;28;01mexcept\u001b[39;00m core\u001b[38;5;241m.\u001b[39m_NotOkStatusException \u001b[38;5;28;01mas\u001b[39;00m e:\n\u001b[0;32m     55\u001b[0m   \u001b[38;5;28;01mif\u001b[39;00m name \u001b[38;5;129;01mis\u001b[39;00m \u001b[38;5;129;01mnot\u001b[39;00m \u001b[38;5;28;01mNone\u001b[39;00m:\n",
      "\u001b[1;31mInvalidArgumentError\u001b[0m: Graph execution error:\n\nDetected at node 'sequential_4/embedding_3/embedding_lookup' defined at (most recent call last):\n    File \"C:\\Users\\ljbri\\anaconda3\\lib\\runpy.py\", line 196, in _run_module_as_main\n      return _run_code(code, main_globals, None,\n    File \"C:\\Users\\ljbri\\anaconda3\\lib\\runpy.py\", line 86, in _run_code\n      exec(code, run_globals)\n    File \"C:\\Users\\ljbri\\anaconda3\\lib\\site-packages\\ipykernel_launcher.py\", line 17, in <module>\n      app.launch_new_instance()\n    File \"C:\\Users\\ljbri\\anaconda3\\lib\\site-packages\\traitlets\\config\\application.py\", line 992, in launch_instance\n      app.start()\n    File \"C:\\Users\\ljbri\\anaconda3\\lib\\site-packages\\ipykernel\\kernelapp.py\", line 711, in start\n      self.io_loop.start()\n    File \"C:\\Users\\ljbri\\anaconda3\\lib\\site-packages\\tornado\\platform\\asyncio.py\", line 199, in start\n      self.asyncio_loop.run_forever()\n    File \"C:\\Users\\ljbri\\anaconda3\\lib\\asyncio\\base_events.py\", line 603, in run_forever\n      self._run_once()\n    File \"C:\\Users\\ljbri\\anaconda3\\lib\\asyncio\\base_events.py\", line 1906, in _run_once\n      handle._run()\n    File \"C:\\Users\\ljbri\\anaconda3\\lib\\asyncio\\events.py\", line 80, in _run\n      self._context.run(self._callback, *self._args)\n    File \"C:\\Users\\ljbri\\anaconda3\\lib\\site-packages\\ipykernel\\kernelbase.py\", line 510, in dispatch_queue\n      await self.process_one()\n    File \"C:\\Users\\ljbri\\anaconda3\\lib\\site-packages\\ipykernel\\kernelbase.py\", line 499, in process_one\n      await dispatch(*args)\n    File \"C:\\Users\\ljbri\\anaconda3\\lib\\site-packages\\ipykernel\\kernelbase.py\", line 406, in dispatch_shell\n      await result\n    File \"C:\\Users\\ljbri\\anaconda3\\lib\\site-packages\\ipykernel\\kernelbase.py\", line 729, in execute_request\n      reply_content = await reply_content\n    File \"C:\\Users\\ljbri\\anaconda3\\lib\\site-packages\\ipykernel\\ipkernel.py\", line 411, in do_execute\n      res = shell.run_cell(\n    File \"C:\\Users\\ljbri\\anaconda3\\lib\\site-packages\\ipykernel\\zmqshell.py\", line 531, in run_cell\n      return super().run_cell(*args, **kwargs)\n    File \"C:\\Users\\ljbri\\anaconda3\\lib\\site-packages\\IPython\\core\\interactiveshell.py\", line 2961, in run_cell\n      result = self._run_cell(\n    File \"C:\\Users\\ljbri\\anaconda3\\lib\\site-packages\\IPython\\core\\interactiveshell.py\", line 3016, in _run_cell\n      result = runner(coro)\n    File \"C:\\Users\\ljbri\\anaconda3\\lib\\site-packages\\IPython\\core\\async_helpers.py\", line 129, in _pseudo_sync_runner\n      coro.send(None)\n    File \"C:\\Users\\ljbri\\anaconda3\\lib\\site-packages\\IPython\\core\\interactiveshell.py\", line 3221, in run_cell_async\n      has_raised = await self.run_ast_nodes(code_ast.body, cell_name,\n    File \"C:\\Users\\ljbri\\anaconda3\\lib\\site-packages\\IPython\\core\\interactiveshell.py\", line 3400, in run_ast_nodes\n      if await self.run_code(code, result, async_=asy):\n    File \"C:\\Users\\ljbri\\anaconda3\\lib\\site-packages\\IPython\\core\\interactiveshell.py\", line 3460, in run_code\n      exec(code_obj, self.user_global_ns, self.user_ns)\n    File \"C:\\Users\\ljbri\\AppData\\Local\\Temp\\ipykernel_16932\\401573862.py\", line 2, in <module>\n      model1.fit(X_train_padded, y_train, validation_data=(X_test_padded, y_test), epochs=1, batch_size=4)\n    File \"C:\\Users\\ljbri\\anaconda3\\lib\\site-packages\\keras\\utils\\traceback_utils.py\", line 65, in error_handler\n      return fn(*args, **kwargs)\n    File \"C:\\Users\\ljbri\\anaconda3\\lib\\site-packages\\keras\\engine\\training.py\", line 1685, in fit\n      tmp_logs = self.train_function(iterator)\n    File \"C:\\Users\\ljbri\\anaconda3\\lib\\site-packages\\keras\\engine\\training.py\", line 1284, in train_function\n      return step_function(self, iterator)\n    File \"C:\\Users\\ljbri\\anaconda3\\lib\\site-packages\\keras\\engine\\training.py\", line 1268, in step_function\n      outputs = model.distribute_strategy.run(run_step, args=(data,))\n    File \"C:\\Users\\ljbri\\anaconda3\\lib\\site-packages\\keras\\engine\\training.py\", line 1249, in run_step\n      outputs = model.train_step(data)\n    File \"C:\\Users\\ljbri\\anaconda3\\lib\\site-packages\\keras\\engine\\training.py\", line 1050, in train_step\n      y_pred = self(x, training=True)\n    File \"C:\\Users\\ljbri\\anaconda3\\lib\\site-packages\\keras\\utils\\traceback_utils.py\", line 65, in error_handler\n      return fn(*args, **kwargs)\n    File \"C:\\Users\\ljbri\\anaconda3\\lib\\site-packages\\keras\\engine\\training.py\", line 558, in __call__\n      return super().__call__(*args, **kwargs)\n    File \"C:\\Users\\ljbri\\anaconda3\\lib\\site-packages\\keras\\utils\\traceback_utils.py\", line 65, in error_handler\n      return fn(*args, **kwargs)\n    File \"C:\\Users\\ljbri\\anaconda3\\lib\\site-packages\\keras\\engine\\base_layer.py\", line 1145, in __call__\n      outputs = call_fn(inputs, *args, **kwargs)\n    File \"C:\\Users\\ljbri\\anaconda3\\lib\\site-packages\\keras\\utils\\traceback_utils.py\", line 96, in error_handler\n      return fn(*args, **kwargs)\n    File \"C:\\Users\\ljbri\\anaconda3\\lib\\site-packages\\keras\\engine\\sequential.py\", line 412, in call\n      return super().call(inputs, training=training, mask=mask)\n    File \"C:\\Users\\ljbri\\anaconda3\\lib\\site-packages\\keras\\engine\\functional.py\", line 512, in call\n      return self._run_internal_graph(inputs, training=training, mask=mask)\n    File \"C:\\Users\\ljbri\\anaconda3\\lib\\site-packages\\keras\\engine\\functional.py\", line 669, in _run_internal_graph\n      outputs = node.layer(*args, **kwargs)\n    File \"C:\\Users\\ljbri\\anaconda3\\lib\\site-packages\\keras\\utils\\traceback_utils.py\", line 65, in error_handler\n      return fn(*args, **kwargs)\n    File \"C:\\Users\\ljbri\\anaconda3\\lib\\site-packages\\keras\\engine\\base_layer.py\", line 1145, in __call__\n      outputs = call_fn(inputs, *args, **kwargs)\n    File \"C:\\Users\\ljbri\\anaconda3\\lib\\site-packages\\keras\\utils\\traceback_utils.py\", line 96, in error_handler\n      return fn(*args, **kwargs)\n    File \"C:\\Users\\ljbri\\anaconda3\\lib\\site-packages\\keras\\layers\\core\\embedding.py\", line 272, in call\n      out = tf.nn.embedding_lookup(self.embeddings, inputs)\nNode: 'sequential_4/embedding_3/embedding_lookup'\nindices[2,0] = 20 is not in [0, 20)\n\t [[{{node sequential_4/embedding_3/embedding_lookup}}]] [Op:__inference_train_function_10829]"
     ]
    }
   ],
   "source": [
    "# train the model for 1 epochs to start\n",
    "model1.fit(X_train_padded, y_train, validation_data=(X_test_padded, y_test), epochs=1, batch_size=4)"
   ]
  },
  {
   "cell_type": "code",
   "execution_count": null,
   "id": "bfa779e4",
   "metadata": {},
   "outputs": [],
   "source": [
    "# evaluate the model on the testing data\n",
    "loss, accuracy = model1.evaluate(X_test_padded, y_test)\n",
    " \n",
    "print(\"Test Loss:\", loss)\n",
    "print(\"Test Accuracy:\", accuracy)"
   ]
  },
  {
   "cell_type": "code",
   "execution_count": null,
   "id": "96091b69",
   "metadata": {},
   "outputs": [],
   "source": []
  },
  {
   "cell_type": "code",
   "execution_count": null,
   "id": "7042e812",
   "metadata": {},
   "outputs": [],
   "source": []
  },
  {
   "cell_type": "code",
   "execution_count": null,
   "id": "21297b5d",
   "metadata": {},
   "outputs": [],
   "source": []
  },
  {
   "cell_type": "code",
   "execution_count": null,
   "id": "5847dd3e",
   "metadata": {},
   "outputs": [],
   "source": []
  },
  {
   "cell_type": "code",
   "execution_count": null,
   "id": "93161583",
   "metadata": {},
   "outputs": [],
   "source": []
  },
  {
   "cell_type": "code",
   "execution_count": null,
   "id": "8258d77a",
   "metadata": {},
   "outputs": [],
   "source": []
  },
  {
   "cell_type": "code",
   "execution_count": null,
   "id": "d310440e",
   "metadata": {},
   "outputs": [],
   "source": []
  },
  {
   "cell_type": "markdown",
   "id": "2fcad77d",
   "metadata": {},
   "source": [
    "# keras neural network\n",
    "This code on the full dataset will require more memory than available in a standard PC"
   ]
  },
  {
   "cell_type": "code",
   "execution_count": 122,
   "id": "7ea99ab2",
   "metadata": {},
   "outputs": [],
   "source": [
    "import numpy as np\n",
    "from sklearn.model_selection import train_test_split\n",
    "from sklearn.preprocessing import LabelEncoder\n",
    "from keras.models import Sequential\n",
    "from keras.layers import Dense, Embedding, LSTM"
   ]
  },
  {
   "cell_type": "code",
   "execution_count": 163,
   "id": "1708d10d",
   "metadata": {},
   "outputs": [
    {
     "name": "stdout",
     "output_type": "stream",
     "text": [
      "<class 'pandas.core.series.Series'>\n",
      "<class 'pandas.core.series.Series'>\n"
     ]
    }
   ],
   "source": [
    "# extract features with 'term' as the target variable aka what's being predicted based on the input variable 'sequence' aka what's training the model\n",
    "X = protein_train['sequence']\n",
    "y = protein_train['term']\n",
    "\n",
    "print(type(X))\n",
    "print(type(y))"
   ]
  },
  {
   "cell_type": "code",
   "execution_count": 149,
   "id": "1491b813",
   "metadata": {},
   "outputs": [],
   "source": [
    "# label encoding to transform the target variable from categorical to numeric data\n",
    "label_encoder = LabelEncoder()\n",
    "y = label_encoder.fit_transform(y)"
   ]
  },
  {
   "cell_type": "code",
   "execution_count": 161,
   "id": "ae1633a4",
   "metadata": {},
   "outputs": [],
   "source": [
    "# split the data into training and testing sets\n",
    "X_train, X_test, y_train, y_test = train_test_split(X, y, test_size=0.2, random_state=420)"
   ]
  },
  {
   "cell_type": "code",
   "execution_count": 151,
   "id": "0f867d97",
   "metadata": {},
   "outputs": [],
   "source": [
    "# define  max sequence length so we can pad all sequences to have the same length (recommended for neural networks that process inputs in fixed-size batches)\n",
    "max_sequence_length = max(X_train.str.len())"
   ]
  },
  {
   "cell_type": "code",
   "execution_count": 153,
   "id": "c75dc198",
   "metadata": {},
   "outputs": [
    {
     "name": "stderr",
     "output_type": "stream",
     "text": [
      "C:\\Users\\ljbri\\AppData\\Local\\Temp\\ipykernel_16932\\1473907176.py:12: VisibleDeprecationWarning: Creating an ndarray from ragged nested sequences (which is a list-or-tuple of lists-or-tuples-or ndarrays with different lengths or shapes) is deprecated. If you meant to do this, you must specify 'dtype=object' when creating the ndarray.\n",
      "  X_train_encoded = np.array(X_train_encoded)\n",
      "C:\\Users\\ljbri\\AppData\\Local\\Temp\\ipykernel_16932\\1473907176.py:15: VisibleDeprecationWarning: Creating an ndarray from ragged nested sequences (which is a list-or-tuple of lists-or-tuples-or ndarrays with different lengths or shapes) is deprecated. If you meant to do this, you must specify 'dtype=object' when creating the ndarray.\n",
      "  X_test_encoded = np.array(X_test_encoded)\n"
     ]
    }
   ],
   "source": [
    "# assigns numbers to each amino acid character\n",
    "#takes ~40 min\n",
    "char_to_int = {'A': 0, 'R': 1, 'N': 2, 'D': 3, 'C': 4, 'Q': 5, 'E': 6, 'G': 7, 'H': 8, 'I': 9, 'L': 10, 'K': 11, 'M': 12, 'F': 13, 'P': 14, 'S': 15, 'T': 16, 'W': 17, 'Y': 18, 'V': 19}\n",
    "num_classes = len(label_encoder.classes_)\n",
    "\n",
    "# assigns a default value for characters not in the dictionary\n",
    "default_value = 20  \n",
    "def convert_char_to_int(char):\n",
    "    return char_to_int.get(char, default_value)\n",
    "\n",
    "# convert the sequences into numeric representation\n",
    "X_train_encoded = [[convert_char_to_int(char) for char in seq] for seq in X_train]\n",
    "X_train_encoded = np.array(X_train_encoded)\n",
    "\n",
    "X_test_encoded = [[convert_char_to_int(char) for char in seq] for seq in X_test]\n",
    "X_test_encoded = np.array(X_test_encoded)\n",
    "\n",
    "#can ignore 'Warning: Creating an ndarray from ragged nested sequences' about X_train_encoded and X_test encoded being different lengths, because it will resolve when sequences are padded"
   ]
  },
  {
   "cell_type": "code",
   "execution_count": 158,
   "id": "62486cd5",
   "metadata": {},
   "outputs": [
    {
     "ename": "MemoryError",
     "evalue": "Unable to allocate 283. GiB for an array with shape (4291090, 35375) and data type int16",
     "output_type": "error",
     "traceback": [
      "\u001b[1;31m---------------------------------------------------------------------------\u001b[0m",
      "\u001b[1;31mMemoryError\u001b[0m                               Traceback (most recent call last)",
      "Cell \u001b[1;32mIn[158], line 2\u001b[0m\n\u001b[0;32m      1\u001b[0m \u001b[38;5;66;03m# pad sequences to have the same length using zeros\u001b[39;00m\n\u001b[1;32m----> 2\u001b[0m X_train_padded \u001b[38;5;241m=\u001b[39m \u001b[43mnp\u001b[49m\u001b[38;5;241;43m.\u001b[39;49m\u001b[43mzeros\u001b[49m\u001b[43m(\u001b[49m\u001b[43m(\u001b[49m\u001b[43mX_train_encoded\u001b[49m\u001b[38;5;241;43m.\u001b[39;49m\u001b[43mshape\u001b[49m\u001b[43m[\u001b[49m\u001b[38;5;241;43m0\u001b[39;49m\u001b[43m]\u001b[49m\u001b[43m,\u001b[49m\u001b[43m \u001b[49m\u001b[43mmax_sequence_length\u001b[49m\u001b[43m)\u001b[49m\u001b[43m,\u001b[49m\u001b[43m \u001b[49m\u001b[43mdtype\u001b[49m\u001b[38;5;241;43m=\u001b[39;49m\u001b[43mnp\u001b[49m\u001b[38;5;241;43m.\u001b[39;49m\u001b[43mint16\u001b[49m\u001b[43m)\u001b[49m\n\u001b[0;32m      3\u001b[0m \u001b[38;5;28;01mfor\u001b[39;00m i, seq \u001b[38;5;129;01min\u001b[39;00m \u001b[38;5;28menumerate\u001b[39m(X_train_encoded):\n\u001b[0;32m      4\u001b[0m     X_train_padded[i, :\u001b[38;5;28mlen\u001b[39m(seq)] \u001b[38;5;241m=\u001b[39m seq\n",
      "\u001b[1;31mMemoryError\u001b[0m: Unable to allocate 283. GiB for an array with shape (4291090, 35375) and data type int16"
     ]
    }
   ],
   "source": [
    "# pad sequences to have the same length using zeros\n",
    "X_train_padded = np.zeros((X_train_encoded.shape[0], max_sequence_length), dtype=np.int32)\n",
    "for i, seq in enumerate(X_train_encoded):\n",
    "    X_train_padded[i, :len(seq)] = seq\n",
    "\n",
    "type(X_train_padded)\n",
    "print(X_train_padded)\n",
    "np.save('X_train_padded', X_train_padded)"
   ]
  },
  {
   "cell_type": "code",
   "execution_count": null,
   "id": "9f5ca955",
   "metadata": {},
   "outputs": [],
   "source": [
    "# create the model\n",
    "model1 = models.Sequential()\n",
    "model1.add(Embedding(input_dim=num_classes, output_dim=64, input_length=max_sequence_length)) #convert amino acid sequences into dense vectors (captures sequential relationships between characters)\n",
    "model1.add(LSTM(units=128)) #recurrent neural netowrk  processes embedded sequences and extracts relevant features/patterns\n",
    "model1.add(Dense(units=num_classes, activation='softmax')) #fully connected final layer\n",
    "\n",
    "model1.summary()"
   ]
  },
  {
   "cell_type": "code",
   "execution_count": null,
   "id": "f69f660d",
   "metadata": {},
   "outputs": [],
   "source": [
    "# compile the model\n",
    "model1.compile(loss='sparse_categorical_crossentropy', #common when more than two categories\n",
    "               optimizer='adam', #efficient and effective for deep learning tasks\n",
    "               metrics=['accuracy']) #represents % of correctly predicted samples; common for classification\n"
   ]
  },
  {
   "cell_type": "code",
   "execution_count": null,
   "id": "2a4adeb1",
   "metadata": {},
   "outputs": [],
   "source": [
    "# train the model for 10 epochs\n",
    "model1.fit(X_train_padded, y_train, validation_data=(X_test_padded, y_test), epochs=10, batch_size=32)"
   ]
  },
  {
   "cell_type": "code",
   "execution_count": null,
   "id": "6f7777e9",
   "metadata": {},
   "outputs": [],
   "source": [
    "# evaluate the model on the testing data\n",
    "loss, accuracy = model1.evaluate(X_test_padded, y_test)\n",
    "\n",
    "print(\"Test Loss:\", loss)\n",
    "print(\"Test Accuracy:\", accuracy)"
   ]
  },
  {
   "cell_type": "code",
   "execution_count": null,
   "id": "7e94ac8f",
   "metadata": {},
   "outputs": [],
   "source": [
    "# train the model for 100 epochs\n",
    "n_epochs = 100\n",
    "\n",
    "history1 = model1.fit(X_train_padded,\n",
    "                       y_train,\n",
    "                       epochs = n_epochs,\n",
    "                       batch_size = 25,\n",
    "                       validation_data = (X_test_padded, \n",
    "                                          y_test))\n",
    "\n",
    "history1.history()"
   ]
  },
  {
   "cell_type": "code",
   "execution_count": null,
   "id": "4d0173a5",
   "metadata": {},
   "outputs": [],
   "source": [
    "#plot training accuracy and validation accuracy against the epoch \n",
    "\n",
    "sns.set_style(\"whitegrid\")\n",
    "\n",
    "plt.figure(figsize=(10,5))\n",
    "\n",
    "plt.scatter(range(1,n_epochs+1), \n",
    "            history1.history['accuracy'], \n",
    "            label=\"Training Data\")\n",
    "plt.scatter(range(1,n_epochs+1), \n",
    "            history1.history['val_accuracy'], \n",
    "            marker='v',\n",
    "            label=\"Validation Data\")\n",
    "\n",
    "plt.xlabel(\"Epoch\", fontsize=12)\n",
    "plt.ylabel(\"Accuracy\", fontsize=12)\n",
    "\n",
    "\n",
    "plt.legend(fontsize=12)\n",
    "\n",
    "\n",
    "plt.show()"
   ]
  }
 ],
 "metadata": {
  "kernelspec": {
   "display_name": "Python 3 (ipykernel)",
   "language": "python",
   "name": "python3"
  },
  "language_info": {
   "codemirror_mode": {
    "name": "ipython",
    "version": 3
   },
   "file_extension": ".py",
   "mimetype": "text/x-python",
   "name": "python",
   "nbconvert_exporter": "python",
   "pygments_lexer": "ipython3",
   "version": "3.10.9"
  }
 },
 "nbformat": 4,
 "nbformat_minor": 5
}
