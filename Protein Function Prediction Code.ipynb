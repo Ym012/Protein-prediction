{
 "cells": [
  {
   "cell_type": "markdown",
   "id": "81190b4b",
   "metadata": {},
   "source": [
    "# Importing, cleaning and exploring data\n",
    "\n",
    "Data source: https://www.kaggle.com/competitions/cafa-5-protein-function-prediction/data\n",
    "Evaluation metrics: https://www.kaggle.com/competitions/cafa-5-protein-function-prediction/overview/evaluation\n"
   ]
  },
  {
   "cell_type": "markdown",
   "id": "d9eade9c",
   "metadata": {},
   "source": [
    "First, run the following code in the conda environment to prevent exceeding the IOPub data rate for loading fasta files and then reopen the kernel:\n",
    "\n",
    "jupyter notebook --NotebookApp.iopub_data_rate_limit=1.0e8\n",
    "\n",
    "And make sure all packages are installed:\n",
    "- pip install biopython\n",
    "- pip install pandas\n",
    "- pip install obonet\n"
   ]
  },
  {
   "cell_type": "code",
   "execution_count": 3,
   "id": "7b058a56",
   "metadata": {},
   "outputs": [],
   "source": [
    "# load packages\n",
    "from Bio import SeqIO\n",
    "import pandas as pd\n",
    "import obonet as obo\n",
    "import matplotlib.pyplot as plt"
   ]
  },
  {
   "cell_type": "markdown",
   "id": "51ea3e08",
   "metadata": {},
   "source": [
    "# go-basic.obo\n",
    "includes the ontology graph structure for each GO term.\n",
    "\n",
    "This part of the training set contains data for Molecular Function (MF), Biological Process (BP) or Cellular Component (CC) subontologies of GO, which is what will be predicted for the test set. "
   ]
  },
  {
   "cell_type": "code",
   "execution_count": 4,
   "id": "8e71172e",
   "metadata": {},
   "outputs": [
    {
     "data": {
      "text/html": [
       "<div>\n",
       "<style scoped>\n",
       "    .dataframe tbody tr th:only-of-type {\n",
       "        vertical-align: middle;\n",
       "    }\n",
       "\n",
       "    .dataframe tbody tr th {\n",
       "        vertical-align: top;\n",
       "    }\n",
       "\n",
       "    .dataframe thead th {\n",
       "        text-align: right;\n",
       "    }\n",
       "</style>\n",
       "<table border=\"1\" class=\"dataframe\">\n",
       "  <thead>\n",
       "    <tr style=\"text-align: right;\">\n",
       "      <th></th>\n",
       "      <th>term</th>\n",
       "      <th>name</th>\n",
       "      <th>namespace</th>\n",
       "    </tr>\n",
       "  </thead>\n",
       "  <tbody>\n",
       "    <tr>\n",
       "      <th>23185</th>\n",
       "      <td>GO:0048482</td>\n",
       "      <td>plant ovule morphogenesis</td>\n",
       "      <td>biological_process</td>\n",
       "    </tr>\n",
       "    <tr>\n",
       "      <th>2900</th>\n",
       "      <td>GO:0004475</td>\n",
       "      <td>mannose-1-phosphate guanylyltransferase (GTP) ...</td>\n",
       "      <td>molecular_function</td>\n",
       "    </tr>\n",
       "    <tr>\n",
       "      <th>36133</th>\n",
       "      <td>GO:1900275</td>\n",
       "      <td>negative regulation of phospholipase C activity</td>\n",
       "      <td>biological_process</td>\n",
       "    </tr>\n",
       "    <tr>\n",
       "      <th>22188</th>\n",
       "      <td>GO:0047363</td>\n",
       "      <td>triglucosylalkylacylglycerol sulfotransferase ...</td>\n",
       "      <td>molecular_function</td>\n",
       "    </tr>\n",
       "    <tr>\n",
       "      <th>39652</th>\n",
       "      <td>GO:1904253</td>\n",
       "      <td>positive regulation of bile acid metabolic pro...</td>\n",
       "      <td>biological_process</td>\n",
       "    </tr>\n",
       "    <tr>\n",
       "      <th>41865</th>\n",
       "      <td>GO:1990771</td>\n",
       "      <td>clathrin-dependent extracellular exosome endoc...</td>\n",
       "      <td>biological_process</td>\n",
       "    </tr>\n",
       "    <tr>\n",
       "      <th>36584</th>\n",
       "      <td>GO:1900821</td>\n",
       "      <td>orlandin biosynthetic process</td>\n",
       "      <td>biological_process</td>\n",
       "    </tr>\n",
       "    <tr>\n",
       "      <th>23967</th>\n",
       "      <td>GO:0050364</td>\n",
       "      <td>tryptophan dimethylallyltransferase activity</td>\n",
       "      <td>molecular_function</td>\n",
       "    </tr>\n",
       "    <tr>\n",
       "      <th>42895</th>\n",
       "      <td>GO:2000937</td>\n",
       "      <td>negative regulation of cellotriose catabolic p...</td>\n",
       "      <td>biological_process</td>\n",
       "    </tr>\n",
       "    <tr>\n",
       "      <th>41055</th>\n",
       "      <td>GO:1905775</td>\n",
       "      <td>negative regulation of DNA helicase activity</td>\n",
       "      <td>biological_process</td>\n",
       "    </tr>\n",
       "  </tbody>\n",
       "</table>\n",
       "</div>"
      ],
      "text/plain": [
       "             term                                               name  \\\n",
       "23185  GO:0048482                          plant ovule morphogenesis   \n",
       "2900   GO:0004475  mannose-1-phosphate guanylyltransferase (GTP) ...   \n",
       "36133  GO:1900275    negative regulation of phospholipase C activity   \n",
       "22188  GO:0047363  triglucosylalkylacylglycerol sulfotransferase ...   \n",
       "39652  GO:1904253  positive regulation of bile acid metabolic pro...   \n",
       "41865  GO:1990771  clathrin-dependent extracellular exosome endoc...   \n",
       "36584  GO:1900821                      orlandin biosynthetic process   \n",
       "23967  GO:0050364       tryptophan dimethylallyltransferase activity   \n",
       "42895  GO:2000937  negative regulation of cellotriose catabolic p...   \n",
       "41055  GO:1905775       negative regulation of DNA helicase activity   \n",
       "\n",
       "                namespace  \n",
       "23185  biological_process  \n",
       "2900   molecular_function  \n",
       "36133  biological_process  \n",
       "22188  molecular_function  \n",
       "39652  biological_process  \n",
       "41865  biological_process  \n",
       "36584  biological_process  \n",
       "23967  molecular_function  \n",
       "42895  biological_process  \n",
       "41055  biological_process  "
      ]
     },
     "execution_count": 4,
     "metadata": {},
     "output_type": "execute_result"
    }
   ],
   "source": [
    "# import go-basic.obo\n",
    "graph = obo.read_obo('cafa-5-protein-function-prediction/Train/go-basic.obo')\n",
    "\n",
    "# Convert the graph to a DataFrame and reset the index\n",
    "go = pd.DataFrame.from_dict(graph.nodes, orient='index').reset_index()\n",
    "go = go.rename(columns={go.columns[0]: 'term'})\n",
    "\n",
    "# Keep only important columns\n",
    "go = go[['term', 'name', 'namespace']]\n",
    "go.sample(10)"
   ]
  },
  {
   "cell_type": "code",
   "execution_count": 5,
   "id": "892f1043",
   "metadata": {},
   "outputs": [
    {
     "data": {
      "text/html": [
       "<div>\n",
       "<style scoped>\n",
       "    .dataframe tbody tr th:only-of-type {\n",
       "        vertical-align: middle;\n",
       "    }\n",
       "\n",
       "    .dataframe tbody tr th {\n",
       "        vertical-align: top;\n",
       "    }\n",
       "\n",
       "    .dataframe thead th {\n",
       "        text-align: right;\n",
       "    }\n",
       "</style>\n",
       "<table border=\"1\" class=\"dataframe\">\n",
       "  <thead>\n",
       "    <tr style=\"text-align: right;\">\n",
       "      <th></th>\n",
       "      <th>term</th>\n",
       "      <th>name</th>\n",
       "      <th>namespace</th>\n",
       "    </tr>\n",
       "  </thead>\n",
       "  <tbody>\n",
       "    <tr>\n",
       "      <th>count</th>\n",
       "      <td>43248</td>\n",
       "      <td>43248</td>\n",
       "      <td>43248</td>\n",
       "    </tr>\n",
       "    <tr>\n",
       "      <th>unique</th>\n",
       "      <td>43248</td>\n",
       "      <td>43248</td>\n",
       "      <td>3</td>\n",
       "    </tr>\n",
       "    <tr>\n",
       "      <th>top</th>\n",
       "      <td>GO:0000001</td>\n",
       "      <td>mitochondrion inheritance</td>\n",
       "      <td>biological_process</td>\n",
       "    </tr>\n",
       "    <tr>\n",
       "      <th>freq</th>\n",
       "      <td>1</td>\n",
       "      <td>1</td>\n",
       "      <td>27942</td>\n",
       "    </tr>\n",
       "  </tbody>\n",
       "</table>\n",
       "</div>"
      ],
      "text/plain": [
       "              term                       name           namespace\n",
       "count        43248                      43248               43248\n",
       "unique       43248                      43248                   3\n",
       "top     GO:0000001  mitochondrion inheritance  biological_process\n",
       "freq             1                          1               27942"
      ]
     },
     "execution_count": 5,
     "metadata": {},
     "output_type": "execute_result"
    }
   ],
   "source": [
    "go.describe()"
   ]
  },
  {
   "cell_type": "code",
   "execution_count": 6,
   "id": "7c3731c6",
   "metadata": {},
   "outputs": [
    {
     "name": "stdout",
     "output_type": "stream",
     "text": [
      "go: \n",
      " term         0\n",
      "name         0\n",
      "namespace    0\n",
      "dtype: int64\n"
     ]
    }
   ],
   "source": [
    "# check for missing data\n",
    "print('go: \\n', go.isna().sum())"
   ]
  },
  {
   "cell_type": "code",
   "execution_count": 7,
   "id": "2f8fb233",
   "metadata": {},
   "outputs": [
    {
     "name": "stdout",
     "output_type": "stream",
     "text": [
      "All names are unique.\n"
     ]
    }
   ],
   "source": [
    "# Check for duplicate names in the 'Name' column\n",
    "duplicates_go = go['term'].duplicated()\n",
    "\n",
    "if duplicates_go.any():\n",
    "    print(\"There are entries with the same name.\")\n",
    "else:\n",
    "    print(\"All names are unique.\")"
   ]
  },
  {
   "cell_type": "code",
   "execution_count": 8,
   "id": "15608e7d",
   "metadata": {},
   "outputs": [
    {
     "name": "stdout",
     "output_type": "stream",
     "text": [
      "All names are unique.\n"
     ]
    }
   ],
   "source": [
    "duplicates_name = go['name'].duplicated()\n",
    "\n",
    "if duplicates_name.any():\n",
    "    print(\"There are entries with the same name.\")\n",
    "else:\n",
    "    print(\"All names are unique.\")"
   ]
  },
  {
   "cell_type": "code",
   "execution_count": 9,
   "id": "95568aa9",
   "metadata": {},
   "outputs": [
    {
     "data": {
      "image/png": "[encoded data removed]",
      "text/plain": [
       "<Figure size 400x400 with 1 Axes>"
      ]
     },
     "metadata": {},
     "output_type": "display_data"
    }
   ],
   "source": [
    "namespace_counts = go['namespace'].value_counts()\n",
    "plt.figure(figsize=(4, 4))\n",
    "namespace_counts.plot(kind='bar')\n",
    "bar_plot = namespace_counts.plot(kind='bar')\n",
    "plt.ylabel('Count')\n",
    "plt.title('Counts of GO Subontologies')\n",
    "plt.xticks(rotation = 20)\n",
    "for index, value in enumerate(namespace_counts):\n",
    "    bar_plot.text(index, value, str(value), ha='center', va='bottom')\n",
    "plt.show()"
   ]
  },
  {
   "cell_type": "markdown",
   "id": "079b6b5b",
   "metadata": {},
   "source": [
    "# train_sequences.fasta\n",
    "includes the amino acid sequences for proteins in training set."
   ]
  },
  {
   "cell_type": "code",
   "execution_count": 10,
   "id": "a7332e67",
   "metadata": {},
   "outputs": [
    {
     "data": {
      "text/html": [
       "<div>\n",
       "<style scoped>\n",
       "    .dataframe tbody tr th:only-of-type {\n",
       "        vertical-align: middle;\n",
       "    }\n",
       "\n",
       "    .dataframe tbody tr th {\n",
       "        vertical-align: top;\n",
       "    }\n",
       "\n",
       "    .dataframe thead th {\n",
       "        text-align: right;\n",
       "    }\n",
       "</style>\n",
       "<table border=\"1\" class=\"dataframe\">\n",
       "  <thead>\n",
       "    <tr style=\"text-align: right;\">\n",
       "      <th></th>\n",
       "      <th>EntryID</th>\n",
       "      <th>sequence</th>\n",
       "    </tr>\n",
       "  </thead>\n",
       "  <tbody>\n",
       "    <tr>\n",
       "      <th>0</th>\n",
       "      <td>P20536</td>\n",
       "      <td>MNSVTVSHAPYTITYHDDWEPVMSQLVEFYNEVASWLLRDETSPIP...</td>\n",
       "    </tr>\n",
       "    <tr>\n",
       "      <th>1</th>\n",
       "      <td>O73864</td>\n",
       "      <td>MTEYRNFLLLFITSLSVIYPCTGISWLGLTINGSSVGWNQTHHCKL...</td>\n",
       "    </tr>\n",
       "    <tr>\n",
       "      <th>2</th>\n",
       "      <td>O95231</td>\n",
       "      <td>MRLSSSPPRGPQQLSSFGSVDWLSQSSCSGPTHTPRPADFSLGSLP...</td>\n",
       "    </tr>\n",
       "    <tr>\n",
       "      <th>3</th>\n",
       "      <td>A0A0B4J1F4</td>\n",
       "      <td>MGGEAGADGPRGRVKSLGLVFEDESKGCYSSGETVAGHVLLEAAEP...</td>\n",
       "    </tr>\n",
       "    <tr>\n",
       "      <th>4</th>\n",
       "      <td>P54366</td>\n",
       "      <td>MVETNSPPAGYTLKRSPSDLGEQQQPPRQISRSPGNTAAYHLTTAM...</td>\n",
       "    </tr>\n",
       "  </tbody>\n",
       "</table>\n",
       "</div>"
      ],
      "text/plain": [
       "      EntryID                                           sequence\n",
       "0      P20536  MNSVTVSHAPYTITYHDDWEPVMSQLVEFYNEVASWLLRDETSPIP...\n",
       "1      O73864  MTEYRNFLLLFITSLSVIYPCTGISWLGLTINGSSVGWNQTHHCKL...\n",
       "2      O95231  MRLSSSPPRGPQQLSSFGSVDWLSQSSCSGPTHTPRPADFSLGSLP...\n",
       "3  A0A0B4J1F4  MGGEAGADGPRGRVKSLGLVFEDESKGCYSSGETVAGHVLLEAAEP...\n",
       "4      P54366  MVETNSPPAGYTLKRSPSDLGEQQQPPRQISRSPGNTAAYHLTTAM..."
      ]
     },
     "execution_count": 10,
     "metadata": {},
     "output_type": "execute_result"
    }
   ],
   "source": [
    "# import train_sequences.fasta\n",
    "\n",
    "fasta_train = 'cafa-5-protein-function-prediction/Train/train_sequences.fasta'\n",
    "\n",
    "train_sequences = []\n",
    "\n",
    "# Open the FASTA file and iterate over each record\n",
    "for record in SeqIO.parse(fasta_train, \"fasta\"):\n",
    "    # Retrieve the sequence ID and sequence\n",
    "    seq_id = record.id\n",
    "    sequence = str(record.seq)\n",
    "    \n",
    "    # Append the sequence ID and sequence as a tuple to the list\n",
    "    train_sequences.append((seq_id, sequence))\n",
    "\n",
    "# convert to dataframe\n",
    "trainset = pd.DataFrame(train_sequences, columns=['EntryID', 'sequence'])\n",
    "trainset.head()"
   ]
  },
  {
   "cell_type": "code",
   "execution_count": 11,
   "id": "eea678b2",
   "metadata": {},
   "outputs": [
    {
     "name": "stdout",
     "output_type": "stream",
     "text": [
      "trainset: \n",
      " EntryID     0\n",
      "sequence    0\n",
      "dtype: int64\n"
     ]
    }
   ],
   "source": [
    "# check for missing data\n",
    "print('trainset: \\n', trainset.isna().sum())"
   ]
  },
  {
   "cell_type": "markdown",
   "id": "d31c486b",
   "metadata": {},
   "source": [
    "# train_taxonomy.tsv\n",
    "includes the taxon ID for the proteins in training set."
   ]
  },
  {
   "cell_type": "code",
   "execution_count": 12,
   "id": "ba1437e9",
   "metadata": {
    "scrolled": true
   },
   "outputs": [
    {
     "data": {
      "text/html": [
       "<div>\n",
       "<style scoped>\n",
       "    .dataframe tbody tr th:only-of-type {\n",
       "        vertical-align: middle;\n",
       "    }\n",
       "\n",
       "    .dataframe tbody tr th {\n",
       "        vertical-align: top;\n",
       "    }\n",
       "\n",
       "    .dataframe thead th {\n",
       "        text-align: right;\n",
       "    }\n",
       "</style>\n",
       "<table border=\"1\" class=\"dataframe\">\n",
       "  <thead>\n",
       "    <tr style=\"text-align: right;\">\n",
       "      <th></th>\n",
       "      <th>EntryID</th>\n",
       "      <th>taxonomyID</th>\n",
       "    </tr>\n",
       "  </thead>\n",
       "  <tbody>\n",
       "    <tr>\n",
       "      <th>39086</th>\n",
       "      <td>F4JEA6</td>\n",
       "      <td>3702</td>\n",
       "    </tr>\n",
       "    <tr>\n",
       "      <th>85046</th>\n",
       "      <td>A0A158VHB0</td>\n",
       "      <td>7955</td>\n",
       "    </tr>\n",
       "    <tr>\n",
       "      <th>98319</th>\n",
       "      <td>Q3U0X8</td>\n",
       "      <td>10090</td>\n",
       "    </tr>\n",
       "    <tr>\n",
       "      <th>60486</th>\n",
       "      <td>Q9UL11</td>\n",
       "      <td>9606</td>\n",
       "    </tr>\n",
       "    <tr>\n",
       "      <th>106686</th>\n",
       "      <td>O74737</td>\n",
       "      <td>284812</td>\n",
       "    </tr>\n",
       "  </tbody>\n",
       "</table>\n",
       "</div>"
      ],
      "text/plain": [
       "           EntryID  taxonomyID\n",
       "39086       F4JEA6        3702\n",
       "85046   A0A158VHB0        7955\n",
       "98319       Q3U0X8       10090\n",
       "60486       Q9UL11        9606\n",
       "106686      O74737      284812"
      ]
     },
     "execution_count": 12,
     "metadata": {},
     "output_type": "execute_result"
    }
   ],
   "source": [
    "# import train_taxonomy.tsv\n",
    "train_taxon_ID = pd.read_csv(\"cafa-5-protein-function-prediction/Train/train_taxonomy.tsv\", sep=\"\\t\")\n",
    "train_taxon_ID.sample(5)"
   ]
  },
  {
   "cell_type": "code",
   "execution_count": 13,
   "id": "2bfb6ed7",
   "metadata": {},
   "outputs": [
    {
     "name": "stdout",
     "output_type": "stream",
     "text": [
      "train_taxon_ID: \n",
      " EntryID       0\n",
      "taxonomyID    0\n",
      "dtype: int64\n"
     ]
    }
   ],
   "source": [
    "# check for missing data\n",
    "print('train_taxon_ID: \\n', train_taxon_ID.isna().sum())"
   ]
  },
  {
   "cell_type": "markdown",
   "id": "8c92e029",
   "metadata": {},
   "source": [
    "# train_terms.tsv\n",
    "includes the training set of proteins and corresponding annotated GO terms."
   ]
  },
  {
   "cell_type": "code",
   "execution_count": 14,
   "id": "8745757c",
   "metadata": {},
   "outputs": [
    {
     "data": {
      "text/html": [
       "<div>\n",
       "<style scoped>\n",
       "    .dataframe tbody tr th:only-of-type {\n",
       "        vertical-align: middle;\n",
       "    }\n",
       "\n",
       "    .dataframe tbody tr th {\n",
       "        vertical-align: top;\n",
       "    }\n",
       "\n",
       "    .dataframe thead th {\n",
       "        text-align: right;\n",
       "    }\n",
       "</style>\n",
       "<table border=\"1\" class=\"dataframe\">\n",
       "  <thead>\n",
       "    <tr style=\"text-align: right;\">\n",
       "      <th></th>\n",
       "      <th>EntryID</th>\n",
       "      <th>term</th>\n",
       "      <th>aspect</th>\n",
       "    </tr>\n",
       "  </thead>\n",
       "  <tbody>\n",
       "    <tr>\n",
       "      <th>890997</th>\n",
       "      <td>P04693</td>\n",
       "      <td>GO:0009082</td>\n",
       "      <td>BPO</td>\n",
       "    </tr>\n",
       "    <tr>\n",
       "      <th>3973749</th>\n",
       "      <td>P46662</td>\n",
       "      <td>GO:0015629</td>\n",
       "      <td>CCO</td>\n",
       "    </tr>\n",
       "    <tr>\n",
       "      <th>1838426</th>\n",
       "      <td>Q0VGU4</td>\n",
       "      <td>GO:0007548</td>\n",
       "      <td>BPO</td>\n",
       "    </tr>\n",
       "    <tr>\n",
       "      <th>4673251</th>\n",
       "      <td>Q9Y548</td>\n",
       "      <td>GO:0043226</td>\n",
       "      <td>CCO</td>\n",
       "    </tr>\n",
       "    <tr>\n",
       "      <th>1244414</th>\n",
       "      <td>P30043</td>\n",
       "      <td>GO:0006725</td>\n",
       "      <td>BPO</td>\n",
       "    </tr>\n",
       "  </tbody>\n",
       "</table>\n",
       "</div>"
      ],
      "text/plain": [
       "        EntryID        term aspect\n",
       "890997   P04693  GO:0009082    BPO\n",
       "3973749  P46662  GO:0015629    CCO\n",
       "1838426  Q0VGU4  GO:0007548    BPO\n",
       "4673251  Q9Y548  GO:0043226    CCO\n",
       "1244414  P30043  GO:0006725    BPO"
      ]
     },
     "execution_count": 14,
     "metadata": {},
     "output_type": "execute_result"
    }
   ],
   "source": [
    "# import train_terms.tsv\n",
    "train_terms = pd.read_csv(\"cafa-5-protein-function-prediction/Train/train_terms.tsv\", sep=\"\\t\")\n",
    "train_terms.sample(5)"
   ]
  },
  {
   "cell_type": "code",
   "execution_count": 15,
   "id": "ba6ae9d1",
   "metadata": {},
   "outputs": [
    {
     "name": "stdout",
     "output_type": "stream",
     "text": [
      "There are entries with the same name.\n"
     ]
    }
   ],
   "source": [
    "# Check for duplicate names in the 'Name' column\n",
    "duplicates_EntryID = train_terms['EntryID'].duplicated()\n",
    "\n",
    "if duplicates_EntryID.any():\n",
    "    print(\"There are entries with the same name.\")\n",
    "else:\n",
    "    print(\"All names are unique.\")"
   ]
  },
  {
   "cell_type": "code",
   "execution_count": 16,
   "id": "2dee8968",
   "metadata": {},
   "outputs": [
    {
     "name": "stdout",
     "output_type": "stream",
     "text": [
      "train_terms: \n",
      " EntryID    0\n",
      "term       0\n",
      "aspect     0\n",
      "dtype: int64\n"
     ]
    }
   ],
   "source": [
    "# check for missing data\n",
    "print('train_terms: \\n', train_terms.isna().sum())"
   ]
  },
  {
   "cell_type": "markdown",
   "id": "5fdada63",
   "metadata": {},
   "source": [
    "# IA.txt\n",
    "includes the “Information Accretion” weights for each GO term.. These weights are used to compute weighted precision and recall, as described in the Evaluation section."
   ]
  },
  {
   "cell_type": "code",
   "execution_count": 17,
   "id": "728078ad",
   "metadata": {},
   "outputs": [
    {
     "data": {
      "text/html": [
       "<div>\n",
       "<style scoped>\n",
       "    .dataframe tbody tr th:only-of-type {\n",
       "        vertical-align: middle;\n",
       "    }\n",
       "\n",
       "    .dataframe tbody tr th {\n",
       "        vertical-align: top;\n",
       "    }\n",
       "\n",
       "    .dataframe thead th {\n",
       "        text-align: right;\n",
       "    }\n",
       "</style>\n",
       "<table border=\"1\" class=\"dataframe\">\n",
       "  <thead>\n",
       "    <tr style=\"text-align: right;\">\n",
       "      <th></th>\n",
       "      <th>term</th>\n",
       "      <th>ia_score</th>\n",
       "    </tr>\n",
       "  </thead>\n",
       "  <tbody>\n",
       "    <tr>\n",
       "      <th>0</th>\n",
       "      <td>GO:0000001</td>\n",
       "      <td>0.000000</td>\n",
       "    </tr>\n",
       "    <tr>\n",
       "      <th>1</th>\n",
       "      <td>GO:0000002</td>\n",
       "      <td>3.103836</td>\n",
       "    </tr>\n",
       "    <tr>\n",
       "      <th>2</th>\n",
       "      <td>GO:0000003</td>\n",
       "      <td>3.439404</td>\n",
       "    </tr>\n",
       "    <tr>\n",
       "      <th>3</th>\n",
       "      <td>GO:0000011</td>\n",
       "      <td>0.056584</td>\n",
       "    </tr>\n",
       "    <tr>\n",
       "      <th>4</th>\n",
       "      <td>GO:0000012</td>\n",
       "      <td>6.400377</td>\n",
       "    </tr>\n",
       "  </tbody>\n",
       "</table>\n",
       "</div>"
      ],
      "text/plain": [
       "         term  ia_score\n",
       "0  GO:0000001  0.000000\n",
       "1  GO:0000002  3.103836\n",
       "2  GO:0000003  3.439404\n",
       "3  GO:0000011  0.056584\n",
       "4  GO:0000012  6.400377"
      ]
     },
     "execution_count": 17,
     "metadata": {},
     "output_type": "execute_result"
    }
   ],
   "source": [
    "# import IA.txt\n",
    "IA = pd.read_csv(\"cafa-5-protein-function-prediction/IA.txt\", delimiter='\\t', header=None)\n",
    "IA = IA.rename(columns={IA.columns[0]: 'term', IA.columns[1]: 'ia_score'})\n",
    "IA.head()"
   ]
  },
  {
   "cell_type": "code",
   "execution_count": 18,
   "id": "c7fefe41",
   "metadata": {},
   "outputs": [
    {
     "name": "stdout",
     "output_type": "stream",
     "text": [
      "IA: \n",
      " term        0\n",
      "ia_score    0\n",
      "dtype: int64\n"
     ]
    }
   ],
   "source": [
    "# check for missing data\n",
    "print('IA: \\n', IA.isna().sum())"
   ]
  },
  {
   "cell_type": "markdown",
   "id": "b8789f4c",
   "metadata": {},
   "source": [
    "# testsuperset.fasta\n",
    "includes the amino acid sequences for proteins on which the predictions should be made."
   ]
  },
  {
   "cell_type": "code",
   "execution_count": 19,
   "id": "6be6a54c",
   "metadata": {},
   "outputs": [
    {
     "data": {
      "text/html": [
       "<div>\n",
       "<style scoped>\n",
       "    .dataframe tbody tr th:only-of-type {\n",
       "        vertical-align: middle;\n",
       "    }\n",
       "\n",
       "    .dataframe tbody tr th {\n",
       "        vertical-align: top;\n",
       "    }\n",
       "\n",
       "    .dataframe thead th {\n",
       "        text-align: right;\n",
       "    }\n",
       "</style>\n",
       "<table border=\"1\" class=\"dataframe\">\n",
       "  <thead>\n",
       "    <tr style=\"text-align: right;\">\n",
       "      <th></th>\n",
       "      <th>seq_id</th>\n",
       "      <th>sequence</th>\n",
       "    </tr>\n",
       "  </thead>\n",
       "  <tbody>\n",
       "    <tr>\n",
       "      <th>0</th>\n",
       "      <td>Q9CQV8</td>\n",
       "      <td>MTMDKSELVQKAKLAEQAERYDDMAAAMKAVTEQGHELSNEERNLL...</td>\n",
       "    </tr>\n",
       "    <tr>\n",
       "      <th>1</th>\n",
       "      <td>P62259</td>\n",
       "      <td>MDDREDLVYQAKLAEQAERYDEMVESMKKVAGMDVELTVEERNLLS...</td>\n",
       "    </tr>\n",
       "    <tr>\n",
       "      <th>2</th>\n",
       "      <td>P68510</td>\n",
       "      <td>MGDREQLLQRARLAEQAERYDDMASAMKAVTELNEPLSNEDRNLLS...</td>\n",
       "    </tr>\n",
       "    <tr>\n",
       "      <th>3</th>\n",
       "      <td>P61982</td>\n",
       "      <td>MVDREQLVQKARLAEQAERYDDMAAAMKNVTELNEPLSNEERNLLS...</td>\n",
       "    </tr>\n",
       "    <tr>\n",
       "      <th>4</th>\n",
       "      <td>O70456</td>\n",
       "      <td>MERASLIQKAKLAEQAERYEDMAAFMKSAVEKGEELSCEERNLLSV...</td>\n",
       "    </tr>\n",
       "  </tbody>\n",
       "</table>\n",
       "</div>"
      ],
      "text/plain": [
       "   seq_id                                           sequence\n",
       "0  Q9CQV8  MTMDKSELVQKAKLAEQAERYDDMAAAMKAVTEQGHELSNEERNLL...\n",
       "1  P62259  MDDREDLVYQAKLAEQAERYDEMVESMKKVAGMDVELTVEERNLLS...\n",
       "2  P68510  MGDREQLLQRARLAEQAERYDDMASAMKAVTELNEPLSNEDRNLLS...\n",
       "3  P61982  MVDREQLVQKARLAEQAERYDDMAAAMKNVTELNEPLSNEERNLLS...\n",
       "4  O70456  MERASLIQKAKLAEQAERYEDMAAFMKSAVEKGEELSCEERNLLSV..."
      ]
     },
     "execution_count": 19,
     "metadata": {},
     "output_type": "execute_result"
    }
   ],
   "source": [
    "# import testsuperset.fasta\n",
    "fasta_test = 'cafa-5-protein-function-prediction/Test (Targets)/testsuperset.fasta'\n",
    "\n",
    "testsuperset = []\n",
    "\n",
    "# Open the FASTA file and iterate over each record\n",
    "for record in SeqIO.parse(fasta_test, \"fasta\"):\n",
    "    # Retrieve the sequence ID and sequence\n",
    "    seq_id = record.id\n",
    "    sequence = str(record.seq)\n",
    "    \n",
    "    # Append the sequence ID and sequence as a tuple to the list\n",
    "    testsuperset.append((seq_id, sequence))\n",
    "\n",
    "# convert to dataframe\n",
    "testset = pd.DataFrame(testsuperset, columns=['seq_id', 'sequence'])\n",
    "testset.head()"
   ]
  },
  {
   "cell_type": "code",
   "execution_count": 20,
   "id": "4f8a2d04",
   "metadata": {},
   "outputs": [
    {
     "name": "stdout",
     "output_type": "stream",
     "text": [
      "testset: \n",
      " seq_id      0\n",
      "sequence    0\n",
      "dtype: int64\n"
     ]
    }
   ],
   "source": [
    "# check for missing data\n",
    "print('testset: \\n', testset.isna().sum())"
   ]
  },
  {
   "cell_type": "markdown",
   "id": "1b896f4b",
   "metadata": {},
   "source": [
    "# testsuperset-taxon-list.tsv\n",
    "inclues the taxon ID for proteins in test superset."
   ]
  },
  {
   "cell_type": "code",
   "execution_count": 21,
   "id": "b08b1b32",
   "metadata": {},
   "outputs": [
    {
     "data": {
      "text/html": [
       "<div>\n",
       "<style scoped>\n",
       "    .dataframe tbody tr th:only-of-type {\n",
       "        vertical-align: middle;\n",
       "    }\n",
       "\n",
       "    .dataframe tbody tr th {\n",
       "        vertical-align: top;\n",
       "    }\n",
       "\n",
       "    .dataframe thead th {\n",
       "        text-align: right;\n",
       "    }\n",
       "</style>\n",
       "<table border=\"1\" class=\"dataframe\">\n",
       "  <thead>\n",
       "    <tr style=\"text-align: right;\">\n",
       "      <th></th>\n",
       "      <th>ID</th>\n",
       "      <th>Species</th>\n",
       "    </tr>\n",
       "  </thead>\n",
       "  <tbody>\n",
       "    <tr>\n",
       "      <th>68</th>\n",
       "      <td>284591</td>\n",
       "      <td>Yarrowia lipolytica CLIB122 (budding yeast)</td>\n",
       "    </tr>\n",
       "    <tr>\n",
       "      <th>38</th>\n",
       "      <td>36329</td>\n",
       "      <td>Plasmodium falciparum 3D7</td>\n",
       "    </tr>\n",
       "    <tr>\n",
       "      <th>48</th>\n",
       "      <td>7460</td>\n",
       "      <td>Apis mellifera [honey bee]</td>\n",
       "    </tr>\n",
       "    <tr>\n",
       "      <th>37</th>\n",
       "      <td>3218</td>\n",
       "      <td>Physcomitrium patens [moses]</td>\n",
       "    </tr>\n",
       "    <tr>\n",
       "      <th>14</th>\n",
       "      <td>9823</td>\n",
       "      <td>Sus scrofa</td>\n",
       "    </tr>\n",
       "  </tbody>\n",
       "</table>\n",
       "</div>"
      ],
      "text/plain": [
       "        ID                                      Species\n",
       "68  284591  Yarrowia lipolytica CLIB122 (budding yeast)\n",
       "38   36329                    Plasmodium falciparum 3D7\n",
       "48    7460                   Apis mellifera [honey bee]\n",
       "37    3218                 Physcomitrium patens [moses]\n",
       "14    9823                                  Sus scrofa "
      ]
     },
     "execution_count": 21,
     "metadata": {},
     "output_type": "execute_result"
    }
   ],
   "source": [
    "# import testsuperset-taxon-list.tsv\n",
    "test_taxon = pd.read_csv(\"cafa-5-protein-function-prediction/Test (Targets)/testsuperset-taxon-list.tsv\", sep=\"\\t\", encoding=\"ISO-8859-1\")\n",
    "test_taxon.sample(5)"
   ]
  },
  {
   "cell_type": "code",
   "execution_count": 22,
   "id": "177dbd1c",
   "metadata": {},
   "outputs": [
    {
     "name": "stdout",
     "output_type": "stream",
     "text": [
      "test_taxon: \n",
      " ID         0\n",
      "Species    0\n",
      "dtype: int64\n"
     ]
    }
   ],
   "source": [
    "# check for missing data\n",
    "print('test_taxon: \\n', test_taxon.isna().sum())"
   ]
  },
  {
   "cell_type": "markdown",
   "id": "82b086a1",
   "metadata": {},
   "source": [
    "# sample_submission.tsv\n",
    "is an example of a submission file in the correct format."
   ]
  },
  {
   "cell_type": "code",
   "execution_count": 23,
   "id": "5b839017",
   "metadata": {},
   "outputs": [
    {
     "data": {
      "text/html": [
       "<div>\n",
       "<style scoped>\n",
       "    .dataframe tbody tr th:only-of-type {\n",
       "        vertical-align: middle;\n",
       "    }\n",
       "\n",
       "    .dataframe tbody tr th {\n",
       "        vertical-align: top;\n",
       "    }\n",
       "\n",
       "    .dataframe thead th {\n",
       "        text-align: right;\n",
       "    }\n",
       "</style>\n",
       "<table border=\"1\" class=\"dataframe\">\n",
       "  <thead>\n",
       "    <tr style=\"text-align: right;\">\n",
       "      <th></th>\n",
       "      <th>protein_targets</th>\n",
       "      <th>term</th>\n",
       "      <th>prob_estimate</th>\n",
       "    </tr>\n",
       "  </thead>\n",
       "  <tbody>\n",
       "    <tr>\n",
       "      <th>159523</th>\n",
       "      <td>Q7ZVB1</td>\n",
       "      <td>GO:0000002</td>\n",
       "      <td>0.123</td>\n",
       "    </tr>\n",
       "    <tr>\n",
       "      <th>262559</th>\n",
       "      <td>Q06178</td>\n",
       "      <td>GO:0000002</td>\n",
       "      <td>0.123</td>\n",
       "    </tr>\n",
       "    <tr>\n",
       "      <th>156363</th>\n",
       "      <td>Q7SD63</td>\n",
       "      <td>GO:0000002</td>\n",
       "      <td>0.123</td>\n",
       "    </tr>\n",
       "    <tr>\n",
       "      <th>80753</th>\n",
       "      <td>P40085</td>\n",
       "      <td>GO:0000002</td>\n",
       "      <td>0.123</td>\n",
       "    </tr>\n",
       "  </tbody>\n",
       "</table>\n",
       "</div>"
      ],
      "text/plain": [
       "       protein_targets        term  prob_estimate\n",
       "159523          Q7ZVB1  GO:0000002          0.123\n",
       "262559          Q06178  GO:0000002          0.123\n",
       "156363          Q7SD63  GO:0000002          0.123\n",
       "80753           P40085  GO:0000002          0.123"
      ]
     },
     "execution_count": 23,
     "metadata": {},
     "output_type": "execute_result"
    }
   ],
   "source": [
    "# sample_submission.tsv\n",
    "sample_submission = pd.read_csv(\"cafa-5-protein-function-prediction/sample_submission.tsv\", sep=\"\\t\", header=None)\n",
    "sample_submission = sample_submission.rename(columns={sample_submission.columns[0]: 'protein_targets', sample_submission.columns[1]: 'term', sample_submission.columns[2]: 'prob_estimate'})\n",
    "sample_submission.sample(4)"
   ]
  },
  {
   "cell_type": "markdown",
   "id": "6e277a81",
   "metadata": {},
   "source": [
    "# Merging the training data"
   ]
  },
  {
   "cell_type": "code",
   "execution_count": 24,
   "id": "f9c3c08f",
   "metadata": {},
   "outputs": [
    {
     "data": {
      "text/html": [
       "<div>\n",
       "<style scoped>\n",
       "    .dataframe tbody tr th:only-of-type {\n",
       "        vertical-align: middle;\n",
       "    }\n",
       "\n",
       "    .dataframe tbody tr th {\n",
       "        vertical-align: top;\n",
       "    }\n",
       "\n",
       "    .dataframe thead th {\n",
       "        text-align: right;\n",
       "    }\n",
       "</style>\n",
       "<table border=\"1\" class=\"dataframe\">\n",
       "  <thead>\n",
       "    <tr style=\"text-align: right;\">\n",
       "      <th></th>\n",
       "      <th>term</th>\n",
       "      <th>name</th>\n",
       "      <th>namespace</th>\n",
       "      <th>EntryID</th>\n",
       "      <th>aspect</th>\n",
       "    </tr>\n",
       "  </thead>\n",
       "  <tbody>\n",
       "    <tr>\n",
       "      <th>0</th>\n",
       "      <td>GO:0000001</td>\n",
       "      <td>mitochondrion inheritance</td>\n",
       "      <td>biological_process</td>\n",
       "      <td>P21147</td>\n",
       "      <td>BPO</td>\n",
       "    </tr>\n",
       "    <tr>\n",
       "      <th>1</th>\n",
       "      <td>GO:0000001</td>\n",
       "      <td>mitochondrion inheritance</td>\n",
       "      <td>biological_process</td>\n",
       "      <td>P32266</td>\n",
       "      <td>BPO</td>\n",
       "    </tr>\n",
       "    <tr>\n",
       "      <th>2</th>\n",
       "      <td>GO:0000001</td>\n",
       "      <td>mitochondrion inheritance</td>\n",
       "      <td>biological_process</td>\n",
       "      <td>P32381</td>\n",
       "      <td>BPO</td>\n",
       "    </tr>\n",
       "    <tr>\n",
       "      <th>3</th>\n",
       "      <td>GO:0000001</td>\n",
       "      <td>mitochondrion inheritance</td>\n",
       "      <td>biological_process</td>\n",
       "      <td>P35182</td>\n",
       "      <td>BPO</td>\n",
       "    </tr>\n",
       "    <tr>\n",
       "      <th>4</th>\n",
       "      <td>GO:0000001</td>\n",
       "      <td>mitochondrion inheritance</td>\n",
       "      <td>biological_process</td>\n",
       "      <td>P38880</td>\n",
       "      <td>BPO</td>\n",
       "    </tr>\n",
       "  </tbody>\n",
       "</table>\n",
       "</div>"
      ],
      "text/plain": [
       "         term                       name           namespace EntryID aspect\n",
       "0  GO:0000001  mitochondrion inheritance  biological_process  P21147    BPO\n",
       "1  GO:0000001  mitochondrion inheritance  biological_process  P32266    BPO\n",
       "2  GO:0000001  mitochondrion inheritance  biological_process  P32381    BPO\n",
       "3  GO:0000001  mitochondrion inheritance  biological_process  P35182    BPO\n",
       "4  GO:0000001  mitochondrion inheritance  biological_process  P38880    BPO"
      ]
     },
     "execution_count": 24,
     "metadata": {},
     "output_type": "execute_result"
    }
   ],
   "source": [
    "# merge dataframes by go terms\n",
    "go_merge = pd.merge(go, train_terms, on='term')\n",
    "go_merge.head()"
   ]
  },
  {
   "cell_type": "code",
   "execution_count": 25,
   "id": "e0de26b0",
   "metadata": {},
   "outputs": [
    {
     "data": {
      "text/plain": [
       "5363863"
      ]
     },
     "execution_count": 25,
     "metadata": {},
     "output_type": "execute_result"
    }
   ],
   "source": [
    "go_merge.shape[0]"
   ]
  },
  {
   "cell_type": "code",
   "execution_count": 26,
   "id": "b15659e1",
   "metadata": {},
   "outputs": [
    {
     "data": {
      "text/html": [
       "<div>\n",
       "<style scoped>\n",
       "    .dataframe tbody tr th:only-of-type {\n",
       "        vertical-align: middle;\n",
       "    }\n",
       "\n",
       "    .dataframe tbody tr th {\n",
       "        vertical-align: top;\n",
       "    }\n",
       "\n",
       "    .dataframe thead th {\n",
       "        text-align: right;\n",
       "    }\n",
       "</style>\n",
       "<table border=\"1\" class=\"dataframe\">\n",
       "  <thead>\n",
       "    <tr style=\"text-align: right;\">\n",
       "      <th></th>\n",
       "      <th>term</th>\n",
       "      <th>name</th>\n",
       "      <th>namespace</th>\n",
       "      <th>EntryID</th>\n",
       "      <th>aspect</th>\n",
       "      <th>sequence</th>\n",
       "      <th>taxonomyID</th>\n",
       "    </tr>\n",
       "  </thead>\n",
       "  <tbody>\n",
       "    <tr>\n",
       "      <th>0</th>\n",
       "      <td>GO:0000001</td>\n",
       "      <td>mitochondrion inheritance</td>\n",
       "      <td>biological_process</td>\n",
       "      <td>P21147</td>\n",
       "      <td>BPO</td>\n",
       "      <td>MPTSGTTIELIDDQFPKDDSASSGIVDEVDLTEANILATGLNKKAP...</td>\n",
       "      <td>559292</td>\n",
       "    </tr>\n",
       "    <tr>\n",
       "      <th>1</th>\n",
       "      <td>GO:0003674</td>\n",
       "      <td>molecular_function</td>\n",
       "      <td>molecular_function</td>\n",
       "      <td>P21147</td>\n",
       "      <td>MFO</td>\n",
       "      <td>MPTSGTTIELIDDQFPKDDSASSGIVDEVDLTEANILATGLNKKAP...</td>\n",
       "      <td>559292</td>\n",
       "    </tr>\n",
       "    <tr>\n",
       "      <th>2</th>\n",
       "      <td>GO:0003824</td>\n",
       "      <td>catalytic activity</td>\n",
       "      <td>molecular_function</td>\n",
       "      <td>P21147</td>\n",
       "      <td>MFO</td>\n",
       "      <td>MPTSGTTIELIDDQFPKDDSASSGIVDEVDLTEANILATGLNKKAP...</td>\n",
       "      <td>559292</td>\n",
       "    </tr>\n",
       "    <tr>\n",
       "      <th>3</th>\n",
       "      <td>GO:0004768</td>\n",
       "      <td>stearoyl-CoA 9-desaturase activity</td>\n",
       "      <td>molecular_function</td>\n",
       "      <td>P21147</td>\n",
       "      <td>MFO</td>\n",
       "      <td>MPTSGTTIELIDDQFPKDDSASSGIVDEVDLTEANILATGLNKKAP...</td>\n",
       "      <td>559292</td>\n",
       "    </tr>\n",
       "    <tr>\n",
       "      <th>4</th>\n",
       "      <td>GO:0005575</td>\n",
       "      <td>cellular_component</td>\n",
       "      <td>cellular_component</td>\n",
       "      <td>P21147</td>\n",
       "      <td>CCO</td>\n",
       "      <td>MPTSGTTIELIDDQFPKDDSASSGIVDEVDLTEANILATGLNKKAP...</td>\n",
       "      <td>559292</td>\n",
       "    </tr>\n",
       "  </tbody>\n",
       "</table>\n",
       "</div>"
      ],
      "text/plain": [
       "         term                                name           namespace EntryID  \\\n",
       "0  GO:0000001           mitochondrion inheritance  biological_process  P21147   \n",
       "1  GO:0003674                  molecular_function  molecular_function  P21147   \n",
       "2  GO:0003824                  catalytic activity  molecular_function  P21147   \n",
       "3  GO:0004768  stearoyl-CoA 9-desaturase activity  molecular_function  P21147   \n",
       "4  GO:0005575                  cellular_component  cellular_component  P21147   \n",
       "\n",
       "  aspect                                           sequence  taxonomyID  \n",
       "0    BPO  MPTSGTTIELIDDQFPKDDSASSGIVDEVDLTEANILATGLNKKAP...      559292  \n",
       "1    MFO  MPTSGTTIELIDDQFPKDDSASSGIVDEVDLTEANILATGLNKKAP...      559292  \n",
       "2    MFO  MPTSGTTIELIDDQFPKDDSASSGIVDEVDLTEANILATGLNKKAP...      559292  \n",
       "3    MFO  MPTSGTTIELIDDQFPKDDSASSGIVDEVDLTEANILATGLNKKAP...      559292  \n",
       "4    CCO  MPTSGTTIELIDDQFPKDDSASSGIVDEVDLTEANILATGLNKKAP...      559292  "
      ]
     },
     "execution_count": 26,
     "metadata": {},
     "output_type": "execute_result"
    }
   ],
   "source": [
    "# merge dataframes by entryID\n",
    "entryID_merge = pd.merge(trainset, train_taxon_ID, on='EntryID')\n",
    "protein_train = pd.merge(go_merge, entryID_merge, on='EntryID')\n",
    "protein_train.head()"
   ]
  },
  {
   "cell_type": "code",
   "execution_count": 27,
   "id": "038350cb",
   "metadata": {},
   "outputs": [
    {
     "data": {
      "text/plain": [
       "5363863"
      ]
     },
     "execution_count": 27,
     "metadata": {},
     "output_type": "execute_result"
    }
   ],
   "source": [
    "protein_train.shape[0]"
   ]
  },
  {
   "cell_type": "code",
   "execution_count": 28,
   "id": "49537ef7",
   "metadata": {},
   "outputs": [
    {
     "name": "stdout",
     "output_type": "stream",
     "text": [
      "Number of unique values: 31466\n"
     ]
    }
   ],
   "source": [
    "# find out how many classses are in the term column\n",
    "unique_count = protein_train['term'].nunique()\n",
    "print(\"Number of unique values:\", unique_count)\n",
    "    #31,466 is a lot of classes to characterize!"
   ]
  },
  {
   "cell_type": "code",
   "execution_count": 29,
   "id": "73cb8e68",
   "metadata": {},
   "outputs": [
    {
     "name": "stdout",
     "output_type": "stream",
     "text": [
      "<class 'pandas.core.series.Series'>\n",
      "<class 'pandas.core.series.Series'>\n"
     ]
    }
   ],
   "source": [
    "print(type(protein_train.term))\n",
    "print(type(protein_train.sequence))"
   ]
  },
  {
   "cell_type": "code",
   "execution_count": 30,
   "id": "f5b37307",
   "metadata": {},
   "outputs": [
    {
     "data": {
      "text/plain": [
       "pandas.core.series.Series"
      ]
     },
     "execution_count": 30,
     "metadata": {},
     "output_type": "execute_result"
    }
   ],
   "source": [
    "type(protein_train.name)"
   ]
  },
  {
   "cell_type": "markdown",
   "id": "9f802b42",
   "metadata": {},
   "source": [
    "# Extract kinase data"
   ]
  },
  {
   "cell_type": "code",
   "execution_count": 31,
   "id": "b2080382",
   "metadata": {},
   "outputs": [],
   "source": [
    "# extract observations that contain the string 'kinase'\n",
    "kinases_train = protein_train[protein_train['name'].str.contains('kinase', case=False)]"
   ]
  },
  {
   "cell_type": "code",
   "execution_count": 32,
   "id": "bfc957cd",
   "metadata": {},
   "outputs": [
    {
     "data": {
      "text/plain": [
       "30203"
      ]
     },
     "execution_count": 32,
     "metadata": {},
     "output_type": "execute_result"
    }
   ],
   "source": [
    "kinases_train.shape[0] # represents 0.56% of the total data"
   ]
  },
  {
   "cell_type": "code",
   "execution_count": 33,
   "id": "3df329c6",
   "metadata": {},
   "outputs": [
    {
     "name": "stdout",
     "output_type": "stream",
     "text": [
      "Number of unique values: 473\n"
     ]
    }
   ],
   "source": [
    "# find out how many classses are in the term column\n",
    "unique_count = kinases_train['name'].nunique()\n",
    "print(\"Number of unique values:\", unique_count)\n",
    "    #473 is a much more  doable number of classes to characterize!"
   ]
  },
  {
   "cell_type": "code",
   "execution_count": 34,
   "id": "50230c10",
   "metadata": {},
   "outputs": [
    {
     "data": {
      "image/png": "[encoded data removed]",
      "text/plain": [
       "<Figure size 400x400 with 1 Axes>"
      ]
     },
     "metadata": {},
     "output_type": "display_data"
    }
   ],
   "source": [
    "# view counts per GO subontology\n",
    "namespace_counts = kinases_train['namespace'].value_counts()\n",
    "plt.figure(figsize=(4, 4))\n",
    "namespace_counts.plot(kind='bar')\n",
    "bar_plot = namespace_counts.plot(kind='bar')\n",
    "plt.ylabel('Count')\n",
    "plt.title('Counts of GO Subontologies')\n",
    "plt.xticks(rotation = 20)\n",
    "for index, value in enumerate(namespace_counts):\n",
    "    bar_plot.text(index, value, str(value), ha='center', va='bottom')\n",
    "plt.show()"
   ]
  },
  {
   "cell_type": "code",
   "execution_count": 36,
   "id": "d92e4864",
   "metadata": {},
   "outputs": [
    {
     "data": {
      "text/html": [
       "<div>\n",
       "<style scoped>\n",
       "    .dataframe tbody tr th:only-of-type {\n",
       "        vertical-align: middle;\n",
       "    }\n",
       "\n",
       "    .dataframe tbody tr th {\n",
       "        vertical-align: top;\n",
       "    }\n",
       "\n",
       "    .dataframe thead th {\n",
       "        text-align: right;\n",
       "    }\n",
       "</style>\n",
       "<table border=\"1\" class=\"dataframe\">\n",
       "  <thead>\n",
       "    <tr style=\"text-align: right;\">\n",
       "      <th></th>\n",
       "      <th>term</th>\n",
       "      <th>name</th>\n",
       "      <th>namespace</th>\n",
       "      <th>EntryID</th>\n",
       "      <th>aspect</th>\n",
       "      <th>sequence</th>\n",
       "      <th>taxonomyID</th>\n",
       "    </tr>\n",
       "  </thead>\n",
       "  <tbody>\n",
       "    <tr>\n",
       "      <th>318</th>\n",
       "      <td>GO:0033549</td>\n",
       "      <td>MAP kinase phosphatase activity</td>\n",
       "      <td>molecular_function</td>\n",
       "      <td>P35182</td>\n",
       "      <td>MFO</td>\n",
       "      <td>MSNHSEILERPETPYDITYRVGVAENKNSKFRRTMEDVHTYVKNFA...</td>\n",
       "      <td>559292</td>\n",
       "    </tr>\n",
       "    <tr>\n",
       "      <th>360</th>\n",
       "      <td>GO:1990439</td>\n",
       "      <td>MAP kinase serine/threonine phosphatase activity</td>\n",
       "      <td>molecular_function</td>\n",
       "      <td>P35182</td>\n",
       "      <td>MFO</td>\n",
       "      <td>MSNHSEILERPETPYDITYRVGVAENKNSKFRRTMEDVHTYVKNFA...</td>\n",
       "      <td>559292</td>\n",
       "    </tr>\n",
       "    <tr>\n",
       "      <th>1204</th>\n",
       "      <td>GO:0004672</td>\n",
       "      <td>protein kinase activity</td>\n",
       "      <td>molecular_function</td>\n",
       "      <td>Q0KHV6</td>\n",
       "      <td>MFO</td>\n",
       "      <td>MSVRLLTVRLIKHGRYILRSYCKRDIHANILDQNQLKTRSKRGFPL...</td>\n",
       "      <td>7227</td>\n",
       "    </tr>\n",
       "    <tr>\n",
       "      <th>1205</th>\n",
       "      <td>GO:0004674</td>\n",
       "      <td>protein serine/threonine kinase activity</td>\n",
       "      <td>molecular_function</td>\n",
       "      <td>Q0KHV6</td>\n",
       "      <td>MFO</td>\n",
       "      <td>MSVRLLTVRLIKHGRYILRSYCKRDIHANILDQNQLKTRSKRGFPL...</td>\n",
       "      <td>7227</td>\n",
       "    </tr>\n",
       "    <tr>\n",
       "      <th>1278</th>\n",
       "      <td>GO:0016301</td>\n",
       "      <td>kinase activity</td>\n",
       "      <td>molecular_function</td>\n",
       "      <td>Q0KHV6</td>\n",
       "      <td>MFO</td>\n",
       "      <td>MSVRLLTVRLIKHGRYILRSYCKRDIHANILDQNQLKTRSKRGFPL...</td>\n",
       "      <td>7227</td>\n",
       "    </tr>\n",
       "  </tbody>\n",
       "</table>\n",
       "</div>"
      ],
      "text/plain": [
       "            term                                              name  \\\n",
       "318   GO:0033549                   MAP kinase phosphatase activity   \n",
       "360   GO:1990439  MAP kinase serine/threonine phosphatase activity   \n",
       "1204  GO:0004672                           protein kinase activity   \n",
       "1205  GO:0004674          protein serine/threonine kinase activity   \n",
       "1278  GO:0016301                                   kinase activity   \n",
       "\n",
       "               namespace EntryID aspect  \\\n",
       "318   molecular_function  P35182    MFO   \n",
       "360   molecular_function  P35182    MFO   \n",
       "1204  molecular_function  Q0KHV6    MFO   \n",
       "1205  molecular_function  Q0KHV6    MFO   \n",
       "1278  molecular_function  Q0KHV6    MFO   \n",
       "\n",
       "                                               sequence  taxonomyID  \n",
       "318   MSNHSEILERPETPYDITYRVGVAENKNSKFRRTMEDVHTYVKNFA...      559292  \n",
       "360   MSNHSEILERPETPYDITYRVGVAENKNSKFRRTMEDVHTYVKNFA...      559292  \n",
       "1204  MSVRLLTVRLIKHGRYILRSYCKRDIHANILDQNQLKTRSKRGFPL...        7227  \n",
       "1205  MSVRLLTVRLIKHGRYILRSYCKRDIHANILDQNQLKTRSKRGFPL...        7227  \n",
       "1278  MSVRLLTVRLIKHGRYILRSYCKRDIHANILDQNQLKTRSKRGFPL...        7227  "
      ]
     },
     "execution_count": 36,
     "metadata": {},
     "output_type": "execute_result"
    }
   ],
   "source": [
    "kinases_train.head()"
   ]
  },
  {
   "cell_type": "markdown",
   "id": "ce597566",
   "metadata": {},
   "source": [
    "# Support vector machine on kinase data"
   ]
  },
  {
   "cell_type": "code",
   "execution_count": 108,
   "id": "32da1579",
   "metadata": {},
   "outputs": [],
   "source": [
    "import pandas as pd\n",
    "from sklearn.model_selection import train_test_split\n",
    "from sklearn.feature_extraction.text import TfidfVectorizer\n",
    "from sklearn.svm import SVC\n",
    "from sklearn.metrics import accuracy_score"
   ]
  },
  {
   "cell_type": "code",
   "execution_count": 109,
   "id": "69b09524",
   "metadata": {},
   "outputs": [],
   "source": [
    "# split the data into features (X) and target variable (y)\n",
    "X = kinases_train['sequence']\n",
    "y = kinases_train['term']"
   ]
  },
  {
   "cell_type": "code",
   "execution_count": 110,
   "id": "02f755a8",
   "metadata": {},
   "outputs": [],
   "source": [
    "# create a training and testing set\n",
    "X_train, X_test, y_train, y_test = train_test_split(X, y, test_size=0.2, random_state=123)"
   ]
  },
  {
   "cell_type": "code",
   "execution_count": 111,
   "id": "1702db65",
   "metadata": {},
   "outputs": [],
   "source": [
    "# extract features by convert sequences to k-mer features\n",
    "k = 3\n",
    "vectorizer = TfidfVectorizer(analyzer='char', ngram_range=(k, k))\n",
    "X_train_vectors = vectorizer.fit_transform(X_train)\n",
    "X_test_vectors = vectorizer.transform(X_test)"
   ]
  },
  {
   "cell_type": "code",
   "execution_count": null,
   "id": "96e7c898",
   "metadata": {},
   "outputs": [],
   "source": [
    "# train the model\n",
    "svm = SVC(kernel='linear')  # Use a linear kernel for simplicity, but  can try other kernels\n",
    "svm.fit(X_train_vectors, y_train)"
   ]
  },
  {
   "cell_type": "code",
   "execution_count": null,
   "id": "df323cbb",
   "metadata": {},
   "outputs": [],
   "source": [
    "# predict values\n",
    "y_pred = svm.predict(X_test_vectors)"
   ]
  },
  {
   "cell_type": "code",
   "execution_count": null,
   "id": "1bbc88a6",
   "metadata": {},
   "outputs": [],
   "source": [
    "# evaluate model accuracy\n",
    "accuracy = accuracy_score(y_test, y_pred)\n",
    "print(\"Accuracy:\", accuracy)"
   ]
  },
  {
   "cell_type": "markdown",
   "id": "35ec6da7",
   "metadata": {},
   "source": [
    "# keras neural network on kinase data"
   ]
  },
  {
   "cell_type": "code",
   "execution_count": 96,
   "id": "de6675a1",
   "metadata": {},
   "outputs": [],
   "source": [
    "import numpy as np\n",
    "from sklearn.model_selection import train_test_split\n",
    "from sklearn.preprocessing import LabelEncoder\n",
    "from keras import models\n",
    "from keras.models import Sequential\n",
    "from keras.layers import Dense, Embedding, LSTM\n",
    "import seaborn as sns"
   ]
  },
  {
   "cell_type": "code",
   "execution_count": 85,
   "id": "4a5f67bd",
   "metadata": {},
   "outputs": [],
   "source": [
    "# extract features with 'term' as the target variable aka what's being predicted based on the input variable 'sequence' aka what's training the model\n",
    "X = kinases_train['sequence']\n",
    "y = kinases_train['term']"
   ]
  },
  {
   "cell_type": "code",
   "execution_count": 86,
   "id": "d10d0767",
   "metadata": {},
   "outputs": [],
   "source": [
    "# label encoding to transform the target variable from categorical to numeric data\n",
    "label_encoder = LabelEncoder()\n",
    "y = label_encoder.fit_transform(y)"
   ]
  },
  {
   "cell_type": "code",
   "execution_count": 87,
   "id": "4359b828",
   "metadata": {},
   "outputs": [],
   "source": [
    "# split the data into training and testing data\n",
    "X_train, X_test, y_train, y_test = train_test_split(X, y, test_size=0.2, random_state=1001)"
   ]
  },
  {
   "cell_type": "code",
   "execution_count": 88,
   "id": "dce7e376",
   "metadata": {},
   "outputs": [
    {
     "name": "stderr",
     "output_type": "stream",
     "text": [
      "C:\\Users\\ljbri\\AppData\\Local\\Temp\\ipykernel_17052\\43525903.py:19: VisibleDeprecationWarning: Creating an ndarray from ragged nested sequences (which is a list-or-tuple of lists-or-tuples-or ndarrays with different lengths or shapes) is deprecated. If you meant to do this, you must specify 'dtype=object' when creating the ndarray.\n",
      "  X_train_encoded = np.array(X_train_encoded)\n",
      "C:\\Users\\ljbri\\AppData\\Local\\Temp\\ipykernel_17052\\43525903.py:22: VisibleDeprecationWarning: Creating an ndarray from ragged nested sequences (which is a list-or-tuple of lists-or-tuples-or ndarrays with different lengths or shapes) is deprecated. If you meant to do this, you must specify 'dtype=object' when creating the ndarray.\n",
      "  X_test_encoded = np.array(X_test_encoded)\n"
     ]
    }
   ],
   "source": [
    "# convert the sequences into numeric representation using k-mers\n",
    "k = 3\n",
    "def convert_sequence_to_kmers(sequence, k):\n",
    "    kmers = [sequence[i:i+k] for i in range(len(sequence)-k+1)]\n",
    "    return kmers\n",
    "\n",
    "def convert_kmers_to_int(kmers):\n",
    "    kmers_to_int = {}\n",
    "    int_value = 0\n",
    "    encoded_sequence = []\n",
    "    for kmer in kmers:\n",
    "        if kmer not in kmers_to_int:\n",
    "            kmers_to_int[kmer] = int_value\n",
    "            int_value += 1\n",
    "        encoded_sequence.append(kmers_to_int[kmer])\n",
    "    return encoded_sequence\n",
    "\n",
    "X_train_encoded = [convert_kmers_to_int(convert_sequence_to_kmers(seq, k)) for seq in X_train]\n",
    "X_train_encoded = np.array(X_train_encoded)\n",
    "\n",
    "X_test_encoded = [convert_kmers_to_int(convert_sequence_to_kmers(seq, k)) for seq in X_test]\n",
    "X_test_encoded = np.array(X_test_encoded)\n",
    "\n",
    "#can ignore VisibleDeprecationWarning because will be padded to a fixed length"
   ]
  },
  {
   "cell_type": "code",
   "execution_count": 89,
   "id": "4968e9f3",
   "metadata": {},
   "outputs": [],
   "source": [
    "# pad sequences to have the same length using zeros\n",
    "max_sequence_length = max(len(seq) for seq in X_train_encoded)\n",
    "num_classes = len(label_encoder.classes_)\n",
    "\n",
    "X_train_padded = np.zeros((X_train_encoded.shape[0], max_sequence_length), dtype=np.int32)\n",
    "for i, seq in enumerate(X_train_encoded):\n",
    "    X_train_padded[i, :len(seq)] = seq\n",
    "\n",
    "X_test_padded = np.zeros((X_test_encoded.shape[0], max_sequence_length), dtype=np.int32)\n",
    "for i, seq in enumerate(X_test_encoded):\n",
    "    X_test_padded[i, :len(seq)] = seq\n"
   ]
  },
  {
   "cell_type": "code",
   "execution_count": 90,
   "id": "e8495c15",
   "metadata": {},
   "outputs": [
    {
     "name": "stdout",
     "output_type": "stream",
     "text": [
      "Model: \"sequential_5\"\n",
      "_________________________________________________________________\n",
      " Layer (type)                Output Shape              Param #   \n",
      "=================================================================\n",
      " embedding_5 (Embedding)     (None, 34348, 64)         372096    \n",
      "                                                                 \n",
      " global_average_pooling1d_5   (None, 64)               0         \n",
      " (GlobalAveragePooling1D)                                        \n",
      "                                                                 \n",
      " dense_5 (Dense)             (None, 473)               30745     \n",
      "                                                                 \n",
      "=================================================================\n",
      "Total params: 402,841\n",
      "Trainable params: 402,841\n",
      "Non-trainable params: 0\n",
      "_________________________________________________________________\n"
     ]
    }
   ],
   "source": [
    "# create the model\n",
    "model1 = models.Sequential()\n",
    "model1.add(Embedding(input_dim=np.max(X_train_padded) + 1, output_dim=64, input_length=max_sequence_length)) #observes sequential relationship\n",
    "model1.add(keras.layers.GlobalAveragePooling1D()) # observes overall relationship; less computationally expensive than LSTM\n",
    "model1.add(Dense(units=num_classes, activation='softmax')) #suitable for multi-class classification problems\n",
    "\n",
    "model1.summary()"
   ]
  },
  {
   "cell_type": "code",
   "execution_count": 91,
   "id": "e2cc56c4",
   "metadata": {},
   "outputs": [],
   "source": [
    "# compile the model\n",
    "model1.compile(loss='sparse_categorical_crossentropy', optimizer='adam', metrics=['accuracy'])"
   ]
  },
  {
   "cell_type": "code",
   "execution_count": 93,
   "id": "162fe043",
   "metadata": {},
   "outputs": [
    {
     "name": "stdout",
     "output_type": "stream",
     "text": [
      "Epoch 1/10\n",
      "6041/6041 [==============================] - 341s 56ms/step - loss: 4.4623 - accuracy: 0.1055 - val_loss: 4.4302 - val_accuracy: 0.1041\n",
      "Epoch 2/10\n",
      "6041/6041 [==============================] - 327s 54ms/step - loss: 4.4393 - accuracy: 0.1055 - val_loss: 4.4272 - val_accuracy: 0.1041\n",
      "Epoch 3/10\n",
      "6041/6041 [==============================] - 306s 51ms/step - loss: 4.4342 - accuracy: 0.1055 - val_loss: 4.4268 - val_accuracy: 0.1041\n",
      "Epoch 4/10\n",
      "6041/6041 [==============================] - 333s 55ms/step - loss: 4.4300 - accuracy: 0.1055 - val_loss: 4.4228 - val_accuracy: 0.1041\n",
      "Epoch 5/10\n",
      "6041/6041 [==============================] - 333s 55ms/step - loss: 4.4218 - accuracy: 0.1057 - val_loss: 4.4137 - val_accuracy: 0.1040\n",
      "Epoch 6/10\n",
      "6041/6041 [==============================] - 320s 53ms/step - loss: 4.4120 - accuracy: 0.1053 - val_loss: 4.4090 - val_accuracy: 0.1040\n",
      "Epoch 7/10\n",
      "6041/6041 [==============================] - 313s 52ms/step - loss: 4.4037 - accuracy: 0.1052 - val_loss: 4.3964 - val_accuracy: 0.1028\n",
      "Epoch 8/10\n",
      "6041/6041 [==============================] - 327s 54ms/step - loss: 4.3959 - accuracy: 0.1050 - val_loss: 4.3933 - val_accuracy: 0.1040\n",
      "Epoch 9/10\n",
      "6041/6041 [==============================] - 326s 54ms/step - loss: 4.3885 - accuracy: 0.1053 - val_loss: 4.3858 - val_accuracy: 0.1036\n",
      "Epoch 10/10\n",
      "6041/6041 [==============================] - 333s 55ms/step - loss: 4.3823 - accuracy: 0.1048 - val_loss: 4.3796 - val_accuracy: 0.1038\n"
     ]
    },
    {
     "data": {
      "text/plain": [
       "<keras.callbacks.History at 0x14c64fd6050>"
      ]
     },
     "execution_count": 93,
     "metadata": {},
     "output_type": "execute_result"
    }
   ],
   "source": [
    "# train the model for 10 epoch to start\n",
    "#takes 5 min per epoch\n",
    "n_epochs = 10\n",
    "n_batch = 4\n",
    "model1.fit(X_train_padded, y_train, validation_data=(X_test_padded, y_test), epochs = n_epochs, batch_size = n_batch)\n"
   ]
  },
  {
   "cell_type": "code",
   "execution_count": 94,
   "id": "6e174ece",
   "metadata": {},
   "outputs": [
    {
     "name": "stdout",
     "output_type": "stream",
     "text": [
      "189/189 [==============================] - 27s 142ms/step - loss: 4.3796 - accuracy: 0.1038\n",
      "Test Loss: 4.379616737365723\n",
      "Test Accuracy: 0.1037907600402832\n"
     ]
    }
   ],
   "source": [
    "# evaluate the model on the testing data\n",
    "loss, accuracy = model1.evaluate(X_test_padded, y_test)\n",
    "\n",
    "print(\"Test Loss:\", loss)\n",
    "print(\"Test Accuracy:\", accuracy)"
   ]
  },
  {
   "cell_type": "code",
   "execution_count": 105,
   "id": "89a383ed",
   "metadata": {},
   "outputs": [
    {
     "name": "stdout",
     "output_type": "stream",
     "text": [
      "Epoch 1/100\n",
      "6041/6041 [==============================] - 279s 46ms/step - loss: 4.3764 - accuracy: 0.1057 - val_loss: 4.3848 - val_accuracy: 0.1040\n",
      "Epoch 2/100\n",
      "6041/6041 [==============================] - 314s 52ms/step - loss: 4.3718 - accuracy: 0.1055 - val_loss: 4.3767 - val_accuracy: 0.1040\n",
      "Epoch 3/100\n",
      "6041/6041 [==============================] - 306s 51ms/step - loss: 4.3661 - accuracy: 0.1058 - val_loss: 4.3784 - val_accuracy: 0.1033\n",
      "Epoch 4/100\n",
      "6041/6041 [==============================] - 281s 46ms/step - loss: 4.3612 - accuracy: 0.1058 - val_loss: 4.3661 - val_accuracy: 0.1036\n",
      "Epoch 5/100\n",
      "6041/6041 [==============================] - 281s 47ms/step - loss: 4.3570 - accuracy: 0.1058 - val_loss: 4.3648 - val_accuracy: 0.1038\n",
      "Epoch 6/100\n",
      "6041/6041 [==============================] - 281s 47ms/step - loss: 4.3534 - accuracy: 0.1050 - val_loss: 4.3670 - val_accuracy: 0.1040\n",
      "Epoch 7/100\n",
      "6041/6041 [==============================] - 279s 46ms/step - loss: 4.3487 - accuracy: 0.1063 - val_loss: 4.3624 - val_accuracy: 0.1038\n",
      "Epoch 8/100\n",
      "6041/6041 [==============================] - 279s 46ms/step - loss: 4.3447 - accuracy: 0.1055 - val_loss: 4.3571 - val_accuracy: 0.1035\n",
      "Epoch 9/100\n",
      "6041/6041 [==============================] - 278s 46ms/step - loss: 4.3408 - accuracy: 0.1059 - val_loss: 4.3564 - val_accuracy: 0.1038\n",
      "Epoch 10/100\n",
      "6041/6041 [==============================] - 278s 46ms/step - loss: 4.3375 - accuracy: 0.1057 - val_loss: 4.3604 - val_accuracy: 0.1040\n",
      "Epoch 11/100\n",
      "6041/6041 [==============================] - 278s 46ms/step - loss: 4.3358 - accuracy: 0.1060 - val_loss: 4.3501 - val_accuracy: 0.1038\n",
      "Epoch 12/100\n",
      "6041/6041 [==============================] - 279s 46ms/step - loss: 4.3324 - accuracy: 0.1056 - val_loss: 4.3511 - val_accuracy: 0.1038\n",
      "Epoch 13/100\n",
      "6041/6041 [==============================] - 282s 47ms/step - loss: 4.3293 - accuracy: 0.1058 - val_loss: 4.3593 - val_accuracy: 0.1038\n",
      "Epoch 14/100\n",
      "6041/6041 [==============================] - 286s 47ms/step - loss: 4.3276 - accuracy: 0.1057 - val_loss: 4.3629 - val_accuracy: 0.1036\n",
      "Epoch 15/100\n",
      "6041/6041 [==============================] - 279s 46ms/step - loss: 4.3254 - accuracy: 0.1060 - val_loss: 4.3607 - val_accuracy: 0.1021\n",
      "Epoch 16/100\n",
      "6041/6041 [==============================] - 281s 47ms/step - loss: 4.3230 - accuracy: 0.1051 - val_loss: 4.3450 - val_accuracy: 0.1036\n",
      "Epoch 17/100\n",
      "6041/6041 [==============================] - 278s 46ms/step - loss: 4.3216 - accuracy: 0.1060 - val_loss: 4.3504 - val_accuracy: 0.1040\n",
      "Epoch 18/100\n",
      "6041/6041 [==============================] - 279s 46ms/step - loss: 4.3210 - accuracy: 0.1060 - val_loss: 4.3453 - val_accuracy: 0.1031\n",
      "Epoch 19/100\n",
      "6041/6041 [==============================] - 279s 46ms/step - loss: 4.3185 - accuracy: 0.1057 - val_loss: 4.3440 - val_accuracy: 0.1038\n",
      "Epoch 20/100\n",
      "6041/6041 [==============================] - 278s 46ms/step - loss: 4.3170 - accuracy: 0.1057 - val_loss: 4.3405 - val_accuracy: 0.1035\n",
      "Epoch 21/100\n",
      "6041/6041 [==============================] - 279s 46ms/step - loss: 4.3154 - accuracy: 0.1060 - val_loss: 4.3465 - val_accuracy: 0.1026\n",
      "Epoch 22/100\n",
      "6041/6041 [==============================] - 280s 46ms/step - loss: 4.3133 - accuracy: 0.1063 - val_loss: 4.3480 - val_accuracy: 0.1040\n",
      "Epoch 23/100\n",
      "6041/6041 [==============================] - 270s 45ms/step - loss: 4.3129 - accuracy: 0.1062 - val_loss: 4.3404 - val_accuracy: 0.1038\n",
      "Epoch 24/100\n",
      "6041/6041 [==============================] - 277s 46ms/step - loss: 4.3115 - accuracy: 0.1055 - val_loss: 4.3486 - val_accuracy: 0.1046\n",
      "Epoch 25/100\n",
      "6041/6041 [==============================] - 279s 46ms/step - loss: 4.3101 - accuracy: 0.1061 - val_loss: 4.3419 - val_accuracy: 0.1041\n",
      "Epoch 26/100\n",
      "6041/6041 [==============================] - 275s 45ms/step - loss: 4.3097 - accuracy: 0.1065 - val_loss: 4.3646 - val_accuracy: 0.1051\n",
      "Epoch 27/100\n",
      "6041/6041 [==============================] - 280s 46ms/step - loss: 4.3079 - accuracy: 0.1058 - val_loss: 4.3383 - val_accuracy: 0.1036\n",
      "Epoch 28/100\n",
      "6041/6041 [==============================] - 281s 47ms/step - loss: 4.3076 - accuracy: 0.1061 - val_loss: 4.3421 - val_accuracy: 0.1035\n",
      "Epoch 29/100\n",
      "6041/6041 [==============================] - 268s 44ms/step - loss: 4.3063 - accuracy: 0.1060 - val_loss: 4.3431 - val_accuracy: 0.1036\n",
      "Epoch 30/100\n",
      "6041/6041 [==============================] - 274s 45ms/step - loss: 4.3047 - accuracy: 0.1063 - val_loss: 4.3452 - val_accuracy: 0.1041\n",
      "Epoch 31/100\n",
      "6041/6041 [==============================] - 278s 46ms/step - loss: 4.3042 - accuracy: 0.1061 - val_loss: 4.3383 - val_accuracy: 0.1038\n",
      "Epoch 32/100\n",
      "6041/6041 [==============================] - 281s 46ms/step - loss: 4.3029 - accuracy: 0.1057 - val_loss: 4.3402 - val_accuracy: 0.1036\n",
      "Epoch 33/100\n",
      "6041/6041 [==============================] - 278s 46ms/step - loss: 4.3024 - accuracy: 0.1057 - val_loss: 4.3357 - val_accuracy: 0.1040\n",
      "Epoch 34/100\n",
      "6041/6041 [==============================] - 279s 46ms/step - loss: 4.3016 - accuracy: 0.1064 - val_loss: 4.3412 - val_accuracy: 0.1030\n",
      "Epoch 35/100\n",
      "6041/6041 [==============================] - 280s 46ms/step - loss: 4.2998 - accuracy: 0.1062 - val_loss: 4.3386 - val_accuracy: 0.1026\n",
      "Epoch 36/100\n",
      "6041/6041 [==============================] - 270s 45ms/step - loss: 4.2985 - accuracy: 0.1065 - val_loss: 4.3444 - val_accuracy: 0.1038\n",
      "Epoch 37/100\n",
      "6041/6041 [==============================] - 269s 45ms/step - loss: 4.2980 - accuracy: 0.1065 - val_loss: 4.3394 - val_accuracy: 0.1038\n",
      "Epoch 38/100\n",
      "6041/6041 [==============================] - 277s 46ms/step - loss: 4.2959 - accuracy: 0.1066 - val_loss: 4.3374 - val_accuracy: 0.1056\n",
      "Epoch 39/100\n",
      "6041/6041 [==============================] - 276s 46ms/step - loss: 4.2954 - accuracy: 0.1064 - val_loss: 4.3378 - val_accuracy: 0.1033\n",
      "Epoch 40/100\n",
      "6041/6041 [==============================] - 276s 46ms/step - loss: 4.2932 - accuracy: 0.1063 - val_loss: 4.3351 - val_accuracy: 0.1041\n",
      "Epoch 41/100\n",
      "6041/6041 [==============================] - 277s 46ms/step - loss: 4.2933 - accuracy: 0.1067 - val_loss: 4.3368 - val_accuracy: 0.1028\n",
      "Epoch 42/100\n",
      "6041/6041 [==============================] - 281s 46ms/step - loss: 4.2925 - accuracy: 0.1064 - val_loss: 4.3504 - val_accuracy: 0.1041\n",
      "Epoch 43/100\n",
      "6041/6041 [==============================] - 279s 46ms/step - loss: 4.2914 - accuracy: 0.1060 - val_loss: 4.3356 - val_accuracy: 0.1041\n",
      "Epoch 44/100\n",
      "6041/6041 [==============================] - 275s 45ms/step - loss: 4.2891 - accuracy: 0.1059 - val_loss: 4.3350 - val_accuracy: 0.1035\n",
      "Epoch 45/100\n",
      "6041/6041 [==============================] - 277s 46ms/step - loss: 4.2884 - accuracy: 0.1058 - val_loss: 4.3355 - val_accuracy: 0.1031\n",
      "Epoch 46/100\n",
      "6041/6041 [==============================] - 276s 46ms/step - loss: 4.2880 - accuracy: 0.1064 - val_loss: 4.3317 - val_accuracy: 0.1045\n",
      "Epoch 47/100\n",
      "6041/6041 [==============================] - 273s 45ms/step - loss: 4.2860 - accuracy: 0.1056 - val_loss: 4.3390 - val_accuracy: 0.1051\n",
      "Epoch 48/100\n",
      "6041/6041 [==============================] - 278s 46ms/step - loss: 4.2847 - accuracy: 0.1064 - val_loss: 4.3328 - val_accuracy: 0.1026\n",
      "Epoch 49/100\n",
      "6041/6041 [==============================] - 276s 46ms/step - loss: 4.2837 - accuracy: 0.1061 - val_loss: 4.3307 - val_accuracy: 0.1038\n",
      "Epoch 50/100\n",
      "6041/6041 [==============================] - 274s 45ms/step - loss: 4.2831 - accuracy: 0.1065 - val_loss: 4.3296 - val_accuracy: 0.1040\n",
      "Epoch 51/100\n",
      "6041/6041 [==============================] - 277s 46ms/step - loss: 4.2816 - accuracy: 0.1059 - val_loss: 4.3478 - val_accuracy: 0.1023\n",
      "Epoch 52/100\n",
      "6041/6041 [==============================] - 283s 47ms/step - loss: 4.2810 - accuracy: 0.1068 - val_loss: 4.3264 - val_accuracy: 0.1056\n",
      "Epoch 53/100\n",
      "6041/6041 [==============================] - 285s 47ms/step - loss: 4.2802 - accuracy: 0.1064 - val_loss: 4.3341 - val_accuracy: 0.1038\n",
      "Epoch 54/100\n",
      "6041/6041 [==============================] - 275s 46ms/step - loss: 4.2793 - accuracy: 0.1057 - val_loss: 4.3257 - val_accuracy: 0.1040\n",
      "Epoch 55/100\n",
      "6041/6041 [==============================] - 281s 47ms/step - loss: 4.2776 - accuracy: 0.1067 - val_loss: 4.3316 - val_accuracy: 0.1033\n",
      "Epoch 56/100\n"
     ]
    },
    {
     "name": "stdout",
     "output_type": "stream",
     "text": [
      "6041/6041 [==============================] - 277s 46ms/step - loss: 4.2770 - accuracy: 0.1069 - val_loss: 4.3303 - val_accuracy: 0.1045\n",
      "Epoch 57/100\n",
      "6041/6041 [==============================] - 276s 46ms/step - loss: 4.2758 - accuracy: 0.1059 - val_loss: 4.3291 - val_accuracy: 0.1045\n",
      "Epoch 58/100\n",
      "6041/6041 [==============================] - 277s 46ms/step - loss: 4.2742 - accuracy: 0.1067 - val_loss: 4.3264 - val_accuracy: 0.1033\n",
      "Epoch 59/100\n",
      "6041/6041 [==============================] - 279s 46ms/step - loss: 4.2735 - accuracy: 0.1065 - val_loss: 4.3226 - val_accuracy: 0.1041\n",
      "Epoch 60/100\n",
      "6041/6041 [==============================] - 277s 46ms/step - loss: 4.2735 - accuracy: 0.1061 - val_loss: 4.3230 - val_accuracy: 0.1048\n",
      "Epoch 61/100\n",
      "6041/6041 [==============================] - 283s 47ms/step - loss: 4.2705 - accuracy: 0.1066 - val_loss: 4.3249 - val_accuracy: 0.1040\n",
      "Epoch 62/100\n",
      "6041/6041 [==============================] - 277s 46ms/step - loss: 4.2701 - accuracy: 0.1062 - val_loss: 4.3230 - val_accuracy: 0.1048\n",
      "Epoch 63/100\n",
      "6041/6041 [==============================] - 276s 46ms/step - loss: 4.2688 - accuracy: 0.1075 - val_loss: 4.3326 - val_accuracy: 0.1026\n",
      "Epoch 64/100\n",
      "6041/6041 [==============================] - 277s 46ms/step - loss: 4.2684 - accuracy: 0.1072 - val_loss: 4.3215 - val_accuracy: 0.1046\n",
      "Epoch 65/100\n",
      "6041/6041 [==============================] - 283s 47ms/step - loss: 4.2667 - accuracy: 0.1062 - val_loss: 4.3210 - val_accuracy: 0.1043\n",
      "Epoch 66/100\n",
      "6041/6041 [==============================] - 277s 46ms/step - loss: 4.2658 - accuracy: 0.1067 - val_loss: 4.3171 - val_accuracy: 0.1040\n",
      "Epoch 67/100\n",
      "6041/6041 [==============================] - 283s 47ms/step - loss: 4.2642 - accuracy: 0.1072 - val_loss: 4.3186 - val_accuracy: 0.1054\n",
      "Epoch 68/100\n",
      "6041/6041 [==============================] - 278s 46ms/step - loss: 4.2639 - accuracy: 0.1061 - val_loss: 4.3162 - val_accuracy: 0.1051\n",
      "Epoch 69/100\n",
      "6041/6041 [==============================] - 277s 46ms/step - loss: 4.2635 - accuracy: 0.1068 - val_loss: 4.3497 - val_accuracy: 0.1015\n",
      "Epoch 70/100\n",
      "6041/6041 [==============================] - 276s 46ms/step - loss: 4.2625 - accuracy: 0.1073 - val_loss: 4.3187 - val_accuracy: 0.1049\n",
      "Epoch 71/100\n",
      "6041/6041 [==============================] - 279s 46ms/step - loss: 4.2614 - accuracy: 0.1072 - val_loss: 4.3170 - val_accuracy: 0.1040\n",
      "Epoch 72/100\n",
      "6041/6041 [==============================] - 271s 45ms/step - loss: 4.2613 - accuracy: 0.1069 - val_loss: 4.3178 - val_accuracy: 0.1049\n",
      "Epoch 73/100\n",
      "6041/6041 [==============================] - 274s 45ms/step - loss: 4.2589 - accuracy: 0.1062 - val_loss: 4.3227 - val_accuracy: 0.1041\n",
      "Epoch 74/100\n",
      "6041/6041 [==============================] - 277s 46ms/step - loss: 4.2585 - accuracy: 0.1048 - val_loss: 4.3182 - val_accuracy: 0.1066\n",
      "Epoch 75/100\n",
      "6041/6041 [==============================] - 278s 46ms/step - loss: 4.2582 - accuracy: 0.1065 - val_loss: 4.3275 - val_accuracy: 0.1031\n",
      "Epoch 76/100\n",
      "6041/6041 [==============================] - 264s 44ms/step - loss: 4.2570 - accuracy: 0.1064 - val_loss: 4.3197 - val_accuracy: 0.1054\n",
      "Epoch 77/100\n",
      "6041/6041 [==============================] - 272s 45ms/step - loss: 4.2563 - accuracy: 0.1063 - val_loss: 4.3118 - val_accuracy: 0.1051\n",
      "Epoch 78/100\n",
      "6041/6041 [==============================] - 281s 46ms/step - loss: 4.2556 - accuracy: 0.1062 - val_loss: 4.3148 - val_accuracy: 0.1048\n",
      "Epoch 79/100\n",
      "6041/6041 [==============================] - 277s 46ms/step - loss: 4.2542 - accuracy: 0.1067 - val_loss: 4.3205 - val_accuracy: 0.1030\n",
      "Epoch 80/100\n",
      "6041/6041 [==============================] - 289s 48ms/step - loss: 4.2532 - accuracy: 0.1060 - val_loss: 4.3093 - val_accuracy: 0.1051\n",
      "Epoch 81/100\n",
      "6041/6041 [==============================] - 278s 46ms/step - loss: 4.2525 - accuracy: 0.1065 - val_loss: 4.3102 - val_accuracy: 0.1033\n",
      "Epoch 82/100\n",
      "6041/6041 [==============================] - 279s 46ms/step - loss: 4.2520 - accuracy: 0.1069 - val_loss: 4.3189 - val_accuracy: 0.1045\n",
      "Epoch 83/100\n",
      "6041/6041 [==============================] - 277s 46ms/step - loss: 4.2516 - accuracy: 0.1064 - val_loss: 4.3142 - val_accuracy: 0.1049\n",
      "Epoch 84/100\n",
      "6041/6041 [==============================] - 277s 46ms/step - loss: 4.2507 - accuracy: 0.1061 - val_loss: 4.3125 - val_accuracy: 0.1040\n",
      "Epoch 85/100\n",
      "6041/6041 [==============================] - 279s 46ms/step - loss: 4.2496 - accuracy: 0.1077 - val_loss: 4.3107 - val_accuracy: 0.1046\n",
      "Epoch 86/100\n",
      "6041/6041 [==============================] - 277s 46ms/step - loss: 4.2488 - accuracy: 0.1066 - val_loss: 4.3126 - val_accuracy: 0.1046\n",
      "Epoch 87/100\n",
      "6041/6041 [==============================] - 277s 46ms/step - loss: 4.2479 - accuracy: 0.1068 - val_loss: 4.3097 - val_accuracy: 0.1048\n",
      "Epoch 88/100\n",
      "6041/6041 [==============================] - 278s 46ms/step - loss: 4.2475 - accuracy: 0.1064 - val_loss: 4.3159 - val_accuracy: 0.0932\n",
      "Epoch 89/100\n",
      "6041/6041 [==============================] - 276s 46ms/step - loss: 4.2463 - accuracy: 0.1056 - val_loss: 4.3143 - val_accuracy: 0.1056\n",
      "Epoch 90/100\n",
      "6041/6041 [==============================] - 276s 46ms/step - loss: 4.2448 - accuracy: 0.1074 - val_loss: 4.3089 - val_accuracy: 0.1061\n",
      "Epoch 91/100\n",
      "6041/6041 [==============================] - 281s 47ms/step - loss: 4.2438 - accuracy: 0.1064 - val_loss: 4.3107 - val_accuracy: 0.1054\n",
      "Epoch 92/100\n",
      "6041/6041 [==============================] - 277s 46ms/step - loss: 4.2431 - accuracy: 0.1067 - val_loss: 4.3136 - val_accuracy: 0.1056\n",
      "Epoch 93/100\n",
      "6041/6041 [==============================] - 276s 46ms/step - loss: 4.2429 - accuracy: 0.1067 - val_loss: 4.3229 - val_accuracy: 0.1025\n",
      "Epoch 94/100\n",
      "6041/6041 [==============================] - 283s 47ms/step - loss: 4.2417 - accuracy: 0.1059 - val_loss: 4.3116 - val_accuracy: 0.1033\n",
      "Epoch 95/100\n",
      "6041/6041 [==============================] - 278s 46ms/step - loss: 4.2415 - accuracy: 0.1074 - val_loss: 4.3057 - val_accuracy: 0.1043\n",
      "Epoch 96/100\n",
      "6041/6041 [==============================] - 277s 46ms/step - loss: 4.2404 - accuracy: 0.1069 - val_loss: 4.3136 - val_accuracy: 0.1045\n",
      "Epoch 97/100\n",
      "6041/6041 [==============================] - 277s 46ms/step - loss: 4.2392 - accuracy: 0.1064 - val_loss: 4.3073 - val_accuracy: 0.1046\n",
      "Epoch 98/100\n",
      "6041/6041 [==============================] - 277s 46ms/step - loss: 4.2373 - accuracy: 0.1063 - val_loss: 4.3243 - val_accuracy: 0.1033\n",
      "Epoch 99/100\n",
      "6041/6041 [==============================] - 276s 46ms/step - loss: 4.2374 - accuracy: 0.1064 - val_loss: 4.3051 - val_accuracy: 0.1036\n",
      "Epoch 100/100\n",
      "6041/6041 [==============================] - 277s 46ms/step - loss: 4.2364 - accuracy: 0.1068 - val_loss: 4.3195 - val_accuracy: 0.1054\n"
     ]
    }
   ],
   "source": [
    "# train the model for 100 epoch\n",
    "n_epochs = 100\n",
    "n_batch = 4\n",
    "history1_100 = model1.fit(X_train_padded, y_train, validation_data=(X_test_padded, y_test), epochs = n_epochs, batch_size = n_batch)\n"
   ]
  },
  {
   "cell_type": "code",
   "execution_count": 106,
   "id": "fbdaa96f",
   "metadata": {},
   "outputs": [
    {
     "name": "stdout",
     "output_type": "stream",
     "text": [
      "189/189 [==============================] - 23s 123ms/step - loss: 4.3195 - accuracy: 0.1054\n",
      "Test Loss: 4.319468975067139\n",
      "Test Accuracy: 0.10544611513614655\n"
     ]
    }
   ],
   "source": [
    "# evaluate the model on the testing data\n",
    "loss, accuracy = model1.evaluate(X_test_padded, y_test)\n",
    "\n",
    "print(\"Test Loss:\", loss)\n",
    "print(\"Test Accuracy:\", accuracy)"
   ]
  },
  {
   "cell_type": "code",
   "execution_count": 107,
   "id": "b37583bc",
   "metadata": {},
   "outputs": [
    {
     "data": {
      "image/png": "[encoded data removed]",
      "text/plain": [
       "<Figure size 1000x500 with 1 Axes>"
      ]
     },
     "metadata": {},
     "output_type": "display_data"
    }
   ],
   "source": [
    "#plot training accuracy and validation accuracy against the epoch \n",
    "sns.set_style(\"whitegrid\")\n",
    "\n",
    "plt.figure(figsize=(10,5))\n",
    "\n",
    "plt.scatter(range(1,n_epochs+1), \n",
    "            history1_100.history['accuracy'], \n",
    "            label=\"Training Data\")\n",
    "plt.scatter(range(1,n_epochs+1), \n",
    "            history1_100.history['val_accuracy'], \n",
    "            marker='v',\n",
    "            label=\"Validation Data\")\n",
    "\n",
    "plt.xlabel(\"Epoch\", fontsize=12)\n",
    "plt.ylabel(\"Accuracy\", fontsize=12)\n",
    "\n",
    "\n",
    "plt.legend(fontsize=12)\n",
    "\n",
    "\n",
    "plt.show()"
   ]
  },
  {
   "cell_type": "code",
   "execution_count": 102,
   "id": "6117fb94",
   "metadata": {
    "scrolled": true
   },
   "outputs": [
    {
     "name": "stdout",
     "output_type": "stream",
     "text": [
      "Model: \"sequential_6\"\n",
      "_________________________________________________________________\n",
      " Layer (type)                Output Shape              Param #   \n",
      "=================================================================\n",
      " embedding_6 (Embedding)     (None, 34348, 64)         372096    \n",
      "                                                                 \n",
      " global_average_pooling1d_6   (None, 64)               0         \n",
      " (GlobalAveragePooling1D)                                        \n",
      "                                                                 \n",
      " dense_6 (Dense)             (None, 64)                4160      \n",
      "                                                                 \n",
      " dense_7 (Dense)             (None, 473)               30745     \n",
      "                                                                 \n",
      "=================================================================\n",
      "Total params: 407,001\n",
      "Trainable params: 407,001\n",
      "Non-trainable params: 0\n",
      "_________________________________________________________________\n"
     ]
    }
   ],
   "source": [
    "# create another model\n",
    "model2 = models.Sequential()\n",
    "model2.add(Embedding(input_dim=np.max(X_train_padded) + 1, output_dim=64, input_length=max_sequence_length)) #observes sequential relationship\n",
    "model2.add(keras.layers.GlobalAveragePooling1D()) # observes overall relationship; less computationally expensive than LSTM\n",
    "model2.add(keras.layers.Dense(64, activation='relu'))\n",
    "model2.add(Dense(units=num_classes, activation='softmax')) #suitable for multi-class classification problems\n",
    "\n",
    "model2.summary()"
   ]
  },
  {
   "cell_type": "code",
   "execution_count": 103,
   "id": "95334c7e",
   "metadata": {},
   "outputs": [],
   "source": [
    "# compile the model\n",
    "model2.compile(loss='sparse_categorical_crossentropy', optimizer='adam', metrics=['accuracy'])"
   ]
  },
  {
   "cell_type": "code",
   "execution_count": 104,
   "id": "282c2281",
   "metadata": {},
   "outputs": [
    {
     "name": "stdout",
     "output_type": "stream",
     "text": [
      "6041/6041 [==============================] - 318s 52ms/step - loss: 4.5067 - accuracy: 0.1051 - val_loss: 4.4246 - val_accuracy: 0.1041\n"
     ]
    },
    {
     "data": {
      "text/plain": [
       "<keras.callbacks.History at 0x14c65078910>"
      ]
     },
     "execution_count": 104,
     "metadata": {},
     "output_type": "execute_result"
    }
   ],
   "source": [
    "# train the model\n",
    "#takes 5.5 min per epoch\n",
    "n_epochs = 1\n",
    "n_batch = 4\n",
    "model2.fit(X_train_padded, y_train, validation_data=(X_test_padded, y_test), epochs = n_epochs, batch_size = n_batch)\n",
    "#slightly better accuracy but not sig"
   ]
  },
  {
   "cell_type": "code",
   "execution_count": null,
   "id": "53e0aa54",
   "metadata": {},
   "outputs": [],
   "source": []
  },
  {
   "cell_type": "markdown",
   "id": "c27d0165",
   "metadata": {},
   "source": [
    "# CODE BELOW INCLUDES ATTEMPTS WITH KERAS WITHOUT EXTRACTING FOR KINASES AND WAS TOO COMPUTATIONALLY FOR THIS PROJECT."
   ]
  },
  {
   "cell_type": "markdown",
   "id": "92f35267",
   "metadata": {},
   "source": [
    "# keras neural network (with subset) \n",
    "This code will require more memory than available in a standard PC, even with subsampling\n",
    "subset_size = 10000 and batch_size=32 --> 23 days per epoch\n",
    "subset_sizew = 2000 and batch_size =4 --> 11 hours per epoch"
   ]
  },
  {
   "cell_type": "code",
   "execution_count": null,
   "id": "37004c91",
   "metadata": {},
   "outputs": [],
   "source": [
    "import numpy as np\n",
    "from sklearn.model_selection import train_test_split\n",
    "from sklearn.preprocessing import LabelEncoder\n",
    "from keras import models\n",
    "from keras.models import Sequential\n",
    "from keras.layers import Dense, Embedding, LSTM"
   ]
  },
  {
   "cell_type": "code",
   "execution_count": null,
   "id": "2da3228f",
   "metadata": {},
   "outputs": [],
   "source": [
    "# subset the data (when on my PC)\n",
    "# minimize the time it takes to assign numbers to amino acid characters\n",
    "# and prevent memory issues with padding sequences\n",
    "subset_size = 2000\n",
    "random_indices = np.random.choice(protein_train.index, size=subset_size, replace=False)\n",
    "X_train_subset = protein_train.loc[random_indices, 'sequence']\n",
    "y_train_subset = protein_train.loc[random_indices, 'term']"
   ]
  },
  {
   "cell_type": "code",
   "execution_count": null,
   "id": "5048d00a",
   "metadata": {},
   "outputs": [],
   "source": [
    "# label encoding to transform the target variable from categorical to numeric data\n",
    "label_encoder = LabelEncoder()\n",
    "y_train_subset = label_encoder.fit_transform(y_train_subset)"
   ]
  },
  {
   "cell_type": "code",
   "execution_count": null,
   "id": "dc17a985",
   "metadata": {},
   "outputs": [],
   "source": [
    "# split the data into training and testing sets\n",
    "X_train, X_test, y_train, y_test = train_test_split(X_train_subset, y_train_subset, test_size=0.2, random_state=420)"
   ]
  },
  {
   "cell_type": "code",
   "execution_count": null,
   "id": "06f253f4",
   "metadata": {},
   "outputs": [],
   "source": [
    "# assigns numbers to each amino acid character\n",
    "char_to_int = {'A': 0, 'R': 1, 'N': 2, 'D': 3, 'C': 4, 'Q': 5, 'E': 6, 'G': 7, 'H': 8, 'I': 9, 'L': 10, 'K': 11, 'M': 12, 'F': 13, 'P': 14, 'S': 15, 'T': 16, 'W': 17, 'Y': 18, 'V': 19}\n",
    "num_classes = len(label_encoder.classes_)\n",
    "\n",
    "# assigns a default value for characters not in the dictionary\n",
    "default_value = 20  \n",
    "def convert_char_to_int(char):\n",
    "    return char_to_int.get(char, default_value)\n",
    "\n",
    "# convert the sequences into numeric representation\n",
    "X_train_encoded = [[convert_char_to_int(char) for char in seq] for seq in X_train]\n",
    "X_train_encoded = np.array(X_train_encoded)\n",
    "\n",
    "X_test_encoded = [[convert_char_to_int(char) for char in seq] for seq in X_test]\n",
    "X_test_encoded = np.array(X_test_encoded)\n",
    "\n",
    "#can ignore 'Warning: Creating an ndarray from ragged nested sequences' about X_train_encoded and X_test encoded being different lengths, because it will resolve when sequences are padded"
   ]
  },
  {
   "cell_type": "code",
   "execution_count": null,
   "id": "44b6200c",
   "metadata": {},
   "outputs": [],
   "source": [
    "# pad sequences to have the same length using zeros\n",
    "max_sequence_length = max(len(seq) for seq in X_train_subset)\n",
    "\n",
    "X_train_padded = np.zeros((X_train_encoded.shape[0], max_sequence_length), dtype=np.int32)\n",
    "for i, seq in enumerate(X_train_encoded):\n",
    "    X_train_padded[i, :len(seq)] = seq\n",
    "    \n",
    "X_test_padded = np.zeros((X_test_encoded.shape[0], max_sequence_length), dtype=np.int32)\n",
    "for i, seq in enumerate(X_test_encoded):\n",
    "    X_test_padded[i, :len(seq)] = seq\n",
    "    \n",
    "type(X_train_padded)\n",
    "print(X_train_padded)"
   ]
  },
  {
   "cell_type": "code",
   "execution_count": null,
   "id": "f0b3941c",
   "metadata": {},
   "outputs": [],
   "source": [
    "# create the model\n",
    "model1 = models.Sequential()\n",
    "model1.add(Embedding(input_dim=len(char_to_int), output_dim=64, input_length=max_sequence_length)) #convert amino acid sequences into dense vectors (captures sequential relationships between characters)\n",
    "model1.add(LSTM(units=128)) #recurrent neural network  processes embedded sequences and extracts relevant features/patterns\n",
    "model1.add(Dense(units=num_classes, activation='softmax'))\n",
    "\n",
    "model1.summary()"
   ]
  },
  {
   "cell_type": "code",
   "execution_count": null,
   "id": "c23b8000",
   "metadata": {},
   "outputs": [],
   "source": [
    "# compile the model\n",
    "model1.compile(loss='sparse_categorical_crossentropy', #common when more than two categories\n",
    "               optimizer='adam', #efficient and effective for deep learning tasks\n",
    "               metrics=['accuracy']) #represents % of correctly predicted samples; common for classification\n"
   ]
  },
  {
   "cell_type": "code",
   "execution_count": null,
   "id": "a405428f",
   "metadata": {},
   "outputs": [],
   "source": [
    "# train the model for 1 epochs to start\n",
    "model1.fit(X_train_padded, y_train, validation_data=(X_test_padded, y_test), epochs=1, batch_size=4)"
   ]
  },
  {
   "cell_type": "code",
   "execution_count": null,
   "id": "bfa779e4",
   "metadata": {},
   "outputs": [],
   "source": [
    "# evaluate the model on the testing data\n",
    "loss, accuracy = model1.evaluate(X_test_padded, y_test)\n",
    " \n",
    "print(\"Test Loss:\", loss)\n",
    "print(\"Test Accuracy:\", accuracy)"
   ]
  },
  {
   "cell_type": "markdown",
   "id": "2fcad77d",
   "metadata": {},
   "source": [
    "# keras neural network (full)\n",
    "This code on the full dataset will require more memory than available in a standard PC"
   ]
  },
  {
   "cell_type": "code",
   "execution_count": null,
   "id": "7ea99ab2",
   "metadata": {},
   "outputs": [],
   "source": [
    "import numpy as np\n",
    "from sklearn.model_selection import train_test_split\n",
    "from sklearn.preprocessing import LabelEncoder\n",
    "from keras import models\n",
    "from keras.models import Sequential\n",
    "from keras.layers import Dense, Embedding, LSTM"
   ]
  },
  {
   "cell_type": "code",
   "execution_count": null,
   "id": "1708d10d",
   "metadata": {},
   "outputs": [],
   "source": [
    "# extract features with 'term' as the target variable aka what's being predicted based on the input variable 'sequence' aka what's training the model\n",
    "X = protein_train['sequence']\n",
    "y = protein_train['term']\n",
    "\n",
    "print(type(X))\n",
    "print(type(y))"
   ]
  },
  {
   "cell_type": "code",
   "execution_count": null,
   "id": "1491b813",
   "metadata": {},
   "outputs": [],
   "source": [
    "# label encoding to transform the target variable from categorical to numeric data\n",
    "label_encoder = LabelEncoder()\n",
    "y = label_encoder.fit_transform(y)"
   ]
  },
  {
   "cell_type": "code",
   "execution_count": null,
   "id": "ae1633a4",
   "metadata": {},
   "outputs": [],
   "source": [
    "# split the data into training and testing sets\n",
    "X_train, X_test, y_train, y_test = train_test_split(X, y, test_size=0.2, random_state=420)"
   ]
  },
  {
   "cell_type": "code",
   "execution_count": null,
   "id": "0f867d97",
   "metadata": {},
   "outputs": [],
   "source": [
    "# define  max sequence length so we can pad all sequences to have the same length (recommended for neural networks that process inputs in fixed-size batches)\n",
    "max_sequence_length = max(X_train.str.len())"
   ]
  },
  {
   "cell_type": "code",
   "execution_count": null,
   "id": "c75dc198",
   "metadata": {},
   "outputs": [],
   "source": [
    "# assigns numbers to each amino acid character\n",
    "#takes ~40 min\n",
    "char_to_int = {'A': 0, 'R': 1, 'N': 2, 'D': 3, 'C': 4, 'Q': 5, 'E': 6, 'G': 7, 'H': 8, 'I': 9, 'L': 10, 'K': 11, 'M': 12, 'F': 13, 'P': 14, 'S': 15, 'T': 16, 'W': 17, 'Y': 18, 'V': 19}\n",
    "num_classes = len(label_encoder.classes_)\n",
    "\n",
    "# assigns a default value for characters not in the dictionary\n",
    "default_value = -1 \n",
    "def convert_char_to_int(char):\n",
    "    return char_to_int.get(char, default_value)\n",
    "\n",
    "# convert the sequences into numeric representation\n",
    "X_train_encoded = [[convert_char_to_int(char) for char in seq] for seq in X_train]\n",
    "X_train_encoded = np.array(X_train_encoded)\n",
    "\n",
    "X_test_encoded = [[convert_char_to_int(char) for char in seq] for seq in X_test]\n",
    "X_test_encoded = np.array(X_test_encoded)\n",
    "\n",
    "#can ignore 'Warning: Creating an ndarray from ragged nested sequences' about X_train_encoded and X_test encoded being different lengths, because it will resolve when sequences are padded"
   ]
  },
  {
   "cell_type": "code",
   "execution_count": null,
   "id": "62486cd5",
   "metadata": {},
   "outputs": [],
   "source": [
    "# pad sequences to have the same length using zeros\n",
    "max_sequence_length = max(len(seq) for seq in X_train)\n",
    "\n",
    "X_train_padded = np.zeros((X_train_encoded.shape[0], max_sequence_length), dtype=np.int32)\n",
    "for i, seq in enumerate(X_train_encoded):\n",
    "    X_train_padded[i, :len(seq)] = seq\n",
    "    \n",
    "X_test_padded = np.zeros((X_test_encoded.shape[0], max_sequence_length), dtype=np.int32)\n",
    "for i, seq in enumerate(X_test_encoded):\n",
    "    X_test_padded[i, :len(seq)] = seq\n",
    "    \n",
    "type(X_train_padded)\n",
    "print(X_train_padded)\n",
    "\n",
    "np.save('X_train_padded', X_train_padded)\n",
    "np.save('X_test_padded', X_test_padded)"
   ]
  },
  {
   "cell_type": "code",
   "execution_count": null,
   "id": "9f5ca955",
   "metadata": {},
   "outputs": [],
   "source": [
    "# create the model\n",
    "model1 = models.Sequential()\n",
    "model1.add(Embedding(input_dim=num_classes, output_dim=64, input_length=max_sequence_length)) #convert amino acid sequences into dense vectors (captures sequential relationships between characters)\n",
    "model1.add(LSTM(units=128)) #recurrent neural netowrk  processes embedded sequences and extracts relevant features/patterns\n",
    "model1.add(Dense(units=num_classes, activation='softmax')) #fully connected final layer\n",
    "\n",
    "model1.summary()"
   ]
  },
  {
   "cell_type": "code",
   "execution_count": null,
   "id": "f69f660d",
   "metadata": {},
   "outputs": [],
   "source": [
    "# compile the model\n",
    "model1.compile(loss='sparse_categorical_crossentropy', #common when more than two categories\n",
    "               optimizer='adam', #efficient and effective for deep learning tasks\n",
    "               metrics=['accuracy']) #represents % of correctly predicted samples; common for classification\n"
   ]
  },
  {
   "cell_type": "code",
   "execution_count": null,
   "id": "2a4adeb1",
   "metadata": {},
   "outputs": [],
   "source": [
    "# train the model for 10 epochs\n",
    "model1.fit(X_train_padded, y_train, validation_data=(X_test_padded, y_test), epochs=10, batch_size=32)"
   ]
  },
  {
   "cell_type": "code",
   "execution_count": null,
   "id": "6f7777e9",
   "metadata": {},
   "outputs": [],
   "source": [
    "# evaluate the model on the testing data\n",
    "loss, accuracy = model1.evaluate(X_test_padded, y_test)\n",
    "\n",
    "print(\"Test Loss:\", loss)\n",
    "print(\"Test Accuracy:\", accuracy)"
   ]
  },
  {
   "cell_type": "code",
   "execution_count": null,
   "id": "7e94ac8f",
   "metadata": {},
   "outputs": [],
   "source": [
    "# train the model for 100 epochs\n",
    "n_epochs = 100\n",
    "\n",
    "history1 = model1.fit(X_train_padded,\n",
    "                       y_train,\n",
    "                       epochs = n_epochs,\n",
    "                       batch_size = 25,\n",
    "                       validation_data = (X_test_padded, \n",
    "                                          y_test))\n",
    "\n",
    "history1.history()"
   ]
  },
  {
   "cell_type": "code",
   "execution_count": null,
   "id": "4d0173a5",
   "metadata": {},
   "outputs": [],
   "source": [
    "#plot training accuracy and validation accuracy against the epoch \n",
    "\n",
    "sns.set_style(\"whitegrid\")\n",
    "\n",
    "plt.figure(figsize=(10,5))\n",
    "\n",
    "plt.scatter(range(1,n_epochs+1), \n",
    "            history1.history['accuracy'], \n",
    "            label=\"Training Data\")\n",
    "plt.scatter(range(1,n_epochs+1), \n",
    "            history1.history['val_accuracy'], \n",
    "            marker='v',\n",
    "            label=\"Validation Data\")\n",
    "\n",
    "plt.xlabel(\"Epoch\", fontsize=12)\n",
    "plt.ylabel(\"Accuracy\", fontsize=12)\n",
    "\n",
    "\n",
    "plt.legend(fontsize=12)\n",
    "\n",
    "\n",
    "plt.show()"
   ]
  },
  {
   "cell_type": "markdown",
   "id": "9cfc1ddb",
   "metadata": {},
   "source": [
    "# keras neural network (with subset and kmers) \n",
    "reduces from 11 hours to 5 hours with kmers when keeping everything else the same as the subset section"
   ]
  },
  {
   "cell_type": "code",
   "execution_count": null,
   "id": "25fd4f82",
   "metadata": {},
   "outputs": [],
   "source": [
    "import numpy as np\n",
    "import tensorflow as tf\n",
    "from sklearn.model_selection import train_test_split\n",
    "from sklearn.preprocessing import LabelEncoder\n",
    "from keras import models\n",
    "from keras.models import Sequential\n",
    "from keras.layers import Dense, Embedding, LSTM"
   ]
  },
  {
   "cell_type": "code",
   "execution_count": null,
   "id": "c50a430b",
   "metadata": {},
   "outputs": [],
   "source": [
    "# subset the data (when on my PC)\n",
    "# minimize the time it takes to assign numbers to amino acid characters\n",
    "# and prevent memory issues with padding sequences\n",
    "subset_size = 2000\n",
    "random_indices = np.random.choice(protein_train.index, size=subset_size, replace=False)\n",
    "X_train_subset = protein_train.loc[random_indices, 'sequence']\n",
    "y_train_subset = protein_train.loc[random_indices, 'term']\n"
   ]
  },
  {
   "cell_type": "code",
   "execution_count": null,
   "id": "debe7f95",
   "metadata": {},
   "outputs": [],
   "source": [
    "# label encoding to transform the target variable from categorical to numeric data\n",
    "label_encoder = LabelEncoder()\n",
    "y_train_subset = label_encoder.fit_transform(y_train_subset)"
   ]
  },
  {
   "cell_type": "code",
   "execution_count": null,
   "id": "8b6440b3",
   "metadata": {},
   "outputs": [],
   "source": [
    "# split the data into training and testing sets\n",
    "X_train, X_test, y_train, y_test = train_test_split(X_train_subset, y_train_subset, test_size=0.2, random_state=420)\n"
   ]
  },
  {
   "cell_type": "code",
   "execution_count": null,
   "id": "b54b635b",
   "metadata": {},
   "outputs": [],
   "source": [
    "# convert the sequences into numeric representation using k-mers\n",
    "k = 3\n",
    "def convert_sequence_to_kmers(sequence, k):\n",
    "    kmers = [sequence[i:i+k] for i in range(len(sequence)-k+1)]\n",
    "    return kmers\n",
    "\n",
    "def convert_kmers_to_int(kmers):\n",
    "    kmers_to_int = {}\n",
    "    int_value = 0\n",
    "    encoded_sequence = []\n",
    "    for kmer in kmers:\n",
    "        if kmer not in kmers_to_int:\n",
    "            kmers_to_int[kmer] = int_value\n",
    "            int_value += 1\n",
    "        encoded_sequence.append(kmers_to_int[kmer])\n",
    "    return encoded_sequence\n",
    "\n",
    "X_train_encoded = [convert_kmers_to_int(convert_sequence_to_kmers(seq, k)) for seq in X_train]\n",
    "X_train_encoded = np.array(X_train_encoded)\n",
    "\n",
    "X_test_encoded = [convert_kmers_to_int(convert_sequence_to_kmers(seq, k)) for seq in X_test]\n",
    "X_test_encoded = np.array(X_test_encoded)"
   ]
  },
  {
   "cell_type": "code",
   "execution_count": null,
   "id": "d66e829a",
   "metadata": {},
   "outputs": [],
   "source": [
    "# pad sequences to have the same length using zeros\n",
    "max_sequence_length = max(len(seq) for seq in X_train_encoded)\n",
    "num_classes = len(label_encoder.classes_)\n",
    "\n",
    "X_train_padded = np.zeros((X_train_encoded.shape[0], max_sequence_length), dtype=np.int32)\n",
    "for i, seq in enumerate(X_train_encoded):\n",
    "    X_train_padded[i, :len(seq)] = seq\n",
    "\n",
    "X_test_padded = np.zeros((X_test_encoded.shape[0], max_sequence_length), dtype=np.int32)\n",
    "for i, seq in enumerate(X_test_encoded):\n",
    "    X_test_padded[i, :len(seq)] = seq\n"
   ]
  },
  {
   "cell_type": "code",
   "execution_count": null,
   "id": "4b42f71b",
   "metadata": {},
   "outputs": [],
   "source": [
    "# create the model\n",
    "model1 = models.Sequential()\n",
    "model1.add(Embedding(input_dim=np.max(X_train_padded) + 1, output_dim=64, input_length=max_sequence_length))\n",
    "model1.add(LSTM(units=128)) #can reduce this to save some computational time, but 128 --> 32 only sav4ed ~40 min in this model\n",
    "model1.add(Dense(units=num_classes, activation='softmax'))\n",
    "\n",
    "model1.summary()"
   ]
  },
  {
   "cell_type": "code",
   "execution_count": null,
   "id": "51dfa8be",
   "metadata": {},
   "outputs": [],
   "source": [
    "# compile the model\n",
    "model1.compile(loss='sparse_categorical_crossentropy', optimizer='adam', metrics=['accuracy'])"
   ]
  },
  {
   "cell_type": "code",
   "execution_count": null,
   "id": "82f835d0",
   "metadata": {},
   "outputs": [],
   "source": [
    "# train the model for 1 epoch to start\n",
    "model1.fit(X_train_padded, y_train, validation_data=(X_test_padded, y_test), epochs=1, batch_size=4)\n"
   ]
  },
  {
   "cell_type": "code",
   "execution_count": null,
   "id": "37bc5f0e",
   "metadata": {},
   "outputs": [],
   "source": [
    "# evaluate the model on the testing data\n",
    "loss, accuracy = model1.evaluate(X_test_padded, y_test)\n",
    "\n",
    "print(\"Test Loss:\", loss)\n",
    "print(\"Test Accuracy:\", accuracy)"
   ]
  },
  {
   "cell_type": "markdown",
   "id": "ebbc6cb1",
   "metadata": {},
   "source": [
    "# keras neural network (with GPU support)\n",
    "\n",
    "make sure the tensorflow package is installed with GPU support\n",
    "- pip install tensorflow-gpu\n",
    "\n",
    "for NVIDIA processor, may also have to do the following before installing tensorflow-gpu:\n",
    "- update driver (https://www.nvidia.com/drivers)\n",
    "- install CUDA kit (https://developer.nvidia.com/cuda-toolkit)\n",
    "- install CUDA and cudnn kits (pip install nvidia-cudnn-cu11==8.6.0.163)\n",
    "\n",
    "couldn't get the package to work :()"
   ]
  }
 ],
 "metadata": {
  "kernelspec": {
   "display_name": "Python 3 (ipykernel)",
   "language": "python",
   "name": "python3"
  },
  "language_info": {
   "codemirror_mode": {
    "name": "ipython",
    "version": 3
   },
   "file_extension": ".py",
   "mimetype": "text/x-python",
   "name": "python",
   "nbconvert_exporter": "python",
   "pygments_lexer": "ipython3",
   "version": "3.10.9"
  }
 },
 "nbformat": 4,
 "nbformat_minor": 5
}
